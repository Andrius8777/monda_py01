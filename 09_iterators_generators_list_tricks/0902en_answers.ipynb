{
 "cells": [
  {
   "cell_type": "markdown",
   "metadata": {},
   "source": [
    "# `Quick Assignment 1: Basic Iterator`"
   ]
  },
  {
   "cell_type": "code",
   "execution_count": null,
   "metadata": {},
   "outputs": [],
   "source": [
    "# Create a list of favorite fruits\n",
    "favorite_fruits = [\"apple\", \"banana\", \"orange\", \"grape\", \"kiwi\"]\n",
    "\n",
    "# Create an iterator object for the list\n",
    "fruit_iterator = iter(favorite_fruits)\n",
    "\n",
    "# Iterate over the iterator using next() method and print each fruit\n",
    "try:\n",
    "    print(next(fruit_iterator))\n",
    "    print(next(fruit_iterator))\n",
    "    print(next(fruit_iterator))\n",
    "    print(next(fruit_iterator))\n",
    "    print(next(fruit_iterator))\n",
    "    print(next(fruit_iterator))  # Raises StopIteration exception\n",
    "except StopIteration:\n",
    "    print(\"Iteration finished\")\n"
   ]
  },
  {
   "cell_type": "markdown",
   "metadata": {},
   "source": [
    "# `Quick Assignment 2: Iterator with \"for\" Loop`"
   ]
  },
  {
   "cell_type": "code",
   "execution_count": null,
   "metadata": {},
   "outputs": [],
   "source": [
    "# Create a dictionary of programming languages and their popularity\n",
    "programming_languages = {\"Python\": 1, \"JavaScript\": 2, \"Java\": 3, \"C#\": 4}\n",
    "\n",
    "# Iterate over the dictionary using a for loop\n",
    "for language, popularity in programming_languages.items():\n",
    "    print(language, popularity)\n"
   ]
  },
  {
   "cell_type": "markdown",
   "metadata": {},
   "source": [
    "# `Quick Assignment 3: Iterator with \"while\" Loop`"
   ]
  },
  {
   "cell_type": "code",
   "execution_count": null,
   "metadata": {},
   "outputs": [],
   "source": [
    "# Create a set of favorite colors\n",
    "favorite_colors = {\"red\", \"blue\", \"green\", \"yellow\", \"purple\"}\n",
    "\n",
    "# Create an iterator object for the set\n",
    "color_iterator = iter(favorite_colors)\n",
    "\n",
    "# Iterate over the iterator using a while loop and print each color\n",
    "while True:\n",
    "    try:\n",
    "        color = next(color_iterator)\n",
    "        print(color)\n",
    "    except StopIteration:\n",
    "        break\n"
   ]
  },
  {
   "cell_type": "markdown",
   "metadata": {},
   "source": [
    "# `Quick Assignment 4: Basic Generator Function`"
   ]
  },
  {
   "cell_type": "code",
   "execution_count": null,
   "metadata": {},
   "outputs": [],
   "source": [
    "# Write a generator function that yields square numbers up to 5\n",
    "def squares_up_to_5():\n",
    "    for num in range(5):\n",
    "        yield num ** 2\n",
    "\n",
    "# Create a generator object using the function\n",
    "square_generator = squares_up_to_5()\n",
    "\n",
    "# Iterate over the generator and print each square number\n",
    "for square in square_generator:\n",
    "    print(square)\n"
   ]
  },
  {
   "cell_type": "markdown",
   "metadata": {},
   "source": [
    "# `Quick Assignment 5: Generator with \"next()\"`"
   ]
  },
  {
   "cell_type": "code",
   "execution_count": null,
   "metadata": {},
   "outputs": [],
   "source": [
    "# Write a generator function that yields even numbers up to 8\n",
    "def even_numbers_up_to_8():\n",
    "    for num in range(0, 9, 2):\n",
    "        yield num\n",
    "\n",
    "# Create a generator object using the function\n",
    "even_generator = even_numbers_up_to_8()\n",
    "\n",
    "# Use the next() function to print the first three even numbers\n",
    "print(next(even_generator))\n",
    "print(next(even_generator))\n",
    "print(next(even_generator))\n"
   ]
  },
  {
   "cell_type": "markdown",
   "metadata": {},
   "source": [
    "# `Quick Assignment 6: Generator Declaration`"
   ]
  },
  {
   "cell_type": "code",
   "execution_count": null,
   "metadata": {},
   "outputs": [],
   "source": [
    "# Create a generator expression that generates cube numbers up to 4\n",
    "cube_generator = (num ** 3 for num in range(4))\n",
    "\n",
    "# Iterate over the generator and print each cube number\n",
    "for cube in cube_generator:\n",
    "    print(cube)\n"
   ]
  },
  {
   "cell_type": "markdown",
   "metadata": {},
   "source": [
    "# `Bonus Assignment: Custom Iterator`"
   ]
  },
  {
   "cell_type": "code",
   "execution_count": null,
   "metadata": {},
   "outputs": [],
   "source": [
    "class MyRange:\n",
    "    def __init__(self, start, end):\n",
    "        self.current = start\n",
    "        self.end = end\n",
    "\n",
    "    def __iter__(self):\n",
    "        return self\n",
    "\n",
    "    def __next__(self):\n",
    "        if self.current < self.end:\n",
    "            result = self.current\n",
    "            self.current += 1\n",
    "            return result\n",
    "        else:\n",
    "            raise StopIteration\n",
    "\n",
    "# Use the custom iterator to iterate over a range of numbers and print each value\n",
    "custom_range = MyRange(2, 6)\n",
    "for num in custom_range:\n",
    "    print(num)\n"
   ]
  }
 ],
 "metadata": {
  "kernelspec": {
   "display_name": "Python 3",
   "language": "python",
   "name": "python3"
  },
  "language_info": {
   "codemirror_mode": {
    "name": "ipython",
    "version": 3
   },
   "file_extension": ".py",
   "mimetype": "text/x-python",
   "name": "python",
   "nbconvert_exporter": "python",
   "pygments_lexer": "ipython3",
   "version": "3.10.6"
  }
 },
 "nbformat": 4,
 "nbformat_minor": 2
}
