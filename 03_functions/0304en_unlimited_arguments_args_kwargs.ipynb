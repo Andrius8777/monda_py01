{
 "cells": [
  {
   "cell_type": "markdown",
   "metadata": {},
   "source": [
    "# Unlimited Arguments *args and **kwargs\n",
    "\n",
    "`*args` is a special Python syntax element that allows you to pass any number of positional arguments to a function. `*args` creates a tuple from all the passed positional arguments, which can be used like any other tuple."
   ]
  },
  {
   "cell_type": "markdown",
   "metadata": {},
   "source": [
    "**Example:**"
   ]
  },
  {
   "cell_type": "code",
   "execution_count": null,
   "metadata": {},
   "outputs": [],
   "source": [
    "def print_args(*args):\n",
    "    for arg in args:\n",
    "        print(arg)\n",
    "\n",
    "print_args(1, 2, 3, \"Hello\", \"World\")"
   ]
  },
  {
   "cell_type": "markdown",
   "metadata": {},
   "source": [
    "Example of a summation function using `*args`:"
   ]
  },
  {
   "cell_type": "code",
   "execution_count": null,
   "metadata": {},
   "outputs": [],
   "source": [
    "def sum_values(*args):\n",
    "    total = 0\n",
    "    for i in args:\n",
    "        total += i\n",
    "    return total\n",
    "\n",
    "print(sum_values(1, 2, 3))  # 6\n",
    "print(sum_values(4, 5, 6, 7))  # 22\n"
   ]
  },
  {
   "cell_type": "markdown",
   "metadata": {},
   "source": [
    "A function that combines and prints all `*args` elements:"
   ]
  },
  {
   "cell_type": "code",
   "execution_count": null,
   "metadata": {},
   "outputs": [],
   "source": [
    "def combine(*args):\n",
    "    combined = \"\"\n",
    "    for arg in args:\n",
    "        combined += str(arg)\n",
    "    print(combined)\n",
    "\n",
    "combine(\"Hello\", \" \", \"World\")  # Hello World\n",
    "combine(1, 2, 3, 4)  # 1234"
   ]
  },
  {
   "cell_type": "markdown",
   "metadata": {},
   "source": [
    "A function that returns all `*args` elements that are greater than a specified number:"
   ]
  },
  {
   "cell_type": "code",
   "execution_count": null,
   "metadata": {},
   "outputs": [],
   "source": [
    "def greater_than(number, *args):\n",
    "    greater_elements = []\n",
    "    for arg in args:\n",
    "        if arg > number:\n",
    "            greater_elements.append(arg)\n",
    "    return greater_elements\n",
    "\n",
    "print(greater_than(3, 1, 2, 3, 4, 5))  # [4, 5]\n",
    "print(greater_than(10, 1, 2, 3, 4, 5))  # []"
   ]
  },
  {
   "cell_type": "markdown",
   "metadata": {},
   "source": [
    "A function that returns the length of each `*args` element as a list:"
   ]
  },
  {
   "cell_type": "code",
   "execution_count": null,
   "metadata": {},
   "outputs": [],
   "source": [
    "def string_lengths(*args):\n",
    "    lengths = []\n",
    "    for arg in args:\n",
    "        length = len(str(arg))\n",
    "        lengths.append(length)\n",
    "    return lengths\n",
    "\n",
    "print(string_lengths(\"Hello\", \"World\"))  # [5, 5]\n",
    "print(string_lengths(123, 4567, 89))  # [3, 4, 2]"
   ]
  },
  {
   "cell_type": "markdown",
   "metadata": {},
   "source": [
    "# `Quick Assignment 1: *args Practice`\n",
    "\n",
    "1. Create a Python function called `calculate_total` that takes an arbitrary number of arguments representing prices of items. \n",
    "1. Calculate and `return` the total price of all items."
   ]
  },
  {
   "cell_type": "code",
   "execution_count": null,
   "metadata": {},
   "outputs": [],
   "source": [
    "# Example usage:\n",
    "item_prices = [10.99, 5.49, 7.25, 3.99]"
   ]
  },
  {
   "cell_type": "code",
   "execution_count": null,
   "metadata": {},
   "outputs": [],
   "source": [
    "# your code here"
   ]
  },
  {
   "cell_type": "markdown",
   "metadata": {},
   "source": [
    "##### `**kwargs` is another special Python syntax element that allows you to pass a set of \"key-value\" pairs to a function as a dictionary.\n",
    "\n",
    "**Example:**"
   ]
  },
  {
   "cell_type": "code",
   "execution_count": null,
   "metadata": {},
   "outputs": [],
   "source": [
    "def print_kwargs(**kwargs):\n",
    "    for key, value in kwargs.items():\n",
    "        print(f\"{key}: {value}\")\n",
    "\n",
    "print_kwargs(name=\"John\", age=30, city=\"London\")\n"
   ]
  },
  {
   "cell_type": "markdown",
   "metadata": {},
   "source": [
    "Example: a function called \"calculate\" that prints a list of products from `**products` elements and sums their prices. Here, we also demonstrate that `**kwargs` can be named according to your preference."
   ]
  },
  {
   "cell_type": "code",
   "execution_count": null,
   "metadata": {},
   "outputs": [],
   "source": [
    "def calculate(**products):\n",
    "    total = 0\n",
    "    for product, price in products.items():\n",
    "        total += price\n",
    "        print(f\"{product}: {price:.2f}€\")\n",
    "    print(f\"Total: {total:.2f}€\")\n",
    "\n",
    "calculate(milk=2, flour=1, eggs=3)"
   ]
  },
  {
   "cell_type": "markdown",
   "metadata": {},
   "source": [
    "- In some situations, you may need a function that accepts both positional arguments and arguments not defined in the function declaration. Such functions can be created using `*args` and `**kwargs` together with regular arguments.\n",
    "\n",
    "**Example:**"
   ]
  },
  {
   "cell_type": "code",
   "execution_count": null,
   "metadata": {},
   "outputs": [],
   "source": [
    "def print_arguments(name, *args, **kwargs):\n",
    "    print(f\"Name: {name}\")\n",
    "    for key, value in kwargs.items():\n",
    "        print(f\"{key}: {value}\")\n",
    "    for arg in args:\n",
    "        print(arg)\n",
    "\n",
    "print_arguments(\"John\", \"cheerful\", \"friendly\", \"brave\", city=\"London\", age=30)"
   ]
  },
  {
   "cell_type": "markdown",
   "metadata": {},
   "source": [
    "# `Quick Assignment 2: kwargs Practice`\n",
    "\n",
    "1. Write a Python function called `print_contact_info` that takes a person's contact information as keyword arguments (`name`, `email`, `phone`) and prints each piece of information on separate lines.\n",
    "\n",
    "Example:"
   ]
  },
  {
   "cell_type": "code",
   "execution_count": null,
   "metadata": {},
   "outputs": [],
   "source": [
    "# print_contact_info(name=\"Alice\", email=\"alice@example.com\", phone=\"555-123-4567\")\n",
    "\n",
    "# This should print:\n",
    "\n",
    "# Name: Alice\n",
    "# Email: alice@example.com\n",
    "# Phone: 555-123-4567"
   ]
  },
  {
   "cell_type": "code",
   "execution_count": null,
   "metadata": {},
   "outputs": [],
   "source": [
    "# your code here"
   ]
  },
  {
   "cell_type": "markdown",
   "metadata": {},
   "source": [
    "# `Bonus Assignment: Custom Function`\n",
    "\n",
    "Create a Python function called `custom_function` that takes in a person's name as a required positional argument, followed by an arbitrary number of additional characteristics as positional arguments. Additionally, allow the function to accept any number of keyword arguments representing personal information.\n",
    "\n",
    "The function should print out the person's name and then display all the additional characteristics as a list. It should also print out the provided personal information as key-value pairs.\n",
    "\n",
    "Here's the expected behavior of the `custom_function`:\n",
    "\n",
    "1. Print the person's `name`.\n",
    "1. Print a list of all the `additional characteristics` provided as positional arguments.\n",
    "1. Print out the provided `personal information` as key-value pairs from the keyword arguments.\n",
    "\n",
    "Here's an example of how the function should be used:"
   ]
  },
  {
   "cell_type": "code",
   "execution_count": null,
   "metadata": {},
   "outputs": [],
   "source": [
    "## Example usage of the custom_function:\n",
    "\n",
    "# custom_function(\"Alice\", \"friendly\", \"creative\", age=25, city=\"New York\", occupation=\"Artist\")\n",
    "\n",
    "\n",
    "## Expected Output:\n",
    "\n",
    "# Name: Alice\n",
    "# Additional Characteristics: ['friendly', 'creative']\n",
    "# Personal Information:\n",
    "# age: 25\n",
    "# city: New York\n",
    "# occupation: Artist\n"
   ]
  },
  {
   "cell_type": "markdown",
   "metadata": {},
   "source": [
    "Your task is to implement the `custom_function` following the specifications above. Be sure to use `*args` and `**kwargs` appropriately. Test the function with different sets of arguments and keyword arguments to ensure it works as expected.\n",
    "\n",
    "Submit the Python code for the `custom_function` along with a few examples demonstrating its usage."
   ]
  },
  {
   "cell_type": "code",
   "execution_count": null,
   "metadata": {},
   "outputs": [],
   "source": [
    "# Your code here"
   ]
  },
  {
   "cell_type": "markdown",
   "metadata": {},
   "source": [
    "##### So, `*args` allows you to pass an unlimited number of positional arguments, while `**kwargs` allows you to pass an unlimited number of keyword arguments, consisting of keys and values. You can combine these elements with regular arguments in functions to achieve greater functionality and flexibility."
   ]
  }
 ],
 "metadata": {
  "kernelspec": {
   "display_name": "Python 3",
   "language": "python",
   "name": "python3"
  },
  "language_info": {
   "codemirror_mode": {
    "name": "ipython",
    "version": 3
   },
   "file_extension": ".py",
   "mimetype": "text/x-python",
   "name": "python",
   "nbconvert_exporter": "python",
   "pygments_lexer": "ipython3",
   "version": "3.10.6"
  },
  "orig_nbformat": 4
 },
 "nbformat": 4,
 "nbformat_minor": 2
}
