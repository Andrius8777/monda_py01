{
 "cells": [
  {
   "cell_type": "markdown",
   "metadata": {},
   "source": [
    "# Optional Arguments with Default Values\n",
    "\n",
    "Optional arguments with default values allow you to specify default values for function arguments that can be left out when calling the function. This provides flexibility when creating functions.\n",
    "\n",
    "**Example:**"
   ]
  },
  {
   "cell_type": "code",
   "execution_count": 1,
   "metadata": {},
   "outputs": [],
   "source": [
    "def greet(name, greeting=\"Hello\"):\n",
    "    print(greeting + \", \" + name)"
   ]
  },
  {
   "cell_type": "markdown",
   "metadata": {},
   "source": [
    "In this function, `name` is a required (mandatory) argument, and `greeting` is an optional argument with a default value of \"Hello\". When you call the function with both arguments, it uses the values you provide. When you call it with only the required argument, it uses the default value for the optional argument."
   ]
  },
  {
   "cell_type": "code",
   "execution_count": null,
   "metadata": {},
   "outputs": [],
   "source": [
    "greet(\"John\", \"Hi\")  # Output: Hi, John\n",
    "greet(\"Anna\")        # Output: Hello, Anna"
   ]
  },
  {
   "cell_type": "markdown",
   "metadata": {},
   "source": [
    "**Another Example:**"
   ]
  },
  {
   "cell_type": "code",
   "execution_count": null,
   "metadata": {},
   "outputs": [],
   "source": [
    "def calculate_price(item_name, price, discount=0, tax=21):\n",
    "    price_with_discount = price * (1 - discount / 100)\n",
    "    price_with_tax = price_with_discount * (1 + tax / 100)\n",
    "    print(f\"{item_name} - price with discount and tax: {price_with_tax:.2f}€\")\n"
   ]
  },
  {
   "cell_type": "markdown",
   "metadata": {},
   "source": [
    "In this function, `item_name` and `price` are required arguments, while `discount` and `tax` are optional arguments with default values. If you don't provide values for `discount` and `tax` when calling the function, it will use the default values (0 and 21, respectively).\n",
    "\n",
    "**Examples:**"
   ]
  },
  {
   "cell_type": "code",
   "execution_count": null,
   "metadata": {},
   "outputs": [],
   "source": [
    "calculate_price(\"Apple\", 1.00, 10, 5)\n",
    "# Output: Apple - price with discount and tax: 0.95€\n",
    "\n",
    "calculate_price(\"Avocado\", 1.20, tax=10)\n",
    "# Output: Avocado - price with discount and tax: 1.32€\n",
    "\n",
    "calculate_price(\"Milk\", 2)\n",
    "# Output: Milk - price with discount and tax: 2.42€"
   ]
  },
  {
   "cell_type": "markdown",
   "metadata": {},
   "source": [
    "This function calculates the final price of an item with discounts and taxes, using the provided `price`, `discount`, and `tax` arguments. If `discount` and `tax` are not specified when calling the function, their default values are used (0 and 21, respectively)."
   ]
  },
  {
   "cell_type": "markdown",
   "metadata": {},
   "source": [
    "# `Quick Assignment 1: Calculate Shipping Cost`\n",
    "\n",
    "**Objective**: Create a Python function to calculate shipping costs based on distance, weight, and a rate per kilogram.\n",
    "\n",
    "**Instructions**:\n",
    "\n",
    "1. Create a function named `calculate_shipping_cost` that takes three arguments:\n",
    "\n",
    "- `distance` (required): The distance in kilometers.\n",
    "- `weight` (optional, default value 1 kg): The weight in kilograms.\n",
    "- `rate_per_kg` (optional, default value 5 €/kg): The cost per kilogram for shipping.\n",
    "1. Inside the function, calculate the shipping cost as `distance * weight * rate_per_kg`.\n",
    "\n",
    "1. Print the calculated shipping cost rounded to two decimal places using an f-string. For example: \"Shipping cost: {shipping_cost:.2f} €.\"\n",
    "\n",
    "1. Test the function with at least three different calls, both with and without specifying `weight` and `rate_per_kg`."
   ]
  },
  {
   "cell_type": "code",
   "execution_count": null,
   "metadata": {},
   "outputs": [],
   "source": [
    "# your code here"
   ]
  },
  {
   "cell_type": "markdown",
   "metadata": {},
   "source": [
    "# Passing Arguments by Name\n",
    "\n",
    "Passing arguments by name means specifying which value goes to which argument when calling a function.\n",
    "\n",
    "**Example**:"
   ]
  },
  {
   "cell_type": "code",
   "execution_count": null,
   "metadata": {},
   "outputs": [],
   "source": [
    "def calculate(operation, x, y):\n",
    "    if operation == \"add\":\n",
    "        return x + y\n",
    "    elif operation == \"subtract\":\n",
    "        return x - y\n",
    "    elif operation == \"multiply\":\n",
    "        return x * y\n",
    "    elif operation == \"divide\":\n",
    "        return x / y\n",
    "\n",
    "# When calling the calculate function, explicitly name the arguments\n",
    "result = calculate(operation=\"add\", x=2, y=3)\n",
    "print(result)  # Output: 5"
   ]
  },
  {
   "cell_type": "markdown",
   "metadata": {},
   "source": [
    "In this function, there are three required arguments: `operation`, x, and `y`. When you call the function, you can specify the name of the argument followed by = and assign the value you want to pass to the function. This ensures that each argument is passed correctly, avoiding errors."
   ]
  },
  {
   "cell_type": "markdown",
   "metadata": {},
   "source": [
    "# `Quick Assignment 2: Passing Arguments by Name`\n",
    "\n",
    "**Objective**: The objective of this assignment is to understand and practice passing arguments by name in Python functions.\n",
    "\n",
    "**Instructions:**\n",
    "\n",
    "1. Create a Python function named `calculate_math` that takes three arguments:\n",
    "\n",
    "- `operation` (required): A string representing the math operation (\"add\", \"subtract\", \"multiply\", or \"divide\").\n",
    "- `num1` (required): The first number.\n",
    "- `num2` (required): The second number.\n",
    "1. Inside the function, implement the specified math operation based on the value of the `operation` argument and return the result.\n",
    "\n",
    "1. Print the result with a descriptive message. For example, if `operation` is \"add\", the message could be: \"The result of adding {num1} and {num2} is {result}.\"\n",
    "\n",
    "1. Test the function with at least four different calls, specifying the `operation` by name.\n",
    "\n",
    "**Example Calls:**"
   ]
  },
  {
   "cell_type": "code",
   "execution_count": null,
   "metadata": {},
   "outputs": [],
   "source": [
    "# calculate_math(operation=\"add\", num1=2, num2=3)\n",
    "# calculate_math(operation=\"subtract\", num1=10, num2=4)\n",
    "# calculate_math(operation=\"multiply\", num1=5, num2=7)\n",
    "# calculate_math(operation=\"divide\", num1=15, num2=3)"
   ]
  },
  {
   "cell_type": "markdown",
   "metadata": {},
   "source": [
    "Expected Output (for the above example calls):"
   ]
  },
  {
   "cell_type": "code",
   "execution_count": null,
   "metadata": {},
   "outputs": [],
   "source": [
    "# The result of adding 2 and 3 is 5.\n",
    "# The result of subtracting 10 and 4 is 6.\n",
    "# The result of multiplying 5 and 7 is 35.\n",
    "# The result of dividing 15 and 3 is 5.0."
   ]
  },
  {
   "cell_type": "code",
   "execution_count": null,
   "metadata": {},
   "outputs": [],
   "source": [
    "# Your code here"
   ]
  },
  {
   "cell_type": "markdown",
   "metadata": {},
   "source": [
    "# `Bonus Assignment: Create a Personal Information Card`\n",
    "\n",
    "**Objective**: The objective of this assignment is to create a Python function to generate a personal information card with optional details.\n",
    "\n",
    "**Instructions**:\n",
    "\n",
    "1. Create a Python function named `generate_info_card` that takes the following arguments:\n",
    "`name` (required): The person's name.\n",
    "`age` (optional, default value 25): The person's age.\n",
    "`city` (optional, default value \"Unknown\"): The person's city.\n",
    "`country` (optional, default value \"Unknown\"): The person's country.\n",
    "1. Inside the function, construct an information card using the provided details and return it as a string.\n",
    "\n",
    "1. Print the information card with a formatted message. For example:"
   ]
  },
  {
   "cell_type": "code",
   "execution_count": null,
   "metadata": {},
   "outputs": [],
   "source": [
    "# Information Card:\n",
    "# Name: John\n",
    "# Age: 30\n",
    "# City: New York\n",
    "# Country: USA"
   ]
  },
  {
   "cell_type": "markdown",
   "metadata": {},
   "source": [
    "4. Test the function with at least three different calls, specifying some arguments by name and leaving others to use their default values.\n",
    "\n",
    "**Example Calls**:"
   ]
  },
  {
   "cell_type": "code",
   "execution_count": null,
   "metadata": {},
   "outputs": [],
   "source": [
    "# generate_info_card(name=\"Alice\", age=28, city=\"London\", country=\"UK\")\n",
    "# generate_info_card(name=\"Bob\", age=35)\n",
    "# generate_info_card(name=\"Eve\", country=\"Canada\")"
   ]
  },
  {
   "cell_type": "markdown",
   "metadata": {},
   "source": [
    "**Expected Output (for the above example calls)**:"
   ]
  },
  {
   "cell_type": "code",
   "execution_count": null,
   "metadata": {},
   "outputs": [],
   "source": [
    "# Information Card:\n",
    "# Name: Alice\n",
    "# Age: 28\n",
    "# City: London\n",
    "# Country: UK\n",
    "\n",
    "# Information Card:\n",
    "# Name: Bob\n",
    "# Age: 35\n",
    "# City: Unknown\n",
    "# Country: Unknown\n",
    "\n",
    "# Information Card:\n",
    "# Name: Eve\n",
    "# Age: 25\n",
    "# City: Unknown\n",
    "# Country: Canada\n"
   ]
  }
 ],
 "metadata": {
  "kernelspec": {
   "display_name": "Python 3",
   "language": "python",
   "name": "python3"
  },
  "language_info": {
   "codemirror_mode": {
    "name": "ipython",
    "version": 3
   },
   "file_extension": ".py",
   "mimetype": "text/x-python",
   "name": "python",
   "nbconvert_exporter": "python",
   "pygments_lexer": "ipython3",
   "version": "3.10.6"
  },
  "orig_nbformat": 4
 },
 "nbformat": 4,
 "nbformat_minor": 2
}
