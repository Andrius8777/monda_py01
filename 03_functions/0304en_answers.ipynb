{
 "cells": [
  {
   "cell_type": "markdown",
   "metadata": {},
   "source": [
    "# `Quick Assignment 1: *args Practice`"
   ]
  },
  {
   "cell_type": "code",
   "execution_count": 4,
   "metadata": {},
   "outputs": [
    {
     "name": "stdout",
     "output_type": "stream",
     "text": [
      "Total Price: $27.72\n"
     ]
    }
   ],
   "source": [
    "def calculate_total(*args):\n",
    "    total = sum(args)\n",
    "    return total\n",
    "\n",
    "# Example usage:\n",
    "item_prices = [10.99, 5.49, 7.25, 3.99]\n",
    "\n",
    "total_price = calculate_total(*item_prices)\n",
    "print(f\"Total Price: ${total_price:.2f}\")"
   ]
  },
  {
   "cell_type": "markdown",
   "metadata": {},
   "source": [
    "# `Quick Assignment 2: **kwargs Practice`"
   ]
  },
  {
   "cell_type": "code",
   "execution_count": 5,
   "metadata": {},
   "outputs": [
    {
     "name": "stdout",
     "output_type": "stream",
     "text": [
      "Name: John Doe\n",
      "Email: johndoe@example.com\n",
      "Phone: 555-123-4567\n"
     ]
    }
   ],
   "source": [
    "def print_contact_info(**kwargs):\n",
    "    if 'name' in kwargs:\n",
    "        print(f\"Name: {kwargs['name']}\")\n",
    "    if 'email' in kwargs:\n",
    "        print(f\"Email: {kwargs['email']}\")\n",
    "    if 'phone' in kwargs:\n",
    "        print(f\"Phone: {kwargs['phone']}\")\n",
    "\n",
    "# Example usage:\n",
    "contact_info = {\n",
    "    'name': 'John Doe',\n",
    "    'email': 'johndoe@example.com',\n",
    "    'phone': '555-123-4567'\n",
    "}\n",
    "\n",
    "print_contact_info(**contact_info)"
   ]
  },
  {
   "cell_type": "markdown",
   "metadata": {},
   "source": [
    "# `Bonus Assignment: Custom Function`"
   ]
  },
  {
   "cell_type": "code",
   "execution_count": 6,
   "metadata": {},
   "outputs": [
    {
     "name": "stdout",
     "output_type": "stream",
     "text": [
      "Name: Alice\n",
      "Additional Characteristics: ['friendly', 'creative']\n",
      "Personal Information:\n",
      "age: 25\n",
      "city: New York\n",
      "occupation: Artist\n"
     ]
    }
   ],
   "source": [
    "def custom_function(name, *args, **kwargs):\n",
    "    # Print the person's name\n",
    "    print(f\"Name: {name}\")\n",
    "\n",
    "    # Print a list of additional characteristics provided as positional arguments\n",
    "    if args:\n",
    "        print(\"Additional Characteristics:\", list(args))\n",
    "\n",
    "    # Print the provided personal information as key-value pairs from keyword arguments\n",
    "    if kwargs:\n",
    "        print(\"Personal Information:\")\n",
    "        for key, value in kwargs.items():\n",
    "            print(f\"{key}: {value}\")\n",
    "\n",
    "# Example usage of the custom_function\n",
    "custom_function(\"Alice\", \"friendly\", \"creative\", age=25, city=\"New York\", occupation=\"Artist\")\n"
   ]
  }
 ],
 "metadata": {
  "kernelspec": {
   "display_name": "Python 3",
   "language": "python",
   "name": "python3"
  },
  "language_info": {
   "codemirror_mode": {
    "name": "ipython",
    "version": 3
   },
   "file_extension": ".py",
   "mimetype": "text/x-python",
   "name": "python",
   "nbconvert_exporter": "python",
   "pygments_lexer": "ipython3",
   "version": "3.10.6"
  },
  "orig_nbformat": 4
 },
 "nbformat": 4,
 "nbformat_minor": 2
}
