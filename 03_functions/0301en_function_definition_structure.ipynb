{
 "cells": [
  {
   "cell_type": "markdown",
   "metadata": {},
   "source": [
    "# Function Definition Structure\n",
    "The Function Definition Structure in Python consists of using the def keyword followed by a function name and its arguments enclosed in parentheses. The function's actions are defined in an indented block beneath the function definition. Here's a short breakdown:\n",
    "\n",
    "- `def` declares a function.\n",
    "- `function_name` is the name you give to the function.\n",
    "- `arguments` are values the function accepts as input.\n",
    "- Actions of the function are specified in the indented code block below.\n",
    "Here's a concise example:"
   ]
  },
  {
   "cell_type": "code",
   "execution_count": 2,
   "metadata": {},
   "outputs": [],
   "source": [
    "def greet(name):\n",
    "    print(\"Hello,\", name)"
   ]
  },
  {
   "cell_type": "markdown",
   "metadata": {},
   "source": [
    "- In this example, `greet` is the function name, `name` is the argument, and `print(\"Hello,\", name)` is the action the function performs."
   ]
  },
  {
   "cell_type": "markdown",
   "metadata": {},
   "source": [
    "Here's an example of defining a function that takes two arguments and prints them to the console:"
   ]
  },
  {
   "cell_type": "code",
   "execution_count": 1,
   "metadata": {},
   "outputs": [],
   "source": [
    "def print_data(name, age):\n",
    "    print(\"Name:\", name)\n",
    "    print(\"Age:\", age)"
   ]
  },
  {
   "cell_type": "markdown",
   "metadata": {},
   "source": [
    "- When a function is called, you provide the arguments so that the function can perform its actions on them. \n",
    "- For instance, to call the above function and print data about a person, you would do:"
   ]
  },
  {
   "cell_type": "code",
   "execution_count": 3,
   "metadata": {},
   "outputs": [
    {
     "name": "stdout",
     "output_type": "stream",
     "text": [
      "Name: John\n",
      "Age: 25\n"
     ]
    }
   ],
   "source": [
    "print_data(\"John\", 25)"
   ]
  },
  {
   "cell_type": "markdown",
   "metadata": {},
   "source": [
    "- In this example, the arguments `\"John\"` and `25` are passed to the `print_data()` function. The function simply prints these arguments to the console; it does not return a value."
   ]
  },
  {
   "cell_type": "markdown",
   "metadata": {},
   "source": [
    "## Using `if`, `elif`, `else` in a Function"
   ]
  },
  {
   "cell_type": "markdown",
   "metadata": {},
   "source": [
    "You can use conditional statements like if, elif, and else within a function to perform different actions based on certain conditions. Here's an example:"
   ]
  },
  {
   "cell_type": "code",
   "execution_count": 4,
   "metadata": {},
   "outputs": [],
   "source": [
    "def number_type(number):\n",
    "    if type(number) == int:\n",
    "        print(\"The input is an integer.\")\n",
    "    elif type(number) == float:\n",
    "        print(\"The input is a floating-point number.\")\n",
    "    else:\n",
    "        print(\"The input is not a number.\")"
   ]
  },
  {
   "cell_type": "markdown",
   "metadata": {},
   "source": [
    "In this function, the `if` statement checks if the input is an integer, the `elif` statement checks if it's a floating-point number, and if neither condition is met, the `else` statement prints an error message.\n",
    "\n",
    "You can call this function with different inputs:"
   ]
  },
  {
   "cell_type": "code",
   "execution_count": 5,
   "metadata": {},
   "outputs": [
    {
     "name": "stdout",
     "output_type": "stream",
     "text": [
      "The input is an integer.\n",
      "The input is a floating-point number.\n",
      "The input is not a number.\n"
     ]
    }
   ],
   "source": [
    "number_type(10)\n",
    "number_type(3.14)\n",
    "number_type(\"a\")"
   ]
  },
  {
   "cell_type": "markdown",
   "metadata": {},
   "source": [
    "- In summary, a Python function is defined using the def statement, followed by the function name and its arguments. \n",
    "- You can use conditional statements within a function to perform different actions based on conditions, and functions can take any number of arguments or none at all."
   ]
  },
  {
   "cell_type": "markdown",
   "metadata": {},
   "source": [
    "# `Quick Assignment 1: Check Even or Odd`\n",
    "1. Write a function is_even_or_odd(number) that checks whether a number is even or odd and prints the corresponding message."
   ]
  },
  {
   "cell_type": "code",
   "execution_count": null,
   "metadata": {},
   "outputs": [],
   "source": [
    "# your code here\n"
   ]
  },
  {
   "cell_type": "markdown",
   "metadata": {},
   "source": [
    "# `Quick Assignment 2: Check if Positive`\n",
    "Write a function is_positive(number) that checks whether a number is positive and prints the corresponding message."
   ]
  },
  {
   "cell_type": "code",
   "execution_count": null,
   "metadata": {},
   "outputs": [],
   "source": [
    "# your code here\n"
   ]
  },
  {
   "cell_type": "markdown",
   "metadata": {},
   "source": [
    "# `Quick Assignment 3: Check if Greater Than`\n",
    "Write a function is_greater_than(number, limit) that checks whether a number is greater than a specified limit and prints the corresponding message."
   ]
  },
  {
   "cell_type": "code",
   "execution_count": null,
   "metadata": {},
   "outputs": [],
   "source": [
    "# your code here\n"
   ]
  }
 ],
 "metadata": {
  "kernelspec": {
   "display_name": "Python 3",
   "language": "python",
   "name": "python3"
  },
  "language_info": {
   "codemirror_mode": {
    "name": "ipython",
    "version": 3
   },
   "file_extension": ".py",
   "mimetype": "text/x-python",
   "name": "python",
   "nbconvert_exporter": "python",
   "pygments_lexer": "ipython3",
   "version": "3.10.6"
  },
  "orig_nbformat": 4
 },
 "nbformat": 4,
 "nbformat_minor": 2
}
