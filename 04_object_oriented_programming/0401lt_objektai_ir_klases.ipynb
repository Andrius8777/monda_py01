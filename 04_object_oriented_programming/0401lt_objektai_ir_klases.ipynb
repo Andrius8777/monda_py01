{
 "cells": [
  {
   "cell_type": "markdown",
   "metadata": {},
   "source": [
    "# Objektinio programavimo paradigma (OOP)\n",
    "\n",
    "`Objektinis programavimas (OOP)` yra programavimo paradigma, kuri padeda tvarkingai organizuoti ir struktūrizuoti kodą, modeliuojant realaus pasaulio subjektus kaip objektus. Šie objektai gali turėti savo būseną (savybes) ir elgesį (metodus). OOP yra fundamentalus konceptas programavime, suteikiantis intuityvų būdą projektuoti ir valdyti sudėtingas programinės įrangos sistemas.\n",
    "\n",
    "Objektai yra suskirstyti į mažus savarankiškus modulius, o šios savybės ir metodai yra apibrėžiami per klases, kurios veikia kaip objekto \"šablonas\". Taigi, OOP leidžia kurti programas, kurios lengviau pritaikomos, plečiamos ir prižiūrimos dėl aiškios modulinės struktūros."
   ]
  },
  {
   "cell_type": "markdown",
   "metadata": {},
   "source": [
    "## Klasės sukūrimas\n",
    "\n",
    "Klasės kūrimas yra gana paprastas procesas. Reikia naudoti žodį „`class`“, po kurio seka klasės pavadinimas. Pavyzdžiui:"
   ]
  },
  {
   "cell_type": "code",
   "execution_count": null,
   "metadata": {},
   "outputs": [],
   "source": [
    "class Automobilis:\n",
    "    marke = ''\n",
    "    modelis = ''\n",
    "    metai = ''\n",
    "    spalva = ''"
   ]
  },
  {
   "cell_type": "markdown",
   "metadata": {},
   "source": [
    ">Paaiškinimas:\n",
    "```python\n",
    "class Automobilis:\n",
    "```\n",
    ">Ši eilutė apibrėžia klasę, vadinamą „`Automobilis`“, kurioje galite pasirinkti aprašomąjį pavadinimą savo klasei.\n",
    "```python\n",
    "markė = ''\n",
    "modelis = ''\n",
    "metai = ''\n",
    "spalva = ''\n",
    "```\n",
    ">Šios klasės viduje esančios eilutės yra klasės atributai, kurie yra kintamieji, bendrai dalijami tarp visų klasės objektų. Šiuo atveju, jie inicijuojami tuščiomis eilutėmis.\n",
    "\n",
    ">Svarbu atkreipti dėmesį, kad tai nėra objektų atributai(savybės). Objektų atributai yra specifiški kiekvienam iš klasės sukurtam objektui ir juos reikia nustatyti viduje specialaus metodo, vadinamo `__init__(self)`."
   ]
  },
  {
   "cell_type": "markdown",
   "metadata": {},
   "source": [
    "## Objekto sukūrimas\n",
    "\n",
    "Norint sukurti naują objektą remiantis esama klase, reikia pateikti reikiamus argumentus:"
   ]
  },
  {
   "cell_type": "code",
   "execution_count": null,
   "metadata": {},
   "outputs": [],
   "source": [
    "# Kuriame egzempliorius (objektus) pagal 'Automobilis' klasę\n",
    "pirmas_automobilis = Automobilis()\n",
    "\n",
    "# Nustatome atributus pirmam automobiliui\n",
    "pirmas_automobilis.marke = 'Audi'\n",
    "pirmas_automobilis.modelis = 'A6'\n",
    "pirmas_automobilis.metai = 2019\n",
    "pirmas_automobilis.spalva = 'balta'"
   ]
  },
  {
   "cell_type": "markdown",
   "metadata": {},
   "source": [
    ">Paaiškinimas:\n",
    "\n",
    "```python\n",
    "pirmas_automobilis = Automobilis()\n",
    "```\n",
    ">Ši eilutė sukuria \"Automobilis\" klasės objektą, pavadintą \"`pirmas_automobilis`\". Objektas yra kaip unikalus automobilio objektas.\n",
    "```python\n",
    "pirmas_automobilis.markė = 'Toyota'\n",
    "pirmas_automobilis.modelis = 'Camry'\n",
    "pirmas_automobilis.metai = 2020\n",
    "pirmas_automobilis.spalva = 'Mėlyna'\n",
    "```\n",
    ">Šios eilutės nustato kiekvieno automobilio objekto atributus. Objekto atributams pasiekti naudojame taško notaciją (`objekto_pavadinimas.atributo_pavadinimas`).\n",
    "\n",
    "Štai kaip galite pasiekti ir atspausdinti šių automobilių objektų atributus:"
   ]
  },
  {
   "cell_type": "code",
   "execution_count": null,
   "metadata": {},
   "outputs": [],
   "source": [
    "# Pasiekiant ir spausdinant atributus\n",
    "print(f\"Pirmo automobilio markė ir modelis: {pirmas_automobilis.marke} {pirmas_automobilis.modelis} ({pirmas_automobilis.metai} m.), spalva: {pirmas_automobilis.spalva}\")"
   ]
  },
  {
   "cell_type": "markdown",
   "metadata": {},
   "source": [
    "Tai yra pagrindinė idėja, kaip sukurti klasę ir naudoti ją objektams su atributais sukurti Python kalboje. Savo klasei galite pridėti metodus, kurie apibrėžtų objektų elgseną."
   ]
  },
  {
   "cell_type": "markdown",
   "metadata": {},
   "source": [
    "## Savybių pakeitimas\n",
    "\n",
    "Galite pakeisti objekto savybes priskirdami naują reikšmę objekto kintamajam, pavyzdžiui:"
   ]
  },
  {
   "cell_type": "code",
   "execution_count": null,
   "metadata": {},
   "outputs": [],
   "source": [
    "pirmas_automobilis.metai = 2015\n",
    "\n",
    "print(pirmas_automobilis.metai)  # 2015"
   ]
  },
  {
   "cell_type": "markdown",
   "metadata": {},
   "source": [
    ">Paaiškinimas:\n",
    "\n",
    "Šiame kodo fragmente tekste paaiškinama, kaip pakeisti objekto savybes (`atributus`) Python kalboje.\n",
    "```python\n",
    "pirmas_automobilis.metai = 2015\n",
    "```\n",
    ">Ši eilutė priskiria reikšmę `2015` \"`pirmas_automobilis`\" objekto \"`metai`\" atributui. \n",
    "```python\n",
    "print(pirmas_automobilis.metai)\n",
    "```\n",
    ">Ši eilutė atspausdina atnaujintą \"`pirmas_automobilis`\" objekto \"`metai`\" atributo reikšmę, kuri dabar yra `2015`.\n",
    "\n",
    "Taigi, apibendrinant, čia parodoma, kaip galite modifikuoti objekto atributus jiems priskirdami naujas reikšmes."
   ]
  },
  {
   "cell_type": "markdown",
   "metadata": {},
   "source": [
    "## Savybės pagal nutylėjimą\n",
    "\n",
    "Savybė pagal nutylėjimą yra klasės atributas, kuriam yra priskirta numatyta reikšmė, ir ši reikšmė bus naudojama, jei objektui nebus priskirta jokia kita reikšmė. \n",
    "\n",
    "*Pavyzdžiui*, galime modifikuoti automobilio klasę:"
   ]
  },
  {
   "cell_type": "code",
   "execution_count": null,
   "metadata": {},
   "outputs": [],
   "source": [
    "class Automobilis:\n",
    "    marke = ''\n",
    "    modelis = ''\n",
    "    metai = 2023\n",
    "    spalva = 'pilka'\n",
    "\n",
    "antras_automobilis = Automobilis()\n",
    "antras_automobilis.marke = 'BMW'\n",
    "antras_automobilis.modelis = 'X5'\n",
    "antras_automobilis.metai = 2001\n",
    "print(antras_automobilis.metai) # 2001\n",
    "print(antras_automobilis.spalva) # pilka"
   ]
  },
  {
   "cell_type": "markdown",
   "metadata": {},
   "source": [
    ">Paaiškinimas:\n",
    "```python\n",
    "markė = '' \n",
    "modelis = '' \n",
    "metai = 2023 \n",
    "spalva = 'pilkas'\n",
    "```\n",
    ">Šios eilutės apibrėžia klasės atributus su numatytomis reikšmėmis. Jei klasės objektui nebus priskirta konkrečių reikšmių šiems atributams, bus naudojamos šios numatytosios reikšmės.\n",
    "```python\n",
    "antras_automobilis = Automobilis()\n",
    "```\n",
    ">Ši eilutė sukuria \"`Automobilis`\" klasės objektą pavadinimu \"`antras_automobilis`\".\n",
    "```python\n",
    "antras_automobilis.markė = 'BMW'\n",
    "antras_automobilis.modelis = 'X5'\n",
    "antras_automobilis.metai = 2001\n",
    "```\n",
    ">Šios eilutės priskiria konkrečias reikšmes \"antras_automobilis\" objekto atributams, perrašant numatytąsias reikšmes."
   ]
  },
  {
   "cell_type": "markdown",
   "metadata": {},
   "source": [
    "## Skirtingas kiekis savybių"
   ]
  },
  {
   "cell_type": "markdown",
   "metadata": {},
   "source": [
    "Klasės, kurios objektai gali būti inicijuoti su skirtingu kiekiu savybių, yra naudingos tuo atveju, kai norime suteikti vartotojui galimybę nurodyti tik dalį objekto savybių, o likusios savybės būtų priskiriamos pagal nutylėjimą\n",
    "\n",
    "*pavyzdžiui*:"
   ]
  },
  {
   "cell_type": "code",
   "execution_count": null,
   "metadata": {},
   "outputs": [],
   "source": [
    "print(pirmas_automobilis.marke, pirmas_automobilis.spalva)  # Audi baltas\n",
    "print(antras_automobilis.marke, antras_automobilis.spalva)  # BMW pilkas"
   ]
  },
  {
   "cell_type": "markdown",
   "metadata": {},
   "source": [
    ">Paaiškinimas:\n",
    "\n",
    "1. Skirtingas kiekis savybių: Tai reiškia, kad tos pačios klasės objektai gali būti sukurti su skirtingais atributų arba savybių rinkiniais. \n",
    "1. Naudojimas: Šis metodas yra naudingas, kai norime leisti vartotojams pateikti reikšmes tik kai kurioms objekto savybėms, o likusios savybės nustatomos pagal nutylėjimą."
   ]
  },
  {
   "cell_type": "markdown",
   "metadata": {},
   "source": [
    "# `Greita Užduotis 1: Klasės Sukūrimas ir Savybių Keitimas` \n",
    "\n",
    "Užduoties Instrukcijos:\n",
    "\n",
    "1. Sukurkite naują klasę pavadinimu \"`Darbuotojas`\" su šiais atributais: \"`vardas`,\" \"`pavarde`,\" \"`pozicija`,\" ir \"`atlyginimas`\" (su numatyta minimalia alga).\n",
    "\n",
    "1. Sukurkite naują \"`Darbuotojas`\" klasės objektą ir pavadinkite jį \"`darbuotojas`.\"\n",
    "\n",
    "1. Atspausdinkite darbuotojo `poziciją` ir `atlyginimą`.\n",
    "\n",
    "1. `Pakeiskite` darbuotojo atlyginimą.\n",
    "\n",
    "1. Atspausdinkite visą darbuotojo informaciją."
   ]
  },
  {
   "cell_type": "code",
   "execution_count": null,
   "metadata": {},
   "outputs": [],
   "source": [
    "# jusu kodo vieta"
   ]
  },
  {
   "cell_type": "markdown",
   "metadata": {},
   "source": [
    "## Objekto Metodai \n",
    "\n",
    "Metodas yra funkcija, apibrėžta klasės viduje. Norėdami sukurti metodą, turite jį apibrėžti kaip funkciją ir pridėti prie klasės, pavyzdžiui:"
   ]
  },
  {
   "cell_type": "code",
   "execution_count": null,
   "metadata": {},
   "outputs": [],
   "source": [
    "class Automobilis:\n",
    "    marke = ''\n",
    "    modelis = ''\n",
    "    metai = 2023\n",
    "    spalva = 'pilka'\n",
    "\n",
    "    def drive(self):\n",
    "        print('Vairuojama')\n",
    "\n",
    "    def honk(self, message='Tūt', times=1):\n",
    "        print(message * times)\n",
    "\n",
    "antras_automobilis = Automobilis()\n",
    "\n",
    "antras_automobilis.drive()\n",
    "antras_automobilis.honk()\n",
    "antras_automobilis.honk('Tūt ', 3)"
   ]
  },
  {
   "cell_type": "markdown",
   "metadata": {},
   "source": [
    ">Paaiškinimas:\n",
    "\n",
    "- `drive(self)`: Tai yra \"Automobilis\" klasės metodas, skirtas imituoti automobilio vairavimo veiksmą. Kai šis metodas iškviečiamas, jis atspausdina žodį \"`Vairuojama`\".\n",
    "\n",
    "- `honk(self, message='Tūt', times=1)`: Tai dar vienas \"Automobilis\" klasės metodas, kuris simbolizuoja automobilio signalo garsą. Metodas priima du parametrus: message, kuris nurodo kokį žinutės tekstą kartoti, ir times, kuris nurodo, kiek kartų tą žinutę kartoti. Numatytosios reikšmės yra \"Tūt\" žinutei ir 1 kartui.\n",
    "\n",
    "- `antras_automobilis = Automobilis()`: Sukuriamas \"Automobilis\" klasės objektas, pavadinimu \"`antras_automobilis`\".\n",
    "\n",
    "- `antras_automobilis.drive()`: Iškviečiamas \"drive\" metodas, kuris turėtų atspausdinti \"`Vairuojama`\".\n",
    "\n",
    "- `antras_automobilis.honk()`: Iškviečiamas \"honk\" metodas su numatytosiomis reikšmėmis, kuris turėtų atspausdinti vieną kartą \"`Tūt`\".\n",
    "\n",
    "- `antras_automobilis.honk('Tūt ', 3)`: Iškviečiamas \"honk\" metodas su specifinėmis reikšmėmis, kuris turėtų atspausdinti \"`Tūt Tūt Tūt `\" (tris kartus su tarpais tarp \"Tūt\" žodžių)."
   ]
  },
  {
   "cell_type": "markdown",
   "metadata": {},
   "source": [
    "# `Greita Užduotis 2: Automobilio Veiksmai `\n",
    "\n",
    "Užduoties Instrukcijos:\n",
    "\n",
    "1. Sukurkite Python klasę pavadinimu \"`Car`\" su dviem objekto metodais: `start_engine` ir `stop_engine`.\n",
    "1. `start_engine` metodas turėtų atspausdinti \"`Variklis įjungtas`\", kai jis iškviečiamas.\n",
    "1. `stop_engine` metodas turėtų atspausdinti \"`Variklis išjungtas`\", kai jis iškviečiamas.\n",
    "1. Sukurkite \"`Car`\" klasės objektą.\n",
    "1. Iškvieskite `start_engine` metodą sukurtam automobilio objektui.\n",
    "1. Iškvieskite `stop_engine` metodą sukurtam automobilio objektui.\n",
    "\n",
    "Atlikus šiuos veiksmus, turėtumėte gauti išvestį, kuri nurodo, kad variklis buvo sėkmingai įjungtas ir vėliau išjungtas."
   ]
  },
  {
   "cell_type": "code",
   "execution_count": null,
   "metadata": {},
   "outputs": [],
   "source": [
    "# jusu kodo vieta"
   ]
  },
  {
   "cell_type": "markdown",
   "metadata": {},
   "source": [
    "## `__init__` Konstruktorius\n",
    "\n",
    "`__init__` metodas yra esminis Python klasėse naudojamas konstruktorius, kuris leidžia inicializuoti objekto savybes priskirdamas jiems pradines reikšmes. \n",
    "\n",
    "Štai išsamus `__init__` `konstruktoriaus` paaiškinimas:"
   ]
  },
  {
   "cell_type": "code",
   "execution_count": null,
   "metadata": {},
   "outputs": [],
   "source": [
    "class ManoKlase:\n",
    "    def __init__(self, pirma_savybe, antra_savybe):\n",
    "        \"\"\"\n",
    "        ManoKlase konstruktorius.\n",
    "\n",
    "        :param pirma_savybe: Pirmos savybės pradinė reikšmė.\n",
    "        :param antra_savybe: Antros savybės pradinė reikšmė.\n",
    "        \"\"\"\n",
    "        self.pirma_savybe = pirma_savybe\n",
    "        self.antra_savybe = antra_savybe"
   ]
  },
  {
   "cell_type": "markdown",
   "metadata": {},
   "source": [
    "Paaiškinimas:\n",
    "\n",
    "1. Specialus metodas `__init__`: yra klasės `konstruktorius`, skirtas nustatyti naujo objekto savybes iš karto po jo sukūrimo.\n",
    "1. Parametras self: `self` yra objekto savęs nuoroda, leidžianti metodams pasiekti ir modifikuoti objekto savybes.\n",
    "1. Inicijavimas: `Konstruktorius` priima du papildomus parametrus (`pirma_savybe` ir `antra_savybe`) šiems priskiriant pradines reikšmes savybėms `self.pirma_savybe` ir `self.antra_savybe`.\n",
    "1. Pradinės reikšmės: `Konstruktorius` leidžia perduoti pradines reikšmes objekto savybėms. Tai padeda sukurti objektą su specifinėmis pradinėmis būsenomis.\n",
    "\n",
    "Pavyzdys naudojant šią klasę:"
   ]
  },
  {
   "cell_type": "code",
   "execution_count": null,
   "metadata": {},
   "outputs": [],
   "source": [
    "# Sukuriame objektą iš ManoKlase su pradinėmis savybėmis\n",
    "mano_objektas = ManoKlase(pirma_savybe=10, antra_savybe=\"abc\")\n",
    "\n",
    "# Prieiga prie objekto savybių ir jų atspausdinimas\n",
    "print(mano_objektas.pirma_savybe)  # Išvestis: 10\n",
    "print(mano_objektas.antra_savybe)   # Išvestis: abc"
   ]
  },
  {
   "cell_type": "markdown",
   "metadata": {},
   "source": [
    "Ši klasė ir jos konstruktorius iš tiesų leidžia lengvai kurti objektus su pradinėmis reikšmėmis ir naudotis šiomis savybėmis. "
   ]
  },
  {
   "cell_type": "markdown",
   "metadata": {},
   "source": [
    "# `Greita užduotis 3: Asmens Inicializavimas`\n",
    "\n",
    "Užduoties Instrukcijos:\n",
    "\n",
    "1. Sukurkite Python klasę vardu `Asmens_info` naudodami `__init__` konstruktorių.\n",
    "1. `__init__` metode apibrėžkite ir inicializuokite atributus žmogaus `vardui`, `amžiui` ir `lyčiai`.\n",
    "1. Nustatykite numatytąsias reikšmes `amžiui` kaip `0` ir `lyčiai` kaip '`Nezinoma`'.\n",
    "1. Sukurkite `Asmens_info` klasės objektą su šiomis detalėmis:\n",
    "- Vardas: 'Rasa' \n",
    "- Amžius: 30  \n",
    "- Lytis: 'Moteris'\n",
    "5. Atspausdinkite sukurto asmens objekto `vardą`, `amžių` ir `lytį`."
   ]
  },
  {
   "cell_type": "code",
   "execution_count": null,
   "metadata": {},
   "outputs": [],
   "source": [
    "class Person:\n",
    "    def __init__(self, vardas, amzius=0, lytis='Nežinoma'):\n",
    "# jusu kodo vieta"
   ]
  },
  {
   "cell_type": "markdown",
   "metadata": {},
   "source": [
    "## Paaiškinimas apie *args ir **kwargs: \n",
    "\n",
    "Python programavimo kalboje galite apibrėžti metodus su kintamu skaičiumi argumentų naudodami `*args` ir `**kwargs` sintaksę.\n",
    "\n",
    "### `*args` (Laisvi Poziciniai Argumentai): \n",
    "Tai leidžia funkcijai priimti `įvairų skaičių argumentų`, kurie bus supakuoti į tuple ir perduoti kaip vienas kintamasis. Šie argumentai yra vadinami \"poziciniais\", nes jie yra perduodami pagal jų padėtį argumentų sąraše.\n",
    "\n",
    "Pavyzdys su `*args`:"
   ]
  },
  {
   "cell_type": "code",
   "execution_count": null,
   "metadata": {},
   "outputs": [],
   "source": [
    "class Automobilis:\n",
    "    def __init__(self, marke, modelis, *args):\n",
    "        self.marke = marke\n",
    "        self.modelis = modelis\n",
    "        self.papildomi = args\n",
    "\n",
    "    def rodyti_papildomus(self):\n",
    "        print(self.papildomi)\n",
    "\n",
    "# Sukuriamas Automobilis objektas su papildomomis savybėmis per *args\n",
    "automobilis = Automobilis('Audi', 'A4', '2022', 'Juoda', 'Automatinė', 'GPS')\n",
    "automobilis.rodyti_papildomus()  # ('2022', 'Juoda', 'Automatinė', 'GPS')"
   ]
  },
  {
   "cell_type": "markdown",
   "metadata": {},
   "source": [
    "- Kai sukuriamas `Automobilis` objektas su papildomais parametrais(kaip pavyzdyje '`2022`', '`Juoda`', '`Automatinė`', '`GPS`'),\n",
    "- `*args` surenka tuos argumentus į tuple, kuris priskiriamas `self.papildomi`. \n",
    "- Vėliau metodas `rodyti_papildomus()` atspausdina tuple."
   ]
  },
  {
   "cell_type": "markdown",
   "metadata": {},
   "source": [
    "### `**kwargs` (Laisvi Raktiniai Argumentai): \n",
    "\n",
    "Tai naudojama, kai norite perduoti `nežinomą skaičių raktinių žodinių argumentų` metodui. Metodo viduje `**kwargs` tampa žodynu, kuriame saugomi visi papildomi raktiniai argumentai.\n",
    "\n",
    "Pavyzdys su `**kwargs`:"
   ]
  },
  {
   "cell_type": "code",
   "execution_count": null,
   "metadata": {},
   "outputs": [],
   "source": [
    "class Automobilis:\n",
    "    def __init__(self, marke, modelis, **kwargs):\n",
    "        self.marke = marke\n",
    "        self.modelis = modelis\n",
    "        self.papildomos_savybes = kwargs  # Priskiriame kwargs žodyną tiesiogiai\n",
    "\n",
    "    def rodyti_papildomas_savybes(self):\n",
    "        # Spausdiname papildomas savybes iš žodyno\n",
    "        print(self.papildomos_savybes)\n",
    "\n",
    "# Sukuriamas Automobilis objektas su papildomomis savybėmis per **kwargs\n",
    "automobilis = Automobilis('Audi', 'A4', metai='2022', spalva='Juoda', pavara='Automatinė', navigacija='GPS')\n",
    "\n",
    "# Spausdinamos papildomos savybės\n",
    "automobilis.rodyti_papildomas_savybes()\n",
    "# Į ekraną bus išvesta: {'metai': '2022', 'spalva': 'Juoda', 'pavara': 'Automatinė', 'navigacija': 'GPS'}"
   ]
  },
  {
   "cell_type": "markdown",
   "metadata": {},
   "source": [
    "- Šiame pavyzdyje, visi `**kwargs` argumentai yra saugomi `self.papildomos_savybes` žodyne, todėl nėra reikalo atskirai eiti per kiekvieną raktą ir atitinkamą reikšmę. \n",
    "- Metodas `rodyti_papildomas_savybes` tada išveda pilną `self.papildomos_savybes` žodyną, pateikdamas visas papildomas automobilio savybes ir jų reikšmes."
   ]
  },
  {
   "cell_type": "markdown",
   "metadata": {},
   "source": [
    "Abiejuose pavyzdžiuose galite matyti, kad `*args` ir `**kwargs` leidžia perduoti ir surinkti bet kokį skaičių argumentų, dėl ko jūsų metodai tampa lankstesni ir pajėgūs tvarkyti įvairius scenarijus su kintančiais įvesties duomenimis."
   ]
  },
  {
   "cell_type": "markdown",
   "metadata": {},
   "source": [
    "## `Greita užduotis 4: su *args ir **kwargs`\n",
    "\n",
    "Sukurkite klasę `Automobilis` su konstruktoriumi, kuris priima bent du privalomus argumentus (`marke` ir `modelis`) bei bet kokį skaičių papildomų pozicinių argumentų (`*args`) ir raktinių argumentų (`**kwargs`).\n",
    "\n",
    "### Instrukcijos\n",
    " \n",
    "1. Sukurkite klasę `Automobilis` su konstruktoriumi, kuris priima privalomus argumentus: `marke`, `modelis` ir bent vieną papildomą pozicinį argumentą (`*args`).\n",
    "2. Klasėje sukurkite metodą `rodyti_info()`, kuris išspausdina privalomus ir visus papildomus pozicinius argumentus.\n",
    "3. Konstruktorius taip pat turi priimti bet kokį skaičių raktinių argumentų (`**kwargs`).\n",
    "4. Sukurti metodą `rodyti_papildomas_savybes()`, kuris išspausdina visus raktinius argumentus.\n",
    "5. Sukurkite objektą `automobilis` su privalomais ir papildomais poziciniais bei raktiniais argumentais ir `iškvieskite abu metodus`.\n",
    "\n",
    "\n",
    "**Pastaba:**\n",
    "\n",
    "Galite eksperimentuoti su `for` ciklu ir pabandyti iteruoti per klasės objektų savybes arba kitus iterable objektus. \n",
    "Pavyzdžiui, galite pabandyti naudoti ciklą, kad išspausdintumėte visus automobilio `papildomus_pozicinius` argumentus. \n",
    "Taip pat, galite kurti ir iteruoti per raktinius argumentus `papildomos_savybes` žodyne.\n",
    " \n",
    "```python\n",
    "for arg in self.papildomi_poziciniai:\n",
    "    print(f\"Papildomas pozicinis argumentas: {arg}\")\n",
    " \n",
    "for key, value in self.papildomos_savybes.items():\n",
    "    print(f\"{key}: {value}\")\n",
    "```\n",
    "Būkite kūrybingi ir patikrinkite, kaip ciklas gali padėti jums gauti daugiau informacijos iš klasės objekto.\n",
    "\n"
   ]
  },
  {
   "cell_type": "code",
   "execution_count": null,
   "metadata": {},
   "outputs": [],
   "source": [
    "# jusu kodo vieta"
   ]
  },
  {
   "cell_type": "markdown",
   "metadata": {},
   "source": [
    "## Kaip Pakeisti Objekto Spausdinimą \n",
    "\n",
    "Galite naudoti `__str__` metodą objektams spausdinti, kuris yra sukurtas grąžinti objekto `eilutės reprezentaciją` (string representation).\n",
    "\n",
    "Šis metodas yra iškviečiamas, kai objektas yra spausdinamas arba naudojamas kaip eilutės argumentas. Jeigu klasėje nėra apibrėžtas `__str__` metodas, naudojamas numatytasis metodas, kuris tiesiog spausdina `klasės pavadinimą` ir jos `atminties vietą`.\n",
    "\n",
    "Pavyzdys be `__str__` metodo (numatytasis elgesys):\n",
    "\n",
    "```python\n",
    "print(automobilis)  # pavyzdys: <__main__.Automobilis object at 0x7f9dc80aa920>\n",
    "```"
   ]
  },
  {
   "cell_type": "markdown",
   "metadata": {},
   "source": [
    "Apibrėžiant `__str__` metodą, galite pateikti aiškesnę objekto reprezentaciją:"
   ]
  },
  {
   "cell_type": "code",
   "execution_count": null,
   "metadata": {},
   "outputs": [],
   "source": [
    "class Automobilis:\n",
    "    def __init__(self, marke, modelis, metai=2023, spalva='pilka'):\n",
    "        self.marke = marke\n",
    "        self.modelis = modelis\n",
    "        self.metai = metai\n",
    "        self.spalva = spalva\n",
    "\n",
    "    def __str__(self):\n",
    "        return f'{self.marke} {self.modelis}: {self.metai} metai, spalva {self.spalva}'\n",
    "\n",
    "antras_automobilis = Automobilis(\"BMW\", \"X5\", 2021)\n",
    "\n",
    "print(antras_automobilis)  # BMW X5: 2021 metai, spalva pilka"
   ]
  },
  {
   "cell_type": "markdown",
   "metadata": {},
   "source": [
    "# `Greitasis Uždavinys 5: Objekto Spausdinimo Prisitaikymas Python'e`\n",
    "\n",
    "Tikslas: Šios užduoties tikslas yra suprasti ir įgyvendinti `__str__` metodą Python klasėse, siekiant pritaikyti objektų eilutės reprezentaciją.\n",
    "\n",
    "Užduoties Instrukcijos:\n",
    "\n",
    "1. Perskaitykite ir supraskite pateiktą paaiškinimą apie objekto spausdinimo prisitaikymą Python naudojant `__str__` metodą\n",
    "1. Sukurkite Python klasę pavadinimu Knyga su šiais atributais:\n",
    "- pavadinimas (eilutė) \n",
    "- autorius (eilutė) \n",
    "- leidimo_metai (sveikasis skaičius) \n",
    "- žanras (eilutė) \n",
    "3. Įgyvendinkite `__str__` metodą Knyga klasėje, kad pritaikytumėte knygos objekto eilutės reprezentaciją. \n",
    "- Eilutės reprezentacija turėtų aiškiai ir informatyviai pateikti visas knygos savybes.\n",
    "4. Sukurkite bent du `Knyga` klasės objektus su skirtingomis knygų detalėmis.\n",
    "5. Atspausdinkite abu knygų objektus, kad parodytumėte pritaikytą eilutės reprezentaciją naudojant `__str__` metodą."
   ]
  },
  {
   "cell_type": "code",
   "execution_count": null,
   "metadata": {},
   "outputs": [],
   "source": [
    "# jusu kodo vieta"
   ]
  },
  {
   "cell_type": "markdown",
   "metadata": {},
   "source": [
    "## Simbolių eilutė kaip objektas\n",
    "\n",
    "Simbolių eilutė (`string`) tai tekstinę informaciją ir gali būti apdorojama bei manipuliuojama įvairiais būdais naudojant metodus ir funkcijas.\n",
    "\n",
    "Pavyzdžiui:"
   ]
  },
  {
   "cell_type": "code",
   "execution_count": null,
   "metadata": {},
   "outputs": [],
   "source": [
    "sveikinimas = 'Sveikas, pasauli'"
   ]
  },
  {
   "cell_type": "markdown",
   "metadata": {},
   "source": [
    "Kaip ir bet kuris kitas objektas, eilutės tipą galima atvaizduoti naudojant `type()` funkciją:"
   ]
  },
  {
   "cell_type": "code",
   "execution_count": null,
   "metadata": {},
   "outputs": [],
   "source": [
    "print(type(sveikinimas))  # <class 'str'>"
   ]
  },
  {
   "cell_type": "markdown",
   "metadata": {},
   "source": [
    "Taip pat galime patikrinti eilutės objekto atminties vietą naudojant `id()` funkciją:"
   ]
  },
  {
   "cell_type": "code",
   "execution_count": null,
   "metadata": {},
   "outputs": [],
   "source": [
    "print(id(sveikinimas))  # 140315162091616"
   ]
  },
  {
   "cell_type": "markdown",
   "metadata": {},
   "source": [
    "Galime padalinti tekstą į atskirus žodžius naudojant `split()` metodą:"
   ]
  },
  {
   "cell_type": "code",
   "execution_count": null,
   "metadata": {},
   "outputs": [],
   "source": [
    "print(sveikinimas.split())  # ['Sveikas,', 'pasauli']"
   ]
  },
  {
   "cell_type": "markdown",
   "metadata": {},
   "source": [
    "Mes galime paversti eilutės objektą didžiosiomis raidėmis naudojant `upper()` metodą:"
   ]
  },
  {
   "cell_type": "code",
   "execution_count": null,
   "metadata": {},
   "outputs": [],
   "source": [
    "print(sveikinimas.upper())  # SVEIKAS, PASAULI"
   ]
  },
  {
   "cell_type": "markdown",
   "metadata": {},
   "source": [
    "Eilutės objektai yra tvarkingi, ir jų simboliai yra traktuojami kaip seka. Mes galime pasiekti atskirus eilutės simbolius indeksuodami eilutę:"
   ]
  },
  {
   "cell_type": "code",
   "execution_count": null,
   "metadata": {},
   "outputs": [],
   "source": [
    "print(sveikinimas[0])  # S\n",
    "print(sveikinimas[9])  # p"
   ]
  },
  {
   "cell_type": "markdown",
   "metadata": {},
   "source": [
    "Jūs galite surūšiuoti eilučių sąrašą naudodami `sort()` metodą arba `sorted()` funkciją. Štai kaip:"
   ]
  },
  {
   "cell_type": "code",
   "execution_count": null,
   "metadata": {},
   "outputs": [],
   "source": [
    "vaisiai = ['obuolys', 'bananas', 'vyšnia', 'datulė', 'mėlynė']\n",
    "vaisiai.sort()  # Rūšiuoja sąrašą vietoje\n",
    "print(vaisiai)  # Išvestis: ['bananas', 'datulė', 'mėlynė', 'obuolys', 'vyšnia']"
   ]
  },
  {
   "cell_type": "markdown",
   "metadata": {},
   "source": [
    "- Atkreipkite dėmesį, kad eilutės yra rūšiuojamos pagal abėcėlinę tvarką, taigi, šiuo atveju, sąrašas bus išvestas atsižvelgiant į jūsų pateiktą kalbą ir abėcėlę."
   ]
  },
  {
   "cell_type": "markdown",
   "metadata": {},
   "source": [
    "Kitu atveju, galite naudoti `sorted()` funkciją sąrašui surūšiuoti ir sukurti naują surūšiuotą sąrašą, nepakeičiant originalo:"
   ]
  },
  {
   "cell_type": "code",
   "execution_count": null,
   "metadata": {},
   "outputs": [],
   "source": [
    "vaisiai = ['obuolys', 'bananas', 'vyšnia', 'datulė', 'mėlynė']\n",
    "surusiuoti_vaisiai = sorted(vaisiai)\n",
    "print(surusiuoti_vaisiai)  # Išvestis: ['bananas', 'datulė', 'mėlynė', 'obuolys', 'vyšnia']"
   ]
  },
  {
   "cell_type": "markdown",
   "metadata": {},
   "source": [
    "Kaip ir `sort()` metodas, `sorted()` funkcija taip pat surūšiuoja eilutes pagal abėcėlinę tvarką."
   ]
  },
  {
   "cell_type": "markdown",
   "metadata": {},
   "source": [
    "## Objektai Sąraše ar Žodyne \n",
    "\n",
    "Klasės objektai gali būti saugomi ne tik kaip atskiri kintamieji, bet ir kaip elementai `sąraše` ar `žodyne`. Tai gali būti naudinga, kai reikia apdoroti daug objektų ir juos tvarkingai organizuoti.\n",
    "\n",
    "Objektų Saugojimas ir Iteravimas Sąraše:"
   ]
  },
  {
   "cell_type": "code",
   "execution_count": null,
   "metadata": {},
   "outputs": [],
   "source": [
    "automobiliai = []\n",
    "\n",
    "pirmas_automobilis = Automobilis('Audi', 'A6', 2019, 'balta') \n",
    "antras_automobilis = Automobilis(\"BMW\", \"X5\", 2021) \n",
    "ketvirtas_automobilis = Automobilis('Volkswagen', 'Golf')\n",
    "\n",
    "automobiliai.append(pirmas_automobilis) \n",
    "automobiliai.append(antras_automobilis) \n",
    "automobiliai.append(ketvirtas_automobilis)\n",
    "\n",
    "for automobilis in automobiliai: \n",
    "    print(automobilis)"
   ]
  },
  {
   "cell_type": "markdown",
   "metadata": {},
   "source": [
    "## Objektų Saugojimas Žodyne"
   ]
  },
  {
   "cell_type": "code",
   "execution_count": null,
   "metadata": {},
   "outputs": [],
   "source": [
    "automobiliai = {}\n",
    "\n",
    "automobiliai['Petras'] = Automobilis('Toyota', 'Corolla', 2022, 'raudona') \n",
    "automobiliai['Jonas'] = Automobilis('Volkswagen', 'Golf') \n",
    "automobiliai['Antanas'] = Automobilis('Audi', 'A6', spalva='balta')\n",
    "\n",
    "for savininkas, automobilis in automobiliai.items(): \n",
    "    print(f\"{savininkas}: {automobilis}\")"
   ]
  },
  {
   "cell_type": "markdown",
   "metadata": {},
   "source": [
    "Čia, žodyne `automobiliai`, kiekvienas raktas (pvz., `'Petras'`, `'Jonas'`, `'Antanas'`) atitinka tam tikrą `Automobilis` klasės objektą, ir mes iteruojame per žodyną spausdindami automobilio savininko vardą ir atitinkamą automobilį."
   ]
  },
  {
   "cell_type": "markdown",
   "metadata": {},
   "source": [
    "# `Užduotis 5: Objektų Organizavimas Sąrašuose ir Žodynuose`\n",
    "\n",
    ">Tikslas:\n",
    "\n",
    "Šios užduoties tikslas yra suprasti ir praktiškai išmokti saugoti klasės objektus tiek sąrašuose, tiek žodynuose naudojant Python, bei išmokti kaip iteruoti ir išgauti objektus iš šių duomenų struktūrų.\n",
    "\n",
    ">Peržiūrėkite pateiktą paaiškinimą apie klasės objektų saugojimą sąrašuose ir žodynuose naudojant Python.\n",
    ">>Sukurkite Python klasę, pavadintą `Studentas`, su šiais atributais:\n",
    "\n",
    "- `vardas` (eilutė)\n",
    "- `studento_id` (sveikasis skaičius)\n",
    "- `pažymys` (eilutė)\n",
    "\n",
    "1. Sukurkite `tuščią sąrašą`, pavadintą `studentu_sarasas`, kuriame bus saugomi `Studentas` klasės egzemplioriai(objektai).\n",
    "\n",
    "2. Sukurkite bent tris `Studentas` klasės objektus su skirtingais studentų duomenimis ir įtraukite juos į `studentu_sarasas`.\n",
    "\n",
    "3. Naudokite for ciklą, kad iteruotumėte per `studentu_sarasas` ir atspausdintumėte kiekvieno studento duomenis.\n",
    "\n",
    "4. Sukurkite `tuščią žodyną`, pavadintą `studentu_zodynas`, kuriame bus saugomi `Studentas` klasės egzemplioriai(objektai). Naudokite studento vardą kaip raktą.\n",
    "\n",
    "5. Įtraukite bent `tris` Studentas klasės objektus į `studentu_zodynas` su skirtingais vardais kaip raktais.\n",
    "\n",
    "6. Naudokite `for` ciklą, kad iteruotumėte per `studentu_zodynas` ir atspausdintumėte kiekvieno studento `vardą` ir `pažymį`."
   ]
  },
  {
   "cell_type": "code",
   "execution_count": null,
   "metadata": {},
   "outputs": [],
   "source": [
    "# jusu kodo vieta"
   ]
  }
 ],
 "metadata": {
  "kernelspec": {
   "display_name": "venv",
   "language": "python",
   "name": "python3"
  },
  "language_info": {
   "codemirror_mode": {
    "name": "ipython",
    "version": 3
   },
   "file_extension": ".py",
   "mimetype": "text/x-python",
   "name": "python",
   "nbconvert_exporter": "python",
   "pygments_lexer": "ipython3",
   "version": "3.10.6"
  }
 },
 "nbformat": 4,
 "nbformat_minor": 2
}
