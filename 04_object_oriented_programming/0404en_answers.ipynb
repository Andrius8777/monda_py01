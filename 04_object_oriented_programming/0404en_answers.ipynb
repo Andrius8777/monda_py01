{
 "cells": [
  {
   "cell_type": "markdown",
   "metadata": {},
   "source": [
    "# `Assignment: private attributes, and class methods`"
   ]
  },
  {
   "cell_type": "code",
   "execution_count": 1,
   "metadata": {},
   "outputs": [
    {
     "name": "stdout",
     "output_type": "stream",
     "text": [
      "Account holder: John Doe\n",
      "Deposited: $500.00\n",
      "Withdrawn: $200.00\n",
      "Withdrawn: $800.00\n",
      "Current balance: $500.00\n"
     ]
    }
   ],
   "source": [
    "class BankAccount:\n",
    "    def __init__(self, account_holder, balance=0.0):\n",
    "        self.__account_holder = account_holder\n",
    "        self.__balance = balance\n",
    "\n",
    "    def deposit(self, amount):\n",
    "        if amount > 0:\n",
    "            self.__balance += amount\n",
    "            print(f\"Deposited: ${amount:.2f}\")\n",
    "        else:\n",
    "            print(\"Invalid deposit amount. Please enter a positive amount.\")\n",
    "\n",
    "    def withdraw(self, amount):\n",
    "        if amount > 0:\n",
    "            if self.__balance >= amount:\n",
    "                self.__balance -= amount\n",
    "                print(f\"Withdrawn: ${amount:.2f}\")\n",
    "            else:\n",
    "                print(\"Insufficient funds. Cannot withdraw.\")\n",
    "        else:\n",
    "            print(\"Invalid withdrawal amount. Please enter a positive amount.\")\n",
    "\n",
    "    def get_balance(self):\n",
    "        print(f\"Current balance: ${self.__balance:.2f}\")\n",
    "\n",
    "    def get_account_holder(self):\n",
    "        return self.__account_holder\n",
    "\n",
    "# Creating a BankAccount instance for John Doe with an initial balance of $1000\n",
    "john_account = BankAccount(\"John Doe\", 1000.0)\n",
    "\n",
    "# Performing operations\n",
    "print(f\"Account holder: {john_account.get_account_holder()}\")\n",
    "john_account.deposit(500.0)\n",
    "john_account.withdraw(200.0)\n",
    "john_account.withdraw(800.0)  # Attempting to withdraw more than the balance\n",
    "john_account.get_balance()\n"
   ]
  }
 ],
 "metadata": {
  "kernelspec": {
   "display_name": "Python 3",
   "language": "python",
   "name": "python3"
  },
  "language_info": {
   "codemirror_mode": {
    "name": "ipython",
    "version": 3
   },
   "file_extension": ".py",
   "mimetype": "text/x-python",
   "name": "python",
   "nbconvert_exporter": "python",
   "pygments_lexer": "ipython3",
   "version": "3.10.6"
  },
  "orig_nbformat": 4
 },
 "nbformat": 4,
 "nbformat_minor": 2
}
