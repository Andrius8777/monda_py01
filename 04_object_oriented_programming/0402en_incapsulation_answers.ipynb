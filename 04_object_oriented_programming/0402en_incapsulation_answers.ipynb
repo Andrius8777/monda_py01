{
 "cells": [
  {
   "cell_type": "markdown",
   "metadata": {},
   "source": [
    "#### Assignement 1"
   ]
  },
  {
   "cell_type": "code",
   "execution_count": null,
   "metadata": {},
   "outputs": [],
   "source": [
    "\n",
    "\n",
    "class BankAccount:\n",
    "     def __init__(self, account_number, owner, balance, pin_code):\n",
    "         self.account_number = account_number\n",
    "         self.owner = owner\n",
    "         self.__balance = balance\n",
    "         self.__pin_code = pin_code\n",
    "\n",
    "     def scan(self, sum, pin_code):\n",
    "         if pin_code == self.__pin_code:\n",
    "             self.__balance -= sum\n",
    "             print(f'{sum} € successfully read. Current account balance: {self.__balance} €')\n",
    "         else:\n",
    "             print('Invalid password. Unable to scan.')\n",
    "\n",
    "     def add(self, amount, pin_code):\n",
    "         if pin_code == self.__pin_code:\n",
    "             self.__balance += amount\n",
    "             print(f'{amount} € successfully topped up. Current account balance: {self.__balance} €')\n",
    "         else:\n",
    "             print('Invalid password. Unable to add.')\n",
    "\n",
    "account = BankAccount('LT123456789', 'Jonas Jonaitis', 1000, 1234)\n",
    "\n",
    "account.scan(100, 1122)\n",
    "account.scan(200, 1234)\n",
    "account.scan(100, 1234)\n",
    "account.add(500, 1234)"
   ]
  },
  {
   "cell_type": "markdown",
   "metadata": {},
   "source": [
    "#### Assignement 2\n"
   ]
  },
  {
   "cell_type": "code",
   "execution_count": null,
   "metadata": {},
   "outputs": [],
   "source": [
    "class Book:\n",
    "     def __init__(self, title, author, state, pages):\n",
    "         self.__name = title\n",
    "         self.__author = author\n",
    "         self.__state = state\n",
    "         self.__pages = pages\n",
    "\n",
    "     def get_name(self):\n",
    "         return self.__name\n",
    "\n",
    "     def get_author(self):\n",
    "         return self.__author\n",
    "\n",
    "     def get_bulle(self):\n",
    "         return self.__in the case\n",
    "\n",
    "     def get_pages(self):\n",
    "         return self.__pages\n",
    "\n",
    "     def change_state(self, state):\n",
    "         if state in ('satisfactory', 'poor', 'updated', 'broken'):\n",
    "             self.__state = state\n",
    "         else:\n",
    "             print(f'unable to change state to {state}.')\n",
    "\n",
    "     def __new_page_number(self, pages):\n",
    "         self.__pages = pages\n",
    "\n",
    "     def expand_pages(self, pages):\n",
    "         if abs(pages) <= self.__pages:\n",
    "             self.__new_page_number(self.__pages - abs(pages))\n",
    "         else:\n",
    "             self.__pages = 0\n",
    "\n",
    "book = Book(\"Python Programming Language\", \"Guido van Rossum\", 'new', 400)\n",
    "\n",
    "book.expand_pages(50)\n",
    "book.replace_book('poor')\n",
    "print(book.get_title())\n",
    "print(book.get_author())\n",
    "print(book.get_book())\n",
    "print(book.get_pages())"
   ]
  }
 ],
 "metadata": {
  "language_info": {
   "name": "python"
  },
  "orig_nbformat": 4
 },
 "nbformat": 4,
 "nbformat_minor": 2
}
