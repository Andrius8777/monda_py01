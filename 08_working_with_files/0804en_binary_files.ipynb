{
 "cells": [
  {
   "cell_type": "markdown",
   "metadata": {},
   "source": [
    "# Binary Files in Python\n",
    "\n",
    "When working with files in Python, you have the option to open them in either text mode or binary mode. Text mode is used for handling text files, while binary mode is essential for dealing with binary files such as images, audio files, or any data where the content is not in plain text.\n",
    "\n",
    "## Using `open()` Function with \"rb\" and \"wb\" Flags\n",
    "\n",
    "To work with binary files in Python, you use the \"rb\" (read binary) and \"wb\" (write binary) flags when opening files with the `open()` function.\n",
    "\n",
    "**Example:**\n",
    "\n",
    "```python\n",
    "# Open a binary file for reading\n",
    "with open('input.bin', 'rb') as input_file:\n",
    "    binary_data = input_file.read()\n",
    "\n",
    "# Open a binary file for writing\n",
    "with open('output.bin', 'wb') as output_file:\n",
    "    output_file.write(binary_data)"
   ]
  },
  {
   "cell_type": "markdown",
   "metadata": {},
   "source": [
    "## Working with Binary Objects (b' ')\n",
    "Binary objects are used in Python to handle binary data, such as sequences of bytes. They are represented as `b''` and contain hexadecimal values.\n",
    "\n",
    "**Example:**"
   ]
  },
  {
   "cell_type": "code",
   "execution_count": null,
   "metadata": {},
   "outputs": [],
   "source": [
    "binary_data = b'\\x48\\x65\\x6c\\x6c\\x6f\\x2c\\x20\\x57\\x6f\\x72\\x6c\\x64\\x21'  # Binary representation of \"Hello, World!\"\n",
    "print(binary_data)  # Output: b'Hello, World!'"
   ]
  },
  {
   "cell_type": "markdown",
   "metadata": {},
   "source": [
    "## File Copy Function\n",
    "Here's a simple function for copying a binary file from one location to another:"
   ]
  },
  {
   "cell_type": "code",
   "execution_count": null,
   "metadata": {},
   "outputs": [],
   "source": [
    "def copy_binary_file(input_file_path, output_file_path):\n",
    "    with open(input_file_path, 'rb') as input_file:\n",
    "        binary_data = input_file.read()\n",
    "    with open(output_file_path, 'wb') as output_file:\n",
    "        output_file.write(binary_data)"
   ]
  },
  {
   "cell_type": "markdown",
   "metadata": {},
   "source": [
    "You can use this function to copy binary files. For example:"
   ]
  },
  {
   "cell_type": "code",
   "execution_count": null,
   "metadata": {},
   "outputs": [],
   "source": [
    "copy_binary_file('input.png', 'output.png')  # Copy an image file"
   ]
  },
  {
   "cell_type": "markdown",
   "metadata": {},
   "source": [
    "This material provides insights into working with binary files in Python."
   ]
  }
 ],
 "metadata": {
  "language_info": {
   "name": "python"
  }
 },
 "nbformat": 4,
 "nbformat_minor": 2
}
