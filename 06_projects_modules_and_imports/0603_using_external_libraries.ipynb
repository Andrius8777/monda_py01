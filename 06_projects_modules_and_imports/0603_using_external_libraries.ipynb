{
 "cells": [
  {
   "cell_type": "markdown",
   "metadata": {},
   "source": [
    "# Using External Libraries\n",
    "\n",
    "Python programming language has many external libraries that you can use in your projects to avoid duplicating code and benefit from the work of other developers. \n",
    "These libraries are often distributed through the Python Package Index (PyPI) and can be installed using pip - the Python package manager.\n",
    "\n",
    "### pip install, pip list\n",
    "\n",
    "The main pip commands are:\n",
    "\n",
    "1. `pip install <package_name>`: Installs a package from PyPI.\n",
    "- Example: `pip install requests`\n",
    "\n",
    "2. `pip list`: Displays all installed packages and their versions.\n",
    "- Example: `pip list`\n",
    "\n",
    "\n",
    "How to use requirements.txt and pip freeze\n",
    "Create a virtual environment and activate it (if you haven't already):"
   ]
  },
  {
   "cell_type": "code",
   "execution_count": null,
   "metadata": {
    "vscode": {
     "languageId": "plaintext"
    }
   },
   "outputs": [],
   "source": [
    "python -m venv venv\n",
    "source venv/bin/activate  # Linux/MacOS\n",
    "venv\\Scripts\\activate     # Windows"
   ]
  },
  {
   "cell_type": "markdown",
   "metadata": {},
   "source": [
    "Install the necessary external libraries using:"
   ]
  },
  {
   "cell_type": "code",
   "execution_count": null,
   "metadata": {
    "vscode": {
     "languageId": "plaintext"
    }
   },
   "outputs": [],
   "source": [
    "pip install <package_name>"
   ]
  },
  {
   "cell_type": "markdown",
   "metadata": {},
   "source": [
    "After you've installed all the required libraries, \n",
    "\n",
    "use the command `pip freeze > requirements.txt` to generate a `requirements.txt` file with all the installed libraries and their versions:"
   ]
  },
  {
   "cell_type": "code",
   "execution_count": null,
   "metadata": {
    "vscode": {
     "languageId": "plaintext"
    }
   },
   "outputs": [],
   "source": [
    "pip freeze > requirements.txt"
   ]
  },
  {
   "cell_type": "markdown",
   "metadata": {},
   "source": [
    "Include the `requirements.txt` file in your project repository to make it easier for other developers or computers to install all the required dependencies.\n",
    "\n",
    "Why is a virtual environment needed for each project?\n",
    "Virtual environments are isolated Python environments that allow you to manage each project's dependencies separately. Virtual environments are useful for the following reasons:\n",
    "\n",
    "1. `Isolation`: Each project can have its own library versions without conflicts with other projects.\n",
    "1. `Order`: Virtual environments help maintain system cleanliness because libraries are not installed globally.\n",
    "1. `Portability`: Using virtual environments makes it easy to transfer a project between different computers, as dependencies are clearly defined."
   ]
  }
 ],
 "metadata": {
  "language_info": {
   "name": "python"
  }
 },
 "nbformat": 4,
 "nbformat_minor": 2
}
