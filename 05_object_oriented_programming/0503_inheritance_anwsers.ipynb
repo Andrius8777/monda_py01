{
 "cells": [
  {
   "cell_type": "markdown",
   "metadata": {},
   "source": [
    "### Assignment 1\n"
   ]
  },
  {
   "cell_type": "code",
   "execution_count": null,
   "metadata": {},
   "outputs": [],
   "source": [
    "class Animal:\n",
    "     def __init__(self, name):\n",
    "         self.name = name\n",
    "\n",
    "     def voice(self):\n",
    "         pass\n",
    "\n",
    "     def move(self):\n",
    "         print('I lie still...')\n",
    "\n",
    "class Cat(Animal):\n",
    "     def voice(self):\n",
    "         print('Meow')\n",
    "\n",
    "     def move(self):\n",
    "         print('Walking slowly')\n",
    "\n",
    "class Dog(Animal):\n",
    "     def voice(self):\n",
    "         print('Woof Woof!')\n",
    "\n",
    "     def move(self):\n",
    "         print('I run fast')\n",
    "\n",
    "\n",
    "skunk = Animal('Grey')\n",
    "cat = Cat('Snowball')\n",
    "dog = Dog('Buddy')\n",
    "\n",
    "print(skunk.name)\n",
    "skunk.voice()\n",
    "skunk.move()\n",
    "\n",
    "print(cat.name)\n",
    "cat.voice()\n",
    "cat.move()\n",
    "\n",
    "print(dog.name)\n",
    "dog.voice()\n",
    "dog.move()"
   ]
  },
  {
   "cell_type": "markdown",
   "metadata": {},
   "source": [
    "Result:"
   ]
  },
  {
   "cell_type": "code",
   "execution_count": null,
   "metadata": {},
   "outputs": [],
   "source": [
    "Grey\n",
    "I lie still...\n",
    "Snowball\n",
    "Meow\n",
    "I walk slowly\n",
    "Buddy\n",
    "Woof Woof\n",
    "I run fast"
   ]
  },
  {
   "cell_type": "markdown",
   "metadata": {},
   "source": [
    "### Assignment 2"
   ]
  },
  {
   "cell_type": "code",
   "execution_count": null,
   "metadata": {},
   "outputs": [],
   "source": [
    "print(isinstance(skunk, Animal))\n",
    "print(isinstance(skunk, Cat))\n",
    "print(isinstance(skunk, Dog))\n",
    "print(isinstance(cat, Animal))\n",
    "print(isinstance(cat, Cat))\n",
    "print(isinstance(cat, Dog))\n",
    "print(isinstance(dog, Animal))\n",
    "print(isinstance(dog, Cat))\n",
    "print(isinstance(dog, Dog))"
   ]
  },
  {
   "cell_type": "code",
   "execution_count": null,
   "metadata": {},
   "outputs": [],
   "source": [
    "True\n",
    "False\n",
    "False\n",
    "True\n",
    "True\n",
    "False\n",
    "True\n",
    "False\n",
    "True"
   ]
  }
 ],
 "metadata": {
  "kernelspec": {
   "display_name": "Python 3",
   "language": "python",
   "name": "python3"
  },
  "language_info": {
   "name": "python",
   "version": "3.11.3"
  },
  "orig_nbformat": 4
 },
 "nbformat": 4,
 "nbformat_minor": 2
}
