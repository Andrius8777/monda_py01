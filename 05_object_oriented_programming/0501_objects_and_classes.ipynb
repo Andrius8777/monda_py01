{
 "cells": [
  {
   "cell_type": "markdown",
   "metadata": {},
   "source": [
    "# Object-Oriented Programming (OOP)\n",
    "\n",
    "\n",
    "Object-Oriented Programming (`OOP`) is a programming paradigm that helps you organize and structure your code by modeling real-world entities as objects. \n",
    "It's a fundamental concept in programming, and it provides a more intuitive way to design and manage complex software systems.\n"
   ]
  },
  {
   "cell_type": "markdown",
   "metadata": {},
   "source": [
    "# Creating a Class\n",
    "\n",
    "In Python, creating a class is straightforward. You use the class keyword, followed by the class name. For example:"
   ]
  },
  {
   "cell_type": "code",
   "execution_count": null,
   "metadata": {},
   "outputs": [],
   "source": [
    "class Car:\n",
    "    brand = ''\n",
    "    model = ''\n",
    "    year = ''\n",
    "    color = ''"
   ]
  },
  {
   "cell_type": "markdown",
   "metadata": {},
   "source": [
    ">Explanation:\n",
    "\n",
    "```python\n",
    "class Car:\n",
    "```\n",
    ">This line defines a class called \"`Car`\", where you can choose a descriptive name for your class.\n",
    "```python\n",
    "brand = ''\n",
    "model = '' \n",
    "year = '' \n",
    "color = ''\n",
    "```\n",
    ">These are class attributes, functioning like variables that belong to the class. In this example, we've set up four attributes: brand, model, year, and color, which will store car information when instances of the class are created."
   ]
  },
  {
   "cell_type": "markdown",
   "metadata": {},
   "source": [
    "# Creating an Object\n",
    "\n",
    "To create a new object based on an existing class, you need to provide the required arguments:\n"
   ]
  },
  {
   "cell_type": "code",
   "execution_count": null,
   "metadata": {},
   "outputs": [],
   "source": [
    "# Creating instances (objects) of the Car class\n",
    "first_car = Car()\n",
    "\n",
    "# Setting attributes for first_car\n",
    "first_car.brand = 'Toyota'\n",
    "first_car.model = 'Camry'\n",
    "first_car.year = 2020\n",
    "first_car.color = 'Blue'"
   ]
  },
  {
   "cell_type": "markdown",
   "metadata": {},
   "source": [
    "> Explanation:\n",
    "\n",
    "1. `car1 = Car()` These line create instance of the \"Car\" class, named \"car1\".\" Instance is like a unique car object.\n",
    "1. `car1.brand = 'Toyota'`, `car1.model = 'Camry'`, etc.: These lines set the attributes for each car instance. We access an instance's attributes using dot notation (instance_name.attribute_name).\n",
    "\n",
    ">Now, you have two car objects with their own attributes. You can access and manipulate these attributes as needed.\n",
    "\n",
    ">Here's how you can access and print the attributes of these car objects:"
   ]
  },
  {
   "cell_type": "code",
   "execution_count": null,
   "metadata": {},
   "outputs": [],
   "source": [
    "# Accessing and printing attributes\n",
    "print(f\"first_car 1: {first_car.brand} {first_car.model} ({first_car.year}), Color: {first_car.color}\")"
   ]
  },
  {
   "cell_type": "markdown",
   "metadata": {},
   "source": [
    "That's the basic idea of creating a class and using it to create objects with attributes in Python. You can add methods to your class to define behaviors for your objects"
   ]
  },
  {
   "cell_type": "markdown",
   "metadata": {},
   "source": [
    "# Changing Object Attributes"
   ]
  },
  {
   "cell_type": "markdown",
   "metadata": {},
   "source": [
    ">You can change the properties of an object by assigning a new value to the object's variable, for example:"
   ]
  },
  {
   "cell_type": "code",
   "execution_count": null,
   "metadata": {},
   "outputs": [],
   "source": [
    "first_car.year = 2015\n",
    "\n",
    "print(first_car.year)  # 2015\n"
   ]
  },
  {
   "cell_type": "markdown",
   "metadata": {},
   "source": [
    ">Explanation:\n",
    "\n",
    "In this code snippet, the text explains how to change the properties (attributes) of an object in Python.\n",
    "```python\n",
    "car1.year = 2015\n",
    "```\n",
    "- This line assigns the value 2015 to the \"year\" attribute of the \"car1\" object. It's demonstrating that you can update an object's attributes by directly accessing them using dot notation (`object_name.attribute_name`).\n",
    "```python\n",
    "print(car1.year)\n",
    "```\n",
    "- This line prints the updated value of the \"year\" attribute of the \"car1\" object, which is now 2015.\n",
    "\n",
    ">So, in summary, it's showing how you can modify an object's attributes by assigning new values to them."
   ]
  },
  {
   "cell_type": "markdown",
   "metadata": {},
   "source": [
    "# Default Properties\n",
    "\n",
    "A default property is a class attribute to which a default value is assigned, and this value will be used if no other value is assigned to the object. We can modify the car class, for example:"
   ]
  },
  {
   "cell_type": "code",
   "execution_count": null,
   "metadata": {},
   "outputs": [],
   "source": [
    "class Car:\n",
    "    brand = ''\n",
    "    model = ''\n",
    "    year = 2023\n",
    "    color = 'gray'\n",
    "\n",
    "second_car = Car()\n",
    "second_car.brand = 'BMW'\n",
    "second_car.model = 'X5'\n",
    "second_car.year = 2001\n",
    "print(second_car.year)  # 2001\n",
    "print(second_car.color)  # gray\n"
   ]
  },
  {
   "cell_type": "markdown",
   "metadata": {},
   "source": [
    ">Explanation:\n",
    "\n",
    "In this code snippet, the text explains the concept of default properties in Python classes.\n",
    "\n",
    "```python\n",
    "brand = '' \n",
    "model = ''\n",
    "year = 2023 \n",
    "color = 'gray' \n",
    "```\n",
    "- These lines define class attributes with `default values`. If an object of the class does not have a specific value assigned to these attributes, these default values will be used.\n",
    "\n",
    "```python\n",
    "car2 = Car() \n",
    "```\n",
    "- This line creates an instance of the \"Car\" class named \"car2.\"\n",
    "\n",
    "```python\n",
    "car2.brand = 'BMW'\n",
    "car2.model = 'X5' \n",
    "car2.year = 2001 \n",
    "```\n",
    "- These lines assign specific values to the attributes of the \"car2\" object, overriding the default values."
   ]
  },
  {
   "cell_type": "markdown",
   "metadata": {},
   "source": [
    "# Different Number of Properties\n",
    "\n",
    "Classes that allow objects to be initialized with a different number of properties are useful when we want to give the user the option to specify only some of the object's properties, while the remaining properties are assigned default values, for example:"
   ]
  },
  {
   "cell_type": "code",
   "execution_count": null,
   "metadata": {},
   "outputs": [],
   "source": [
    "print(first_car.brand, first_car.color)  # Audi white\n",
    "print(second_car.brand, second_car.color)  # BMW gray"
   ]
  },
  {
   "cell_type": "markdown",
   "metadata": {},
   "source": [
    ">Explanation:\n",
    "\n",
    "1. Different Number of Properties: This means that objects of the same class can be created with different sets of attributes or properties.\n",
    "1. Usefulness: This approach is beneficial when we want to allow users to provide values for only some of an object's properties, and the remaining properties are set to default values."
   ]
  },
  {
   "cell_type": "markdown",
   "metadata": {},
   "source": [
    "# `Quick assignment 1: Creating a Class and Changing Properties`\n",
    "\n",
    ">Instructions:\n",
    "\n",
    "1. Create a new class called \"`Employee`\" with the following attributes: \"first_name,\" \"last_name,\" \"position,\" and \"salary\" (with a default minimum salary).\n",
    "\n",
    "1. Create a new object of the \"Employee\" class and name it \"`employee`.\"\n",
    "\n",
    "1. Print the employee's `position` and `salary`.\n",
    "\n",
    "1. Change the employee's `salary`.\n",
    "\n",
    "1. Print the full employee information."
   ]
  },
  {
   "cell_type": "code",
   "execution_count": null,
   "metadata": {},
   "outputs": [],
   "source": [
    "# Your code here"
   ]
  },
  {
   "cell_type": "markdown",
   "metadata": {},
   "source": [
    "# Object Methods\n",
    "A method is a function defined inside a class. To create a method, you need to define it as a function and add it to the class, for example:"
   ]
  },
  {
   "cell_type": "code",
   "execution_count": null,
   "metadata": {},
   "outputs": [],
   "source": [
    "class Car:\n",
    "    brand = ''\n",
    "    model = ''\n",
    "    year = 2023\n",
    "    color = 'gray'\n",
    "\n",
    "    def drive(self):\n",
    "        print('Driving')\n",
    "\n",
    "    def honk(self, message='Honk', times=1):\n",
    "        print(message * times)"
   ]
  },
  {
   "cell_type": "code",
   "execution_count": null,
   "metadata": {},
   "outputs": [],
   "source": [
    "second_car = Car()\n",
    "\n",
    "second_car.drive()\n",
    "second_car.honk()\n",
    "second_car.honk('Honk ', 3)"
   ]
  },
  {
   "cell_type": "markdown",
   "metadata": {},
   "source": [
    ">Explanation:\n",
    "\n",
    "- Object methods are functions defined within a class. These methods define the behavior or actions that objects of the class can perform.\n",
    "\n",
    "- `def drive(self):` and `def honk(self, message='Honk', times=1):`: These lines define two methods within the \"Car\" class.\n",
    "- - `drive` is a simple method that prints \"Driving\" when called.\n",
    "- - `honk` is a method that can take two optional parameters: message (default is 'Honk') and times (default is 1). It prints the message repeated the specified number of times."
   ]
  },
  {
   "cell_type": "markdown",
   "metadata": {},
   "source": [
    "# _ _ init _ _ Constructor"
   ]
  },
  {
   "cell_type": "markdown",
   "metadata": {},
   "source": [
    ">Explanation of the __ init __ Constructor:\n",
    "\n",
    "- `__ init__ Method`: It's a special method in a Python class used for initializing objects when they are created.\n",
    "- `self Parameter`: It's the first parameter in the `__ init__` method and refers to the object being created.\n",
    "- `Attributes`: You define and initialize attributes (object properties) inside the `__ init__` method using `self`.\n",
    "- `Default Values`: You can set default values for attributes, which are used when no specific value is provided during object creation."
   ]
  },
  {
   "cell_type": "code",
   "execution_count": null,
   "metadata": {},
   "outputs": [],
   "source": [
    "class Car:\n",
    "    def __init__(self, brand, model, year=2023, color='gray'):\n",
    "        self.brand = brand\n",
    "        self.model = model\n",
    "        self.year = year\n",
    "        self.color = color\n",
    "\n",
    "third_car = Car('Mercedes', 'C-Class', 2021, 'yellow')\n",
    "\n",
    "print(third_car.brand)  # Mercedes\n",
    "print(third_car.model)  # C-Class"
   ]
  },
  {
   "cell_type": "markdown",
   "metadata": {},
   "source": [
    "- In this example, the `__ init__` constructor sets up attributes (`brand`, `model`, `year`, `color`) for the `third_car` object, allowing us to create and initialize objects with specific values."
   ]
  },
  {
   "cell_type": "markdown",
   "metadata": {},
   "source": [
    "# Explanation of *args and **kwargs:\n",
    "\n",
    "In Python, you can define methods with a varying number of arguments using the `*args` and `**kwargs` syntax.\n",
    "\n",
    "`*args (Arbitrary Positional Arguments)`: This is used when you want to pass an unknown number of positional arguments to a method. Inside the method, `args` becomes a tuple containing all the additional positional arguments.\n",
    "\n",
    "Example with *args:"
   ]
  },
  {
   "cell_type": "code",
   "execution_count": null,
   "metadata": {},
   "outputs": [],
   "source": [
    "class Car:\n",
    "    def __init__(self, brand, model, *args):\n",
    "        self.brand = brand\n",
    "        self.model = model\n",
    "        self.additional = args\n",
    "\n",
    "    def display_additional(self):\n",
    "        print(self.additional)\n",
    "\n",
    "car = Car('Audi', 'A4', '2022', 'Black', 'Automatic', 'GPS')\n",
    "car.display_additional()  # ('2022', 'Black', 'Automatic', 'GPS')\n"
   ]
  }
 ],
 "metadata": {
  "kernelspec": {
   "display_name": "Python 3",
   "language": "python",
   "name": "python3"
  },
  "language_info": {
   "codemirror_mode": {
    "name": "ipython",
    "version": 3
   },
   "file_extension": ".py",
   "mimetype": "text/x-python",
   "name": "python",
   "nbconvert_exporter": "python",
   "pygments_lexer": "ipython3",
   "version": "3.10.6"
  },
  "orig_nbformat": 4
 },
 "nbformat": 4,
 "nbformat_minor": 2
}
