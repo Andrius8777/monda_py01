{
 "cells": [
  {
   "cell_type": "markdown",
   "metadata": {},
   "source": [
    "# `Quick assignment 1: Creating a Class and Changing Properties`"
   ]
  },
  {
   "cell_type": "code",
   "execution_count": null,
   "metadata": {},
   "outputs": [],
   "source": [
    "# Step 1: Creating the Employee Class\n",
    "# Create the \"Employee\" class and define it with empty attributes:\n",
    "\n",
    "class Employee:\n",
    "    first_name = \"\"\n",
    "    last_name = \"\"\n",
    "    position = \"\"\n",
    "    salary = 0\n",
    "\n",
    "# Step 2: Creating the Employee Object\n",
    "# Create a new employee object and assign values to its attributes:\n",
    "\n",
    "employee = Employee()\n",
    "employee.first_name = \"John\"\n",
    "employee.last_name = \"Doe\"\n",
    "employee.position = \"Manager\"\n",
    "employee.salary = 40000\n",
    "\n",
    "# Step 3: Printing Position and Salary\n",
    "# Print the employee's position and salary:\n",
    "\n",
    "print(\"Employee Position:\", employee.position)\n",
    "print(\"Employee Salary:\", employee.salary)"
   ]
  },
  {
   "cell_type": "code",
   "execution_count": null,
   "metadata": {},
   "outputs": [],
   "source": [
    "# Step 4: Changing the Salary\n",
    "# Change the employee's salary to a new value, for example:\n",
    "\n",
    "employee.salary = 45000\n",
    "\n",
    "# Step 5: Printing Full Employee Information\n",
    "# Finally, print the full employee information, including first name, last name, position, and updated salary:\n",
    "\n",
    "print(\"Employee Information:\")\n",
    "print(\"First Name:\", employee.first_name)\n",
    "print(\"Last Name:\", employee.last_name)\n",
    "print(\"Position:\", employee.position)\n",
    "print(\"Salary:\", employee.salary)"
   ]
  }
 ],
 "metadata": {
  "kernelspec": {
   "display_name": "Python 3",
   "language": "python",
   "name": "python3"
  },
  "language_info": {
   "codemirror_mode": {
    "name": "ipython",
    "version": 3
   },
   "file_extension": ".py",
   "mimetype": "text/x-python",
   "name": "python",
   "nbconvert_exporter": "python",
   "pygments_lexer": "ipython3",
   "version": "3.10.6"
  },
  "orig_nbformat": 4
 },
 "nbformat": 4,
 "nbformat_minor": 2
}
