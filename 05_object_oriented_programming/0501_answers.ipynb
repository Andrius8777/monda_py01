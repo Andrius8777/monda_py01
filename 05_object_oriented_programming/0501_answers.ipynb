{
 "cells": [
  {
   "cell_type": "markdown",
   "metadata": {},
   "source": [
    "# `Quick assignment 1: Creating a Class and Changing Properties`"
   ]
  },
  {
   "cell_type": "code",
   "execution_count": null,
   "metadata": {},
   "outputs": [],
   "source": [
    "# Step 1: Creating the Employee Class\n",
    "# Create the \"Employee\" class and define it with empty attributes:\n",
    "\n",
    "class Employee:\n",
    "    first_name = \"\"\n",
    "    last_name = \"\"\n",
    "    position = \"\"\n",
    "    salary = 0\n",
    "\n",
    "# Step 2: Creating the Employee Object\n",
    "# Create a new employee object and assign values to its attributes:\n",
    "\n",
    "employee = Employee()\n",
    "employee.first_name = \"John\"\n",
    "employee.last_name = \"Doe\"\n",
    "employee.position = \"Manager\"\n",
    "employee.salary = 40000\n",
    "\n",
    "# Step 3: Printing Position and Salary\n",
    "# Print the employee's position and salary:\n",
    "\n",
    "print(\"Employee Position:\", employee.position)\n",
    "print(\"Employee Salary:\", employee.salary)"
   ]
  },
  {
   "cell_type": "code",
   "execution_count": null,
   "metadata": {},
   "outputs": [],
   "source": [
    "# Step 4: Changing the Salary\n",
    "# Change the employee's salary to a new value, for example:\n",
    "\n",
    "employee.salary = 45000\n",
    "\n",
    "# Step 5: Printing Full Employee Information\n",
    "# Finally, print the full employee information, including first name, last name, position, and updated salary:\n",
    "\n",
    "print(\"Employee Information:\")\n",
    "print(\"First Name:\", employee.first_name)\n",
    "print(\"Last Name:\", employee.last_name)\n",
    "print(\"Position:\", employee.position)\n",
    "print(\"Salary:\", employee.salary)"
   ]
  },
  {
   "cell_type": "markdown",
   "metadata": {},
   "source": [
    "# `Quick Assignment 2: Car Actions`"
   ]
  },
  {
   "cell_type": "code",
   "execution_count": null,
   "metadata": {},
   "outputs": [],
   "source": [
    "class Car:\n",
    "    def start_engine(self):\n",
    "        print(\"Engine started\")\n",
    "\n",
    "    def stop_engine(self):\n",
    "        print(\"Engine stopped\")\n",
    "\n",
    "# Create an instance of the Car class\n",
    "my_car = Car()\n",
    "\n",
    "# Call the start_engine method on the car object\n",
    "my_car.start_engine()\n",
    "\n",
    "# Call the stop_engine method on the car object\n",
    "my_car.stop_engine()"
   ]
  },
  {
   "cell_type": "markdown",
   "metadata": {},
   "source": [
    "# `Quick assignment 3: Person Initialization`"
   ]
  },
  {
   "cell_type": "code",
   "execution_count": null,
   "metadata": {},
   "outputs": [],
   "source": [
    "class Person:\n",
    "    def __init__(self, name, age=0, gender='Unknown'):\n",
    "        self.name = name\n",
    "        self.age = age\n",
    "        self.gender = gender\n",
    "\n",
    "# Create an instance of the Person class with the specified details\n",
    "alice = Person('Alice', 30, 'Female')\n",
    "\n",
    "# Print out the attributes of the created person object\n",
    "print(\"Name:\", alice.name)\n",
    "print(\"Age:\", alice.age)\n",
    "print(\"Gender:\", alice.gender)"
   ]
  },
  {
   "cell_type": "markdown",
   "metadata": {},
   "source": [
    "# `Quick Assignment 4: Mathematical Operations`"
   ]
  },
  {
   "cell_type": "code",
   "execution_count": 21,
   "metadata": {},
   "outputs": [
    {
     "name": "stdout",
     "output_type": "stream",
     "text": [
      "Sum of 5, 10, and 15: 30\n",
      "Product of 2, 3, and 4: 24\n",
      "2 raised to the power of 5: 32\n"
     ]
    }
   ],
   "source": [
    "class Calculator:\n",
    "    def add(self, *args):\n",
    "        result = sum(args)\n",
    "        return result\n",
    "\n",
    "    def multiply(self, *args):\n",
    "        result = 1\n",
    "        for num in args:\n",
    "            result *= num\n",
    "        return result\n",
    "\n",
    "    def power(self, base, exponent):\n",
    "        result = base ** exponent\n",
    "        return result\n",
    "\n",
    "# Create an instance of the Calculator class\n",
    "my_calculator = Calculator()\n",
    "\n",
    "# Perform the operations and print the results\n",
    "print(\"Sum of 5, 10, and 15:\", my_calculator.add(5, 10, 15))\n",
    "print(\"Product of 2, 3, and 4:\", my_calculator.multiply(2, 3, 4))\n",
    "print(\"2 raised to the power of 5:\", my_calculator.power(2, 5))"
   ]
  }
 ],
 "metadata": {
  "kernelspec": {
   "display_name": "Python 3",
   "language": "python",
   "name": "python3"
  },
  "language_info": {
   "codemirror_mode": {
    "name": "ipython",
    "version": 3
   },
   "file_extension": ".py",
   "mimetype": "text/x-python",
   "name": "python",
   "nbconvert_exporter": "python",
   "pygments_lexer": "ipython3",
   "version": "3.10.6"
  },
  "orig_nbformat": 4
 },
 "nbformat": 4,
 "nbformat_minor": 2
}
