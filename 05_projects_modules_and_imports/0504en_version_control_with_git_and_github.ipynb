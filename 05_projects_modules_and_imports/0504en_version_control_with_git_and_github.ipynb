{
 "cells": [
  {
   "cell_type": "markdown",
   "metadata": {},
   "source": [
    "# Introduction to Version Control with Git, GitHub, and Git Configuration"
   ]
  },
  {
   "cell_type": "markdown",
   "metadata": {},
   "source": [
    "## Git \n",
    "\n",
    "Git is a distributed version control system designed to handle everything from small to very large projects with speed and efficiency. It allows multiple developers to work on a codebase without stepping on each other’s toes. It tracks the progress of your work separately through branches so that you can merge them when you're ready."
   ]
  },
  {
   "cell_type": "markdown",
   "metadata": {},
   "source": [
    "Key concepts:\n",
    "\n",
    "- Repository (Repo): A folder for your project. Git tracks all changes in this folder.\n",
    "- Commit: A saved change to your repo. Each commit has a unique ID.\n",
    "- Branch: A parallel version of the repository. It diverges from the main branch and doesn't affect it.\n",
    "- Merge: Taking the changes from one branch and applying them to another.\n",
    "- Clone: A copy of a Git repository, typically on your local machine.\n",
    "- Fork: A personal copy of another user's repository that lives on your account.\n",
    "- Pull Request (PR): A request to merge your changes into the original project."
   ]
  },
  {
   "cell_type": "markdown",
   "metadata": {},
   "source": [
    "## GitHub\n",
    "\n",
    "GitHub is a web-based platform that incorporates Git's version control and source code management functionality. It adds its own features like bug tracking, task management, and wikis for every project. It's a collaborative environment that enables developers to contribute to projects from anywhere in the world."
   ]
  },
  {
   "cell_type": "markdown",
   "metadata": {},
   "source": [
    "Key features\n",
    "\n",
    "- Issue Tracking: Report bugs or request new features.\n",
    "- GitHub Actions: Automate your workflow from idea to production.\n",
    "- Gists: Share snippets of code or text with others.\n",
    "- GitHub Pages: Host your static website directly from a GitHub repository."
   ]
  },
  {
   "cell_type": "markdown",
   "metadata": {},
   "source": [
    "## Git Installation \n",
    "\n",
    "First, you need to install Git on your machine. You can download it from the [official Git website](https://git-scm.com/downloads) and install it."
   ]
  },
  {
   "cell_type": "markdown",
   "metadata": {},
   "source": [
    "**Configuring Git user info** This includes setting your username and email address with Git, which is important for commit messages. "
   ]
  },
  {
   "cell_type": "code",
   "execution_count": null,
   "metadata": {
    "vscode": {
     "languageId": "plaintext"
    }
   },
   "outputs": [],
   "source": [
    "git config --global user.name \"Your Name\"\n",
    "git config --global user.email \"your.email@example.com\""
   ]
  },
  {
   "cell_type": "markdown",
   "metadata": {},
   "source": [
    "**Checking settings** To see all of your settings and where they are coming from."
   ]
  },
  {
   "cell_type": "code",
   "execution_count": null,
   "metadata": {
    "vscode": {
     "languageId": "plaintext"
    }
   },
   "outputs": [],
   "source": [
    "git config --list"
   ]
  },
  {
   "cell_type": "markdown",
   "metadata": {},
   "source": [
    "**Starting a Git Repository** To start a new repo, create a new directory, open it, and run the `git init` command:"
   ]
  },
  {
   "cell_type": "code",
   "execution_count": null,
   "metadata": {
    "vscode": {
     "languageId": "plaintext"
    }
   },
   "outputs": [],
   "source": [
    "mkdir new-project\n",
    "cd new-project\n",
    "git init"
   ]
  },
  {
   "cell_type": "markdown",
   "metadata": {},
   "source": [
    "**Git Status** To see what the current state of your project is, use:"
   ]
  },
  {
   "cell_type": "code",
   "execution_count": null,
   "metadata": {
    "vscode": {
     "languageId": "plaintext"
    }
   },
   "outputs": [],
   "source": [
    "git status"
   ]
  },
  {
   "cell_type": "markdown",
   "metadata": {},
   "source": [
    "**Staging Changes** Before you commit your changes, you need to stage them using `git add`:"
   ]
  },
  {
   "cell_type": "code",
   "execution_count": null,
   "metadata": {
    "vscode": {
     "languageId": "plaintext"
    }
   },
   "outputs": [],
   "source": [
    "git add <filename>       # Adds a specific file\n",
    "git add .                # Adds all changes in the current directory"
   ]
  },
  {
   "cell_type": "markdown",
   "metadata": {},
   "source": [
    "**Committing Changes** To save your staged changes, you'll commit them with a message describing what you've done:"
   ]
  },
  {
   "cell_type": "code",
   "execution_count": null,
   "metadata": {
    "vscode": {
     "languageId": "plaintext"
    }
   },
   "outputs": [],
   "source": [
    "git commit -m \"Your commit message\""
   ]
  },
  {
   "cell_type": "markdown",
   "metadata": {},
   "source": [
    "**More Git commands**\n",
    "\n",
    "- `git log`: View a history of commits in your repository.\n",
    "- `git branch`: List and create branches for parallel development.\n",
    "- `git checkout`: Switch to a different branch.\n",
    "- `git merge`: Combine changes from one branch into another.\n",
    "- `git reset`: Unstage changes or reset to a previous commit.\n",
    "- `git clone`: Create a local copy of a remote repository."
   ]
  },
  {
   "cell_type": "markdown",
   "metadata": {},
   "source": [
    "## Working with GitHub"
   ]
  },
  {
   "cell_type": "markdown",
   "metadata": {},
   "source": [
    "**Create a GitHub Account**: Sign up for a GitHub account at [github.com](https://github.com) if you haven't already.\n",
    "\n",
    "**Create a New Repository**: On GitHub, create a new repository by clicking the \"+\" icon in the upper right and selecting \"New Repository.\" Follow the instructions to set it up.\n",
    "\n",
    "**Link Local Git Repository to GitHub**: To connect your local Git repository to GitHub, use the following commands:"
   ]
  },
  {
   "cell_type": "markdown",
   "metadata": {},
   "source": [
    "Link your local repository to your GitHub repository."
   ]
  },
  {
   "cell_type": "code",
   "execution_count": null,
   "metadata": {
    "vscode": {
     "languageId": "plaintext"
    }
   },
   "outputs": [],
   "source": [
    "git remote add origin <repository_url>\n"
   ]
  },
  {
   "cell_type": "markdown",
   "metadata": {},
   "source": [
    "Push your local repository to GitHub, setting the upstream branch."
   ]
  },
  {
   "cell_type": "code",
   "execution_count": null,
   "metadata": {
    "vscode": {
     "languageId": "plaintext"
    }
   },
   "outputs": [],
   "source": [
    "git push -u origin master"
   ]
  },
  {
   "cell_type": "markdown",
   "metadata": {},
   "source": [
    "**Collaborate with Others**: Share your GitHub repository with collaborators. They can clone the repository to their local machines, make changes, commit them, and create pull requests for you to review and merge.\n",
    "\n",
    "**Pull Changes**: To update your local repository with changes from the remote repository, use the following command:"
   ]
  },
  {
   "cell_type": "markdown",
   "metadata": {},
   "source": [
    "Fetch and merge changes from the remote repository."
   ]
  },
  {
   "cell_type": "code",
   "execution_count": null,
   "metadata": {
    "vscode": {
     "languageId": "plaintext"
    }
   },
   "outputs": [],
   "source": [
    "git pull origin master"
   ]
  },
  {
   "cell_type": "markdown",
   "metadata": {},
   "source": [
    "**Resolve Conflicts**: If conflicts arise during a pull or merge, use a code editor like Visual Studio Code to resolve them. Save the changes, add, and commit them."
   ]
  },
  {
   "cell_type": "markdown",
   "metadata": {},
   "source": [
    "[Official Git documentation](https://git-scm.com/doc)"
   ]
  },
  {
   "cell_type": "markdown",
   "metadata": {},
   "source": [
    "## Visual Studio Code Integration"
   ]
  },
  {
   "cell_type": "markdown",
   "metadata": {},
   "source": [
    "**Open a Project**: Open your project directory in VS Code.\n",
    "\n",
    "**Source Control Tab**: Click on the \"`Source Control`\" icon in the sidebar to access Git functionality.\n",
    "\n",
    "**Stage and Commit**: Use the \"`+`\" icon to stage changes and the checkmark `button` to commit them with a `message`.\n",
    "\n",
    "**Sync with Remote**: To push and pull changes from GitHub, use the \"`Sync`\" button in the bottom left corner."
   ]
  }
 ],
 "metadata": {
  "language_info": {
   "name": "python"
  }
 },
 "nbformat": 4,
 "nbformat_minor": 2
}
