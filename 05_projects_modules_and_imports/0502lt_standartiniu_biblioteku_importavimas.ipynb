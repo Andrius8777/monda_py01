{
 "cells": [
  {
   "cell_type": "markdown",
   "metadata": {},
   "source": [
    "# Standartinių bibliotekų importavimas"
   ]
  },
  {
   "cell_type": "markdown",
   "metadata": {},
   "source": [
    "## import this - \"The Zen of Python\" (Python'o dvasia)"
   ]
  },
  {
   "cell_type": "markdown",
   "metadata": {},
   "source": [
    "\"The Zen of Python\" (liet. „Python'o Dvasia“) yra Python programavimo kalbos filosofiją atspindinti poema, kurią sukūrė Tim Peters. Norėdami ją pamatyti, įvykdykite šią komandą:"
   ]
  },
  {
   "cell_type": "code",
   "execution_count": null,
   "metadata": {},
   "outputs": [],
   "source": [
    "import this"
   ]
  },
  {
   "cell_type": "markdown",
   "metadata": {},
   "source": [
    "Poemos pagrindiniai principai pabrėžia:\n",
    "\n",
    "- Aiškumas yra geriau už dviprasmiškumą.\n",
    "- Paprastumas viršija komplikacijas.\n",
    "- \"Dvigubai geriau\" nėra toks geras kaip \"gerai pakanka\".\n",
    "- Praktika yra svarbesnė už teoriją."
   ]
  },
  {
   "cell_type": "markdown",
   "metadata": {},
   "source": [
    "## `import random` - atsitiktinių skaičių generatoriaus funkcijos"
   ]
  },
  {
   "cell_type": "code",
   "execution_count": 149,
   "metadata": {},
   "outputs": [
    {
     "name": "stdout",
     "output_type": "stream",
     "text": [
      "0.5314816410360858\n",
      "3\n",
      "b\n"
     ]
    }
   ],
   "source": [
    "import random\n",
    "\n",
    "# generuoja atsitiktinį (float) skaičių tarp 0.0 ir 1.0.\n",
    "print(random.random())\n",
    "\n",
    "# generuoja atsitiktinį sveikąjį skaičių (int) tarp 1 ir 10 imtinai.\n",
    "print(random.randint(1, 10))\n",
    "\n",
    "# atsitiktinai pasirenka elementą iš sekos, tokių kaip sąrašas.\n",
    "my_list = [\"a\", \"b\", \"c\", \"d\", \"e\"]\n",
    "print(random.choice(my_list))"
   ]
  },
  {
   "cell_type": "markdown",
   "metadata": {},
   "source": [
    "### Greita Užduotis 1\n",
    "\n",
    "Parašykite Python funkciją, kuri atliktų šiuos veiksmus:\n",
    "\n",
    "1. Sugeneruokite 10 atsitiktinių sveikųjų skaičių tarp 1 ir 100.\n",
    "1. Atspausdinkite pradinį atsitiktinių skaičių sąrašą.\n",
    "1. Išrikiuokite sąrašą didėjančia tvarka.\n",
    "1. Atspausdinkite surikiuotą sąrašą."
   ]
  },
  {
   "cell_type": "code",
   "execution_count": 34,
   "metadata": {},
   "outputs": [
    {
     "name": "stdout",
     "output_type": "stream",
     "text": [
      "Sarasas: [78, 52, 49, 73, 21, 15, 11, 79, 94, 12]\n",
      "Sorted list: [11, 12, 15, 21, 49, 52, 73, 78, 79, 94]\n"
     ]
    }
   ],
   "source": [
    "# jusu kodo vieta\n",
    "import random\n",
    "\n",
    "def spausdinti_rusiuoti():\n",
    "    atsitiktiniai_nr = []\n",
    "    for _ in range(10):\n",
    "        atsitiktiniai_nr.append(random.randint(1, 100))\n",
    "    \n",
    "\n",
    "    # Print the original list of random numbers\n",
    "    print(\"Sarasas:\", atsitiktiniai_nr)\n",
    "\n",
    "    # Sort the list in ascending order\n",
    "    atsitiktiniai_nr.sort()\n",
    "\n",
    "    # Print the sorted list\n",
    "    print(\"Sorted list:\", atsitiktiniai_nr)\n",
    "\n",
    "# Call the function to see the result\n",
    "spausdinti_rusiuoti()\n"
   ]
  },
  {
   "cell_type": "markdown",
   "metadata": {},
   "source": [
    "---\n",
    "\n",
    "## `import math` - papildomos matematinės funkcijos"
   ]
  },
  {
   "cell_type": "markdown",
   "metadata": {},
   "source": [
    "Python'o `math` biblioteka suteikia prieigą prie papildomų matematinių funkcijų ir konstantų, tokių kaip π (pi) ir e. Štai keletas pavyzdžių:"
   ]
  },
  {
   "cell_type": "code",
   "execution_count": 150,
   "metadata": {},
   "outputs": [
    {
     "name": "stdout",
     "output_type": "stream",
     "text": [
      "1.0\n",
      "120\n",
      "3.0\n"
     ]
    }
   ],
   "source": [
    "import math\n",
    "# funkcija isfinite patikrina, ar skaičius yra suskaičiuojamas\n",
    "print(math.isfinite.__doc__)\n",
    "print(math.isfinite(2 ** 1000), 2 ** 1000)\n",
    "\n",
    "# funkcija apskaičiuoja sinuso reikšmę\n",
    "print(math.sin(math.pi / 2))\n",
    "\n",
    "# funkcija apskaičiuoja faktorialą\n",
    "print(math.factorial(5))\n",
    "\n",
    "# funkcija apskaičiuoja kvadratinę šaknį\n",
    "print(math.sqrt(9))"
   ]
  },
  {
   "cell_type": "markdown",
   "metadata": {},
   "source": [
    "### Greita užduotis 2: Kauliukų žaidimas\n",
    "\n",
    "Sukurkite kauliukų žaidimą, kuris:\n",
    "\n",
    "- Sugeneruotų tris atsitiktinius skaičius nuo 1 iki 6\n",
    "- Jei vienas iš šių skaičių yra 5, atspausdinti „Pralaimėjai...“\n",
    "- Kitu atveju atspausdinti „Laimėjai!“\n",
    "- Patarimas: Naudokite ciklą"
   ]
  },
  {
   "cell_type": "code",
   "execution_count": 165,
   "metadata": {},
   "outputs": [
    {
     "name": "stdout",
     "output_type": "stream",
     "text": [
      "jus laimejote: 5\n"
     ]
    }
   ],
   "source": [
    "# jusu kodo vieta\n",
    "def kauliukas():\n",
    "    iskritimai = []\n",
    "    for n in range(1):\n",
    "        iskritimai.append(random.randint(1, 6))\n",
    "        atsakymas = random.randint(1, 6)\n",
    "        if atsakymas == 5:\n",
    "            print(f'jus laimejote: {atsakymas}')\n",
    "        else:\n",
    "            print(iskritimai)\n",
    "kauliukas()\n",
    "        \n"
   ]
  },
  {
   "cell_type": "markdown",
   "metadata": {},
   "source": [
    "---\n",
    "\n",
    "## `import calendar` - kalendoriaus funkcijos"
   ]
  },
  {
   "cell_type": "markdown",
   "metadata": {},
   "source": [
    "Python'o `calendar` biblioteka suteikia galimybes dirbti su kalendoriais ir atlikti tokias operacijas kaip keliamųjų metų tikrinimą arba savaitės dienos nustatymą pagal datą. Štai keletas pavyzdžių:"
   ]
  },
  {
   "cell_type": "code",
   "execution_count": 148,
   "metadata": {},
   "outputs": [
    {
     "name": "stdout",
     "output_type": "stream",
     "text": [
      "False\n",
      "Tuesday\n",
      "(calendar.SATURDAY, 30)\n",
      "     April 2023\n",
      "Mo Tu We Th Fr Sa Su\n",
      "                1  2\n",
      " 3  4  5  6  7  8  9\n",
      "10 11 12 13 14 15 16\n",
      "17 18 19 20 21 22 23\n",
      "24 25 26 27 28 29 30\n",
      "\n"
     ]
    }
   ],
   "source": [
    "import calendar\n",
    "\n",
    "# Tikrinti, ar metai yra keliamieji\n",
    "print(calendar.isleap(2023))\n",
    "\n",
    "# Gaukite savaitės dienos pavadinimą pagal skaičių\n",
    "print(calendar.day_name[1]) # 'Tuesday'\n",
    "\n",
    "# Gaukite mėnesio dienų skaičių\n",
    "print(calendar.monthrange(2023, 4)) # (5, 30) - pirmoji balandžio diena yra šeštadienis (5), o balandžio mėnesyje yra 30 dienų\n",
    "\n",
    "# Atspausdinti mėnesio kalendorių\n",
    "print(calendar.month(2023, 4))"
   ]
  },
  {
   "cell_type": "markdown",
   "metadata": {},
   "source": [
    "`calendar` biblioteka turi daugiau funkcijų ir savybių, kurios padės jums dirbti su datomis ir laiku. Šie pavyzdžiai yra tik pradžia. Galite rasti daugiau informacijos apie `calendar` biblioteką [Python dokumentacijoje](https://docs.python.org/3/library/calendar.html)."
   ]
  },
  {
   "cell_type": "markdown",
   "metadata": {},
   "source": [
    "### Greita užduotis 3: `calendar` bibliotekos naudojimas"
   ]
  },
  {
   "cell_type": "markdown",
   "metadata": {},
   "source": [
    "Sukurkite Python funkciją, kuri vadinasi `print_month_calendar`.\n",
    "\n",
    "- Funkcija turėtų priimti du parametrus: metai ir menesis.\n",
    "- Funkcijos viduje, naudodami calendar modulį, sugeneruokite ir atspausdinkite nurodyto mėnesio kalendorių.\n",
    "- Apskaičiuokite ir atspausdinkite, kiek yra savaitgalio dienų (šeštadienių ir sekmadienių) nurodytame mėnesyje."
   ]
  },
  {
   "cell_type": "code",
   "execution_count": 147,
   "metadata": {},
   "outputs": [
    {
     "name": "stdout",
     "output_type": "stream",
     "text": [
      "First day of the month is on weekday: 5\n",
      "Number of days in the month: 31\n"
     ]
    }
   ],
   "source": [
    "# jusu kodo vieta\n",
    "\n",
    "import calendar\n",
    "\n",
    "def print_month_calendar(year, months):\n",
    "    print(calendar.month(year, months))\n",
    "\n",
    "    _, dienu_skaicius_per_men = calendar.month(year, months)\n",
    "\n",
    "    savaitgaliai = 0\n",
    "    for day in range(year, months, day):\n",
    "        \n",
    "\n",
    "    "
   ]
  },
  {
   "cell_type": "markdown",
   "metadata": {},
   "source": [
    "### Bibliotekos funkcijų auto-dokumentacijos gavimas programatiškai"
   ]
  },
  {
   "cell_type": "code",
   "execution_count": null,
   "metadata": {},
   "outputs": [],
   "source": [
    "import calendar\n",
    "\n",
    "library = calendar\n",
    "capabilities = dir(library)\n",
    "for capability in capabilities:\n",
    "    print(\"name:\", capability, \"\\nDocumentation:\\n\", getattr(library, capability).__doc__, \"\\n----\")"
   ]
  }
 ],
 "metadata": {
  "kernelspec": {
   "display_name": "venv",
   "language": "python",
   "name": "python3"
  },
  "language_info": {
   "codemirror_mode": {
    "name": "ipython",
    "version": 3
   },
   "file_extension": ".py",
   "mimetype": "text/x-python",
   "name": "python",
   "nbconvert_exporter": "python",
   "pygments_lexer": "ipython3",
   "version": "3.12.1"
  }
 },
 "nbformat": 4,
 "nbformat_minor": 2
}
