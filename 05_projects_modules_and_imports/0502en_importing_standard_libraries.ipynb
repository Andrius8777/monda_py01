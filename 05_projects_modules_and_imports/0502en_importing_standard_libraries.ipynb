{
 "cells": [
  {
   "cell_type": "markdown",
   "metadata": {},
   "source": [
    "# Importing Standard Libraries\n",
    "import `this` - \"The Zen of Python\"\n",
    "\n",
    "\"The Zen of Python\" is a poetic expression of the philosophy of the Python programming language written by Tim Peters. Here's how you can see it:"
   ]
  },
  {
   "cell_type": "code",
   "execution_count": null,
   "metadata": {},
   "outputs": [],
   "source": [
    "import this"
   ]
  },
  {
   "cell_type": "markdown",
   "metadata": {},
   "source": [
    "The main principles in these lines are:\n",
    "\n",
    "1. Clarity is better than obscurity.\n",
    "1. Simplicity is better than complexity.\n",
    "1. Flat is better than nested.\n",
    "1. Practicality beats purity."
   ]
  },
  {
   "cell_type": "markdown",
   "metadata": {},
   "source": [
    "### `import random` - random number generator functions\n",
    "Python's random library allows you to generate random numbers, select elements randomly from a list, and more. Here are a few examples:"
   ]
  },
  {
   "cell_type": "code",
   "execution_count": null,
   "metadata": {},
   "outputs": [],
   "source": [
    "import random\n",
    "\n",
    "# Generate a random number between 0 and 1\n",
    "print(random.random())\n",
    "\n",
    "# Generate a random integer between 1 and 10\n",
    "print(random.randint(1, 10))\n",
    "\n",
    "# Randomly select an element from a list\n",
    "my_list = [\"a\", \"b\", \"c\", \"d\", \"e\"]\n",
    "print(random.choice(my_list))\n"
   ]
  },
  {
   "cell_type": "markdown",
   "metadata": {},
   "source": [
    "# `Quick Assignment 1`:\n",
    "\n",
    "> Instructions:\n",
    "\n",
    "Write a function that prints 10 random numbers between 1 and 100 and arranges them in ascending order.\n",
    "\n",
    "1. Create a Python function named `print_and_sort_random_numbers`.\n",
    "1. The function should generate 10 random integers between 1 and 100.\n",
    "1. It should then print the original list of random numbers.\n",
    "1. Next, it should sort the list in ascending order.\n",
    "1. Finally, it should print the sorted list."
   ]
  },
  {
   "cell_type": "code",
   "execution_count": null,
   "metadata": {},
   "outputs": [],
   "source": [
    "# Your code here"
   ]
  },
  {
   "cell_type": "markdown",
   "metadata": {},
   "source": [
    "### `import math` - additional mathematical functions\n",
    "Python's math library provides access to additional mathematical functions and constants such as π (pi) and e. Here are some examples:"
   ]
  },
  {
   "cell_type": "code",
   "execution_count": null,
   "metadata": {},
   "outputs": [],
   "source": [
    "import math\n",
    "\n",
    "# Calculate the sine value\n",
    "print(math.sin(math.pi / 2))\n",
    "\n",
    "# Calculate the factorial\n",
    "print(math.factorial(5))\n",
    "\n",
    "# Calculate the square root\n",
    "print(math.sqrt(9))"
   ]
  },
  {
   "cell_type": "markdown",
   "metadata": {},
   "source": [
    "# `Quick Assignment 2: A dice game`\n",
    "\n",
    "Create a dice game that:\n",
    "\n",
    "1. Generates three random numbers between 1 and 6.\n",
    "1. If any of these numbers is 5, print \"You lose...\"\n",
    "1. Otherwise, print \"You win!\"\n",
    "\n",
    "> Instructions:\n",
    "\n",
    "1. Create a Python program that simulates the dice game.\n",
    "1. Use a loop to generate three random integers between 1 and 6.\n",
    "1. Check if any of the generated numbers is equal to 5.\n",
    "1. If one of the numbers is 5, print \"You lose...\"\n",
    "1. If none of the numbers is 5, print \"You win!\""
   ]
  },
  {
   "cell_type": "code",
   "execution_count": null,
   "metadata": {},
   "outputs": [],
   "source": [
    "# Your code here"
   ]
  },
  {
   "cell_type": "markdown",
   "metadata": {},
   "source": [
    "### `import calendar` - calendar functions\n",
    "Python's calendar library allows you to work with calendars, for example, to determine whether a year is a leap year or to find out which day of the week corresponds to a specific date. \n",
    "\n",
    "Here are some examples:"
   ]
  },
  {
   "cell_type": "code",
   "execution_count": null,
   "metadata": {},
   "outputs": [],
   "source": [
    "import calendar\n",
    "\n",
    "# Check if a year is a leap year\n",
    "print(calendar.isleap(2020))\n",
    "\n",
    "# Get the day name by number\n",
    "print(calendar.day_name[1])  # 'Tuesday'\n",
    "\n",
    "# Get the number of days in a month\n",
    "print(calendar.monthrange(2023, 4))  # (5, 30) - the first day of April is a Saturday (5), and April has 30 days\n",
    "\n",
    "# Print a monthly calendar\n",
    "print(calendar.month(2023, 10))\n"
   ]
  },
  {
   "cell_type": "markdown",
   "metadata": {},
   "source": [
    "The calendar library has many more functions and features to help you work with dates and times. \n",
    "\n",
    "These examples are just a starting point. You can find more information about the calendar library in the Python documentation.\n",
    "\n",
    "[Python documentation, calendar library](https://docs.python.org/3/library/calendar.html)"
   ]
  },
  {
   "cell_type": "markdown",
   "metadata": {},
   "source": [
    "# `Quick Assignment 3:`\n",
    "\n",
    "Write a Python function that takes a year and a month as input and then prints the calendar for that month. \n",
    "- Additionally, display the number of weekend days (Saturdays and Sundays) in that month.\n",
    "\n",
    "> Instructions:\n",
    "\n",
    "1. Create a Python function named `print_calendar_and_weekends`.\n",
    "1. The function should take two parameters: `year` and `month`.\n",
    "1. It should use the input year and month to print the calendar for that specific month.\n",
    "1. Display the number of weekend days (Saturdays and Sundays) in that month.\n",
    "1. You can use Python's calendar library to help you generate the calendar and count the weekends.\n",
    "1. Ensure that the function provides the correct calendar for the specified month and year, as well as the count of weekend days."
   ]
  },
  {
   "cell_type": "code",
   "execution_count": null,
   "metadata": {},
   "outputs": [],
   "source": [
    "# Your code here"
   ]
  }
 ],
 "metadata": {
  "kernelspec": {
   "display_name": "Python 3",
   "language": "python",
   "name": "python3"
  },
  "language_info": {
   "codemirror_mode": {
    "name": "ipython",
    "version": 3
   },
   "file_extension": ".py",
   "mimetype": "text/x-python",
   "name": "python",
   "nbconvert_exporter": "python",
   "pygments_lexer": "ipython3",
   "version": "3.10.6"
  }
 },
 "nbformat": 4,
 "nbformat_minor": 2
}
