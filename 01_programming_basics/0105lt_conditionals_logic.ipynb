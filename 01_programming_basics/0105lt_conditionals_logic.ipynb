{
 "cells": [
  {
   "cell_type": "markdown",
   "metadata": {},
   "source": [
    "# Paprasta logika „Python“ kalboje"
   ]
  },
  {
   "cell_type": "markdown",
   "metadata": {},
   "source": [
    "## Sąlygos"
   ]
  },
  {
   "cell_type": "markdown",
   "metadata": {},
   "source": [
    "Sąlygos yra programavimo teiginiai, leidžiantys priimti sprendimus remiantis tam tikromis sąlygomis. Jos leidžia jūsų kodui atlikti skirtingus veiksmus priklausomai nuo to, ar sąlyga yra teisinga ar klaidinga. Sąlygos yra sprendimų priėmimo programose pamatas.\n",
    "\n",
    "Python kalboje sąlygos yra pagrindžiamos naudojant if, elif - (trumpinys nuo 'else if') ir else teiginius. Jos laikosi tam tikros sintaksės:\n",
    "\n",
    "```Python\n",
    "if sąlyga:\n",
    "    # kodas, vykdomas, kai sąlyga yra teisinga\n",
    "\n",
    "elif sąlyga:\n",
    "    # kodas, vykdomas, kai ankstesnė sąlyga yra neteisinga ir ši sąlyga yra teisinga\n",
    "\n",
    "else:\n",
    "    # kodas, vykdomas, kai nė viena iš ankstesnių sąlygų nėra teisinga\n",
    "```\n",
    "\n",
    "Tai yra sąlyginių teiginių veikimo analizė:\n",
    "\n",
    "1. if teiginys patikrina nurodytą sąlygą. Jei sąlyga yra teisinga, vykdomas kodas, esantis po if teiginio.\n",
    "\n",
    "2. Pagal poreikį po if teiginio galite įtraukti vieną ar daugiau elif teiginių. Šie teiginiai taip pat patikrina sąlygą, tačiau tik tada, jei ankstesnės sąlygos if ir kituose elif teiginiuose yra neteisingos. Jei sąlyga vertinama kaip teisinga, vykdomas kodas, esantis atitinkamame elif bloke.\n",
    "\n",
    "3. Jei nei viena sąlyga if ir elif teiginiuose nėra teisinga, programa vykdo kodą, esantį else bloke (jei jis yra nurodytas), nes jis veikia kaip visų atvejų apimančioji dalis."
   ]
  },
  {
   "cell_type": "markdown",
   "metadata": {},
   "source": [
    "## Palyginimo operatoriai\n",
    "\n",
    "Palyginimo operatoriai naudojami lyginti dvi reikšmes arba išraiškas ir įvertinti jų santykį. Jie grąžina arba Teisinga (True) arba Klaidinga (False) pagal palyginimo rezultatą. Šie operatoriai dažnai naudojami sąlyginėse konstrukcijose, kad patikrintų sąlygas ir nustatytų programos eigą.\n",
    "\n",
    "Žemiau pateikiami keli dažnai naudojami palyginimo operatoriai „Python“ kalboje:\n",
    "\n",
    "- Lygus ( `==` ): Tikrina, ar abiejų pusių esančios reikšmės yra lygios.\n",
    "- Nelygus ( `!=` ): Tikrina, ar abiejuose pusėse esančios reikšmės nėra lygios.\n",
    "- Didesnis nei ( `>` ): Tikrina, ar kairėje pusėje esanti reikšmė yra didesnė nei dešinėje pusėje esanti reikšmė.\n",
    "- Mažesnis nei ( `<` ): Tikrina, ar kairėje pusėje esanti reikšmė yra mažesnė nei dešinėje pusėje esanti reikšmė.\n",
    "- Didesnis arba lygus ( `>=` ): Tikrina, ar kairėje pusėje esanti reikšmė yra didesnė arba lygi dešinėje pusėje esančiai reikšmei.\n",
    "- Mažesnis arba lygus ( `<=` ): Tikrina, ar kairėje pusėje esanti reikšmė yra mažesnė arba lygi dešinėje pusėje esančiai reikšmei.\n",
    "\n",
    "Jūs galite naudoti šiuos palyginimo operatorius sąlyginėse konstrukcijose, kad priimtumėte sprendimus remdamiesi jų rezultatais. Pavyzdys:"
   ]
  },
  {
   "cell_type": "code",
   "execution_count": 22,
   "metadata": {},
   "outputs": [],
   "source": [
    "amzius = 25"
   ]
  },
  {
   "cell_type": "code",
   "execution_count": 23,
   "metadata": {},
   "outputs": [
    {
     "name": "stdout",
     "output_type": "stream",
     "text": [
      "Jūs esate tinkamas.\n"
     ]
    }
   ],
   "source": [
    "# Sąlyginio kodo fragmentas\n",
    "if amzius < 18:\n",
    "    print(\"Jūs esate per jaunas.\")\n",
    "elif amzius >= 18 and amzius <= 65:\n",
    "    print(\"Jūs esate tinkamas.\")\n",
    "else:\n",
    "    print(\"Jūs esate per senas.\")"
   ]
  },
  {
   "cell_type": "markdown",
   "metadata": {},
   "source": [
    "Šiame pavyzdyje, priklausomai nuo `amzius` reikšmės, vartotojui rodomos skirtingos žinutės. Jei `amžius < 18`, spausdinama \"Jūs esate per jaunas.\", jei `amzius` yra tarp 18 ir 65 (įskaitant), spausdinama \"Jūs esate tinkamas.\", o jei nėra tenkinamos jokios sąlygos, spausdinama \"Jūs esate per senas.\"."
   ]
  },
  {
   "cell_type": "markdown",
   "metadata": {},
   "source": [
    "### Užduotis 1\n",
    "\n",
    "Nustatykite amžių `71` ir iš naujo paleiskite kodą, tadar pabandykite su skaičiumi `42`. Ar rezultatas skiriasi? O kaip su skaičiumi `15`?"
   ]
  },
  {
   "cell_type": "code",
   "execution_count": null,
   "metadata": {},
   "outputs": [],
   "source": []
  },
  {
   "cell_type": "markdown",
   "metadata": {},
   "source": [
    "### Užduotis 2\n",
    "\n",
    "Sukurkite du kintamuosius ir priskirkite jiems skaičius. Palyginkite juos naudodami sąlygines operatorių konstrukcijas ir atspausdinkite teiginį `ar skaičiai yra lygūs vienas kitam ar ne`."
   ]
  },
  {
   "cell_type": "code",
   "execution_count": null,
   "metadata": {},
   "outputs": [],
   "source": []
  },
  {
   "cell_type": "markdown",
   "metadata": {},
   "source": [
    "### Užduotis 3\n",
    "\n",
    "Priskirkite skaičių kintamajam, tada atspausdinkite teiginį ir patikrinkite ar skaičius yra `lyginis ar nelyginis`."
   ]
  },
  {
   "cell_type": "code",
   "execution_count": null,
   "metadata": {},
   "outputs": [],
   "source": []
  },
  {
   "cell_type": "markdown",
   "metadata": {},
   "source": [
    "---\n",
    "\n",
    "## 'Boolean' loginio tipo kintamieji"
   ]
  },
  {
   "cell_type": "markdown",
   "metadata": {},
   "source": [
    "Programavime `boolean` loginis duomenų tipas naudojamas reikšmėms atvaizduoti. Jis turi dvi galimas reikšmes: Teisinga (True) ir Neteisinga (False). Loginiai kintamieji dažnai naudojami sąlygose, cikluose ir kitose valdymo struktūrose, kontroliuojant programos eigos srautą priklausomai nuo sąlygų.\n",
    "\n",
    "Python kalboje galite priskirti logines reikšmes kintamiesiems naudodami žodžius `True` arba `False` (pastebėkite, kad jie turi būti rašomi `didžiosiomis` raidėmis). Pavyzdžiui:"
   ]
  },
  {
   "cell_type": "code",
   "execution_count": 24,
   "metadata": {},
   "outputs": [
    {
     "name": "stdout",
     "output_type": "stream",
     "text": [
      "True\n",
      "<class 'bool'>\n"
     ]
    }
   ],
   "source": [
    "lietus_lyja = True\n",
    "print(lietus_lyja)\n",
    "print(type(lietus_lyja))"
   ]
  },
  {
   "cell_type": "code",
   "execution_count": 25,
   "metadata": {},
   "outputs": [
    {
     "name": "stdout",
     "output_type": "stream",
     "text": [
      "False <class 'bool'>\n"
     ]
    }
   ],
   "source": [
    "lietus_baigesi = False\n",
    "print(lietus_baigesi, type(lietus_baigesi))"
   ]
  },
  {
   "cell_type": "markdown",
   "metadata": {},
   "source": [
    "'Boolean' Loginiai kintamieji gali būti sukurti priskyrus palyginimo rezultatą naudojant palyginimo operatorius. Pavyzdžiui:"
   ]
  },
  {
   "cell_type": "code",
   "execution_count": 26,
   "metadata": {},
   "outputs": [
    {
     "name": "stdout",
     "output_type": "stream",
     "text": [
      "True\n"
     ]
    }
   ],
   "source": [
    "amzius = 25\n",
    "pilnametis = age >= 18\n",
    "print(pilnametis) "
   ]
  },
  {
   "cell_type": "markdown",
   "metadata": {},
   "source": [
    "Šiame pavyzdyje palyginimas `amžius >= 18` įvertinamas kaip Teisingas (`True`), ir ši loginė reikšmė priskiriama kintamajam pilnametis."
   ]
  },
  {
   "cell_type": "markdown",
   "metadata": {},
   "source": [
    "### Užduotis 4\n",
    "\n",
    "Priskirkite skaičių kintamajam.\n",
    "\n",
    "Tadar patikrinkite, ar tas skaičius yra teigiamas, ir rezultatą priskirkite kintamajam `teigiamas`.\n",
    "\n",
    "Tadar atspausdinkite žmonėms suprantamą pranešimą, aprašantį, kad duotas skaičius yra arba teigiamas, arba neigiamas.\n"
   ]
  },
  {
   "cell_type": "code",
   "execution_count": null,
   "metadata": {},
   "outputs": [],
   "source": []
  },
  {
   "cell_type": "markdown",
   "metadata": {},
   "source": [
    "Pamąstymui: ar 0 yra teigiamas ar neigiamas skaičius?"
   ]
  },
  {
   "cell_type": "markdown",
   "metadata": {},
   "source": [
    "### Keletas svarbių dalykų apie logines 'Booleans' reikšmes\n",
    "\n",
    "- True (Teisinga) reiškia sąlygą, kuri yra tiesa arba reikšmę, kuri laikoma \"įjungta\" arba \"galiojančia\". Praktiškai, bet kuri kintamojo rūšis, kuri atstovauja bet kokiai reikšmei, išskyrus `0` arba `None`, yra Teisinga.\n",
    "- False (Neteisinga) reiškia sąlygą, kuri yra neteisinga arba reikšmę, kuri laikoma \"išjungta\" arba \"negaliojančia\". Praktiškai, bet kuri kintamojo rūšis, kuri atstovauja `0` arba `None`, yra Neteisinga.\n",
    "- 'Booleans' Logines reikšmes galima priskirti kintamiesiems, perduoti kaip argumentus ir naudoti išraiškose taip pat kaip bet kurį kitą duomenų tipą."
   ]
  },
  {
   "cell_type": "markdown",
   "metadata": {},
   "source": [
    "---\n",
    "\n",
    "## Loginiai operatoriai"
   ]
  },
  {
   "cell_type": "markdown",
   "metadata": {},
   "source": [
    "Jūs taip pat galite sujungti 'boolean' logines reikšmes naudodami loginius operatorius. Pagrindiniai loginiai operatoriai Python kalboje yra:\n",
    "\n",
    "- `and`: Grąžina `True` jei abu operandai yra `True`, kitu atveju grąžina `False`.\n",
    "- `or`: Grąžina `True` jei bent vienas iš operandų yra `True`, kitu atveju grąžina `False`.\n",
    "- `not`: Grąžina priešingą 'boolean' logine operandui reikšmę\n",
    "\n",
    "Štai pavyzdys, demonstruojantis loginių operatorių naudojimą:"
   ]
  },
  {
   "cell_type": "code",
   "execution_count": 27,
   "metadata": {},
   "outputs": [
    {
     "name": "stdout",
     "output_type": "stream",
     "text": [
      "Yra arba saulėta, arba šilta.\n"
     ]
    }
   ],
   "source": [
    "sauleta = True\n",
    "silta = False\n",
    "\n",
    "if sauleta and silta:\n",
    "    print(\"Yra saulėta ir šilta!\")\n",
    "elif sauleta or silta:\n",
    "    print(\"Yra arba saulėta, arba šilta.\")\n",
    "else:\n",
    "    print(\"Nėra nei saulėta, nei šilta.\")"
   ]
  },
  {
   "cell_type": "markdown",
   "metadata": {},
   "source": [
    "Šiuo atveju, jei abu `sauleta` ir `silta` yra teisingi, bus atspausdinta \"Yra saulėta ir šilta!\". Jei tik vienas iš jų yra teisingas, bus atspausdinta \"Yra arba saulėta, arba šilta.\". O jei abu yra neteisingi, bus atspausdinta \"Nėra nei saulėta, nei šilta.\""
   ]
  },
  {
   "cell_type": "markdown",
   "metadata": {},
   "source": [
    "### Loginių operatorių tiesos lentelės\n",
    "\n",
    "#### `and`\n",
    "\n",
    "| A     | B     | A `and` B |\n",
    "|-------|-------|-----------|\n",
    "| `True`  | `True`  | `True`    |\n",
    "| `True`  | `False` | `False`   |\n",
    "| `False` | `True`  | `False`   |\n",
    "| `False` | `False` | `False`   |\n",
    "\n",
    "#### `or`\n",
    "\n",
    "| A     | B     | A `or` B  |\n",
    "|-------|-------|----------|\n",
    "| `True`  | `True`  | `True`   |\n",
    "| `True`  | `False` | `True`   |\n",
    "| `False` | `True`  | `True`   |\n",
    "| `False` | `False` | `False`  |\n",
    "\n",
    "#### `not`\n",
    "\n",
    "| A     | `not` A |\n",
    "|-------|---------|\n",
    "| `True`  | `False`  |\n",
    "| `False` | `True`   |\n",
    "\n",
    "Šios tiesos lentelės aprašo šių loginių operatorių pagrindinį veikimą. Dirbant su sudėtingesnėmis išraiškomis, svarbu suprasti šių pagrindinių veikimo principų svarbą."
   ]
  },
  {
   "cell_type": "markdown",
   "metadata": {},
   "source": [
    "### Užduotis 5\n",
    "\n",
    "Nustatykite sveikūjų skaicių reikšmes dviems kintamiesiems. Patikrinkite, ar jie yra lyginiai ar nelyginiai, ir atspausdinkite pranešimą, ar jie `abu lyginiai` ar `abu yra nelyginiai`, arba `mišrūs lyginiai ir nelyginiai`. Pratestuokite visus scenarijus, kad patikrintumėte kodo teisingumą."
   ]
  },
  {
   "cell_type": "code",
   "execution_count": null,
   "metadata": {},
   "outputs": [],
   "source": []
  },
  {
   "cell_type": "markdown",
   "metadata": {},
   "source": [
    "### Daugiau pavyzdžių su loginėmis 'boolean' išraiškomis ir veiksmais"
   ]
  },
  {
   "cell_type": "code",
   "execution_count": 28,
   "metadata": {},
   "outputs": [],
   "source": [
    "x = 10\n",
    "y = 8"
   ]
  },
  {
   "cell_type": "code",
   "execution_count": 29,
   "metadata": {},
   "outputs": [
    {
     "name": "stdout",
     "output_type": "stream",
     "text": [
      "True\n"
     ]
    }
   ],
   "source": [
    "yra_didesnis = x > y\n",
    "print(yra_didesnis)"
   ]
  },
  {
   "cell_type": "code",
   "execution_count": 30,
   "metadata": {},
   "outputs": [
    {
     "name": "stdout",
     "output_type": "stream",
     "text": [
      "False\n"
     ]
    }
   ],
   "source": [
    "yra_lygus = x == y\n",
    "print(yra_lygus)"
   ]
  },
  {
   "cell_type": "code",
   "execution_count": 31,
   "metadata": {},
   "outputs": [
    {
     "name": "stdout",
     "output_type": "stream",
     "text": [
      "False\n"
     ]
    }
   ],
   "source": [
    "yra_lygus_10 = x == 10\n",
    "print(yra_lygus_10)"
   ]
  },
  {
   "cell_type": "code",
   "execution_count": 32,
   "metadata": {},
   "outputs": [
    {
     "name": "stdout",
     "output_type": "stream",
     "text": [
      "False\n"
     ]
    }
   ],
   "source": [
    "loginis_ir = yra_didesnis and yra_lygus\n",
    "print(loginis_ir)"
   ]
  },
  {
   "cell_type": "code",
   "execution_count": 33,
   "metadata": {},
   "outputs": [
    {
     "name": "stdout",
     "output_type": "stream",
     "text": [
      "True\n"
     ]
    }
   ],
   "source": [
    "loginis_arba = yra_didesnis or yra_lygus\n",
    "print(loginis_arba)"
   ]
  },
  {
   "cell_type": "code",
   "execution_count": 34,
   "metadata": {},
   "outputs": [
    {
     "name": "stdout",
     "output_type": "stream",
     "text": [
      "False\n"
     ]
    }
   ],
   "source": [
    "ne_loginis = not True\n",
    "print(ne_loginis)"
   ]
  },
  {
   "cell_type": "markdown",
   "metadata": {},
   "source": [
    "In these examples, we compare the values of `x` and `y` using comparison operators (`>`, `==`). The results of these comparisons are Boolean values (`True` or `False`). Then we perform logical operations (`and`, `or`, `not`) on these Boolean values to get the final results."
   ]
  },
  {
   "cell_type": "markdown",
   "metadata": {},
   "source": [
    "---\n",
    "\n",
    "### XOR (Exclusive OR) Operator:"
   ]
  },
  {
   "cell_type": "markdown",
   "metadata": {},
   "source": [
    "XOR returns True if exactly one of its operands is True and the other is False. If both operands are True or both are False, then XOR returns False.\n",
    "\n",
    "The `xor` operator, represented as `^` in Python (not to be confused with the power operation in other languages) and sometimes referred to as the \"exclusive or\".\n",
    "\n",
    "### Truth Table for XOR:\n",
    "\n",
    "| A     | B     | A `xor` B |\n",
    "|-------|-------|-----------|\n",
    "| `True`  | `True`  | `False`   |\n",
    "| `True`  | `False` | `True`    |\n",
    "| `False` | `True`  | `True`    |\n",
    "| `False` | `False` | `False`   |\n",
    "\n",
    "In Python, the bitwise XOR operator is `^`, but keep in mind that it primarily operates on bits of integers. However, for the sake of boolean logic, it does act like the logical XOR when used with `True` and `False`.\n",
    "\n",
    "💡Note: The XOR operation is also commonly used in cryptography, bit manipulation tasks, and various other areas in computer science and electronics.\n"
   ]
  },
  {
   "cell_type": "markdown",
   "metadata": {},
   "source": [
    "#### Practical Application Example: Light Switches\n",
    "\n",
    "Imagine you have a room with two entrances, and at each entrance, there's a switch to control the light in the room. The requirement is that flipping either switch should change the light's state. If the light is off and either switch is flipped, the light should turn on. If the light is on and either switch is flipped, the light should turn off. This is a classic example of how the `xor` operator works, and this kind of switch is sometimes referred to as a \"three-way switch\" in electrical parlance.\n",
    "\n",
    "In this Python representation:\n",
    "\n",
    "- We consider two switches: `switch_A` and `switch_B`.\n",
    "- Initially, both are in the \"off\" position (`False`).\n",
    "- If you flip `switch_A` (change its state from `False` to `True`), the light should turn on.\n",
    "- If you then flip `switch_B` (change its state from `False` to `True`), the light should turn off, even though both switches are now in the \"on\" position.\n",
    "\n",
    "Let's see this in code:"
   ]
  },
  {
   "cell_type": "code",
   "execution_count": 35,
   "metadata": {},
   "outputs": [
    {
     "name": "stdout",
     "output_type": "stream",
     "text": [
      "Light: False\n",
      "Light: True\n",
      "Light: False\n"
     ]
    }
   ],
   "source": [
    "switch_A = False  # Initial state: off\n",
    "switch_B = False  # Initial state: off\n",
    "\n",
    "print(\"Light:\", switch_A ^ switch_B)\n",
    "\n",
    "# Scenario 1: Flip switch_A\n",
    "switch_A = not switch_A\n",
    "print(\"Light:\", switch_A ^ switch_B)\n",
    "\n",
    "# Scenario 2: Now, flip switch_B\n",
    "switch_B = not switch_B\n",
    "print(\"Light:\", switch_A ^ switch_B)"
   ]
  },
  {
   "cell_type": "markdown",
   "metadata": {},
   "source": [
    "In the above example, the light's state is determined by the `xor` operation on the states of `switch_A` and `switch_B`. This emulates the behavior of two switches controlling a single light in a room."
   ]
  },
  {
   "cell_type": "markdown",
   "metadata": {},
   "source": [
    "### Quick Assignment 6\n",
    "\n",
    "Check if airlock is safe to use. Airlock has two doors, which either can be open or closed."
   ]
  },
  {
   "cell_type": "code",
   "execution_count": null,
   "metadata": {},
   "outputs": [],
   "source": []
  },
  {
   "cell_type": "markdown",
   "metadata": {},
   "source": [
    "---\n",
    "\n",
    "## Order precedence"
   ]
  },
  {
   "cell_type": "markdown",
   "metadata": {},
   "source": [
    "As with math operators, comparison and logical operators have their order precedence. These operators follow after math operators.\n",
    "\n",
    "- Comparison Operators: Comparison operators such as `<`, `>`, `<=`, `>=`, `==`, and `!=` are evaluated from left to right.\n",
    "- Logical Operators: The logical operators `not`, `and`, and `or` are evaluated last.\n",
    "\n",
    "Examples:"
   ]
  },
  {
   "cell_type": "code",
   "execution_count": 36,
   "metadata": {},
   "outputs": [
    {
     "data": {
      "text/plain": [
       "True"
      ]
     },
     "execution_count": 36,
     "metadata": {},
     "output_type": "execute_result"
    }
   ],
   "source": [
    "True or False and True"
   ]
  },
  {
   "cell_type": "code",
   "execution_count": 37,
   "metadata": {},
   "outputs": [
    {
     "data": {
      "text/plain": [
       "True"
      ]
     },
     "execution_count": 37,
     "metadata": {},
     "output_type": "execute_result"
    }
   ],
   "source": [
    "not True == False"
   ]
  },
  {
   "cell_type": "code",
   "execution_count": 38,
   "metadata": {},
   "outputs": [
    {
     "data": {
      "text/plain": [
       "True"
      ]
     },
     "execution_count": 38,
     "metadata": {},
     "output_type": "execute_result"
    }
   ],
   "source": [
    "big_number = 99\n",
    "small_number = 1\n",
    "\n",
    "big_number > small_number \\\n",
    "    and big_number + small_number == 100\n",
    "\n",
    "# tip: in Python we can use backslash `\\` to break \n",
    "# the line in our code does not fit, without breaking\n",
    "# the statement"
   ]
  },
  {
   "cell_type": "markdown",
   "metadata": {},
   "source": [
    "In case of `or` logical comparison, Python is designed to return the value of the first variable which is not False. Examples:"
   ]
  },
  {
   "cell_type": "code",
   "execution_count": 39,
   "metadata": {},
   "outputs": [
    {
     "data": {
      "text/plain": [
       "1"
      ]
     },
     "execution_count": 39,
     "metadata": {},
     "output_type": "execute_result"
    }
   ],
   "source": [
    "0 or small_number"
   ]
  },
  {
   "cell_type": "code",
   "execution_count": 40,
   "metadata": {},
   "outputs": [
    {
     "data": {
      "text/plain": [
       "99"
      ]
     },
     "execution_count": 40,
     "metadata": {},
     "output_type": "execute_result"
    }
   ],
   "source": [
    "None or big_number"
   ]
  },
  {
   "cell_type": "markdown",
   "metadata": {},
   "source": [
    "### Quick assignment 7\n",
    "\n",
    "Set 3 numeric variables. Check if the first variable is between the other two, try to optimize."
   ]
  },
  {
   "cell_type": "code",
   "execution_count": null,
   "metadata": {},
   "outputs": [],
   "source": []
  },
  {
   "cell_type": "markdown",
   "metadata": {},
   "source": [
    "### Quick assignment 8\n",
    "\n",
    "Set a variable with an integer value of a year. Now find if that year is leap year. It is every 4th year starting from 0, except every 100th year, but including every 400th year. For clarification and testing, years 1900 and 2100 are not leap years, while year 2000 was a leap year. Year 2023 is not a leap year, while year 2024 is."
   ]
  },
  {
   "cell_type": "code",
   "execution_count": null,
   "metadata": {},
   "outputs": [],
   "source": []
  },
  {
   "cell_type": "markdown",
   "metadata": {},
   "source": [
    "While there are many correct ways to solve the leap year problem, not all ar optimal, and most definitely there are many wrong ways."
   ]
  },
  {
   "cell_type": "markdown",
   "metadata": {},
   "source": [
    "---\n",
    "\n",
    "## `pass` Statement"
   ]
  },
  {
   "cell_type": "markdown",
   "metadata": {},
   "source": [
    "You can use `pass` statement in place of empty blocks. It is very useful to outline the code block architecture before filling in. Python, unlike other languages, does not tolerate empty code blocks.\n",
    "\n",
    "This example below shows how the code is only partially implemented to test the `is_raining` scenario:"
   ]
  },
  {
   "cell_type": "code",
   "execution_count": 41,
   "metadata": {},
   "outputs": [
    {
     "name": "stdout",
     "output_type": "stream",
     "text": [
      ".'.'.'.'.'\n",
      ".'.'.'.'.'\n",
      ".'.'.'.'.'\n",
      ".'.'.'.'.'\n"
     ]
    }
   ],
   "source": [
    "is_sunny = False\n",
    "is_raining = True\n",
    "if is_sunny and is_raining:\n",
    "    # print rainbow\n",
    "    pass\n",
    "elif is_sunny:\n",
    "    # print sun\n",
    "    pass\n",
    "else:\n",
    "    print(\".'.'.'.'.'\")\n",
    "    print(\".'.'.'.'.'\")\n",
    "    print(\".'.'.'.'.'\")\n",
    "    print(\".'.'.'.'.'\")            "
   ]
  },
  {
   "cell_type": "markdown",
   "metadata": {},
   "source": [
    "## Nested Conditionals"
   ]
  },
  {
   "cell_type": "markdown",
   "metadata": {},
   "source": [
    "In Python code blocks can be nested, and conditionals are the simpliest example to demonstrate this: "
   ]
  },
  {
   "cell_type": "code",
   "execution_count": 42,
   "metadata": {},
   "outputs": [
    {
     "name": "stdout",
     "output_type": "stream",
     "text": [
      "the sky cloudy\n",
      "and it's raining\n"
     ]
    }
   ],
   "source": [
    "is_cloudy = True\n",
    "is_raining = True\n",
    "if is_cloudy:\n",
    "    print('the sky cloudy')\n",
    "    if is_raining:\n",
    "        print('and it\\'s raining')\n",
    "else:\n",
    "    print('sun is shining')\n",
    "    if is_raining:\n",
    "        print('but it\\'s raining')"
   ]
  },
  {
   "cell_type": "markdown",
   "metadata": {},
   "source": [
    "### Quick Assignment 9\n",
    "\n",
    "Reimplement leap year solution only by using nesting, without logical operators. Which way is easier to understand?"
   ]
  },
  {
   "cell_type": "markdown",
   "metadata": {},
   "source": [
    "---\n",
    "\n",
    "## Conclusion\n",
    "\n",
    "Booleans are fundamental in programming, especially in conditionals and loops, as they allow us to control the flow of our programs based on the truth or falsity of certain conditions."
   ]
  },
  {
   "cell_type": "markdown",
   "metadata": {},
   "source": [
    "---\n",
    "\n",
    "## Additional Reading"
   ]
  },
  {
   "cell_type": "markdown",
   "metadata": {},
   "source": [
    "1. **Official Python Documentation**:\n",
    "    - [The `if` statement](https://docs.python.org/3/reference/compound_stmts.html#if): Detailed information on how the `if` statement works in Python.\n",
    "    - [Truth Value Testing](https://docs.python.org/3/library/stdtypes.html#truth-value-testing): Learn more about how Python determines the truthiness or falsiness of various objects.\n",
    "    - [Boolean Operations](https://docs.python.org/3/library/stdtypes.html#boolean-operations-and-or-not): Dive deeper into Python's built-in boolean operations, including `and`, `or`, and `not`.\n",
    "\n",
    "2. **Interactive Tutorials**:\n",
    "    - [LearnPython.org - Conditions](https://www.learnpython.org/en/Conditions): An interactive tutorial on Python conditions.\n",
    "    - [Programiz - Python If...Else](https://www.programiz.com/python-programming/if-elif-else): A beginner-friendly guide to the `if`, `elif`, and `else` statements in Python.\n",
    "\n",
    "3. **Deep Dives**:\n",
    "    - [Real Python - If Statements](https://realpython.com/python-conditional-statements/): A detailed exploration of conditional statements in Python, from basic `if` statements to more complex nested conditions.\n",
    "    - [GeeksforGeeks - Python Logical Operators](https://www.geeksforgeeks.org/python-logical-operators-with-examples-improvement-needed/): An article explaining logical operators in Python with practical examples.\n"
   ]
  }
 ],
 "metadata": {
  "kernelspec": {
   "display_name": "venv",
   "language": "python",
   "name": "python3"
  },
  "language_info": {
   "codemirror_mode": {
    "name": "ipython",
    "version": 3
   },
   "file_extension": ".py",
   "mimetype": "text/x-python",
   "name": "python",
   "nbconvert_exporter": "python",
   "pygments_lexer": "ipython3",
   "version": "3.10.12"
  },
  "orig_nbformat": 4
 },
 "nbformat": 4,
 "nbformat_minor": 2
}
