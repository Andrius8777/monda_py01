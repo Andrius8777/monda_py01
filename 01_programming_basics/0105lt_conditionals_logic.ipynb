{
 "cells": [
  {
   "cell_type": "markdown",
   "metadata": {},
   "source": [
    "# Paprasta logika „Python“ kalboje"
   ]
  },
  {
   "cell_type": "markdown",
   "metadata": {},
   "source": [
    "## Sąlygos"
   ]
  },
  {
   "cell_type": "markdown",
   "metadata": {},
   "source": [
    "Sąlygos yra programavimo teiginiai, leidžiantys priimti sprendimus remiantis tam tikromis sąlygomis. Jos leidžia jūsų kodui atlikti skirtingus veiksmus priklausomai nuo to, ar sąlyga yra teisinga ar klaidinga. Sąlygos yra sprendimų priėmimo programose pamatas.\n",
    "\n",
    "Python kalboje sąlygos yra pagrindžiamos naudojant if, elif - (trumpinys nuo 'else if') ir else teiginius. Jos laikosi tam tikros sintaksės:\n",
    "\n",
    "```Python\n",
    "if sąlyga:\n",
    "    # kodas, vykdomas, kai sąlyga yra teisinga\n",
    "\n",
    "elif sąlyga:\n",
    "    # kodas, vykdomas, kai ankstesnė sąlyga yra neteisinga ir ši sąlyga yra teisinga\n",
    "\n",
    "else:\n",
    "    # kodas, vykdomas, kai nė viena iš ankstesnių sąlygų nėra teisinga\n",
    "```\n",
    "\n",
    "Tai yra sąlyginių teiginių veikimo analizė:\n",
    "\n",
    "1. if teiginys patikrina nurodytą sąlygą. Jei sąlyga yra teisinga, vykdomas kodas, esantis po if teiginio.\n",
    "\n",
    "2. Pagal poreikį po if teiginio galite įtraukti vieną ar daugiau elif teiginių. Šie teiginiai taip pat patikrina sąlygą, tačiau tik tada, jei ankstesnės sąlygos if ir kituose elif teiginiuose yra neteisingos. Jei sąlyga vertinama kaip teisinga, vykdomas kodas, esantis atitinkamame elif bloke.\n",
    "\n",
    "3. Jei nei viena sąlyga if ir elif teiginiuose nėra teisinga, programa vykdo kodą, esantį else bloke (jei jis yra nurodytas), nes jis veikia kaip visų atvejų apimančioji dalis."
   ]
  },
  {
   "cell_type": "markdown",
   "metadata": {},
   "source": [
    "## Palyginimo operatoriai\n",
    "\n",
    "Palyginimo operatoriai naudojami lyginti dvi reikšmes arba išraiškas ir įvertinti jų santykį. Jie grąžina arba Teisinga (True) arba Klaidinga (False) pagal palyginimo rezultatą. Šie operatoriai dažnai naudojami sąlyginėse konstrukcijose, kad patikrintų sąlygas ir nustatytų programos eigą.\n",
    "\n",
    "Žemiau pateikiami keli dažnai naudojami palyginimo operatoriai „Python“ kalboje:\n",
    "\n",
    "- Lygus ( `==` ): Tikrina, ar abiejų pusių esančios reikšmės yra lygios.\n",
    "- Nelygus ( `!=` ): Tikrina, ar abiejuose pusėse esančios reikšmės nėra lygios.\n",
    "- Didesnis nei ( `>` ): Tikrina, ar kairėje pusėje esanti reikšmė yra didesnė nei dešinėje pusėje esanti reikšmė.\n",
    "- Mažesnis nei ( `<` ): Tikrina, ar kairėje pusėje esanti reikšmė yra mažesnė nei dešinėje pusėje esanti reikšmė.\n",
    "- Didesnis arba lygus ( `>=` ): Tikrina, ar kairėje pusėje esanti reikšmė yra didesnė arba lygi dešinėje pusėje esančiai reikšmei.\n",
    "- Mažesnis arba lygus ( `<=` ): Tikrina, ar kairėje pusėje esanti reikšmė yra mažesnė arba lygi dešinėje pusėje esančiai reikšmei.\n",
    "\n",
    "Jūs galite naudoti šiuos palyginimo operatorius sąlyginėse konstrukcijose, kad priimtumėte sprendimus remdamiesi jų rezultatais. Pavyzdys:"
   ]
  },
  {
   "cell_type": "code",
   "execution_count": 22,
   "metadata": {},
   "outputs": [],
   "source": [
    "amzius = 25"
   ]
  },
  {
   "cell_type": "code",
   "execution_count": 23,
   "metadata": {},
   "outputs": [
    {
     "name": "stdout",
     "output_type": "stream",
     "text": [
      "Jūs esate tinkamas.\n"
     ]
    }
   ],
   "source": [
    "# Sąlyginio kodo fragmentas\n",
    "if amzius < 18:\n",
    "    print(\"Jūs esate per jaunas.\")\n",
    "elif amzius >= 18 and amzius <= 65:\n",
    "    print(\"Jūs esate tinkamas.\")\n",
    "else:\n",
    "    print(\"Jūs esate per senas.\")"
   ]
  },
  {
   "cell_type": "markdown",
   "metadata": {},
   "source": [
    "Šiame pavyzdyje, priklausomai nuo `amzius` reikšmės, vartotojui rodomos skirtingos žinutės. Jei `amžius < 18`, spausdinama \"Jūs esate per jaunas.\", jei `amzius` yra tarp 18 ir 65 (įskaitant), spausdinama \"Jūs esate tinkamas.\", o jei nėra tenkinamos jokios sąlygos, spausdinama \"Jūs esate per senas.\"."
   ]
  },
  {
   "cell_type": "markdown",
   "metadata": {},
   "source": [
    "### Greita užduotis 1\n",
    "\n",
    "Nustatykite amžių `71` ir iš naujo paleiskite kodą, tadar pabandykite su skaičiumi `42`. Ar rezultatas skiriasi? O kaip su skaičiumi `15`?"
   ]
  },
  {
   "cell_type": "code",
   "execution_count": null,
   "metadata": {},
   "outputs": [],
   "source": []
  },
  {
   "cell_type": "markdown",
   "metadata": {},
   "source": [
    "### Greita užduotis 2\n",
    "\n",
    "Sukurkite du kintamuosius ir priskirkite jiems skaičius. Palyginkite juos naudodami sąlygines operatorių konstrukcijas ir atspausdinkite teiginį `ar skaičiai yra lygūs vienas kitam ar ne`."
   ]
  },
  {
   "cell_type": "code",
   "execution_count": null,
   "metadata": {},
   "outputs": [],
   "source": []
  },
  {
   "cell_type": "markdown",
   "metadata": {},
   "source": [
    "### Greita užduotis 3\n",
    "\n",
    "Priskirkite skaičių kintamajam, tada atspausdinkite teiginį ir patikrinkite ar skaičius yra `lyginis ar nelyginis`."
   ]
  },
  {
   "cell_type": "code",
   "execution_count": null,
   "metadata": {},
   "outputs": [],
   "source": []
  },
  {
   "cell_type": "markdown",
   "metadata": {},
   "source": [
    "---\n",
    "\n",
    "## 'Boolean' loginio tipo kintamieji"
   ]
  },
  {
   "cell_type": "markdown",
   "metadata": {},
   "source": [
    "Programavime `boolean` loginis duomenų tipas naudojamas reikšmėms atvaizduoti. Jis turi dvi galimas reikšmes: Teisinga (True) ir Neteisinga (False). Loginiai kintamieji dažnai naudojami sąlygose, cikluose ir kitose valdymo struktūrose, kontroliuojant programos eigos srautą priklausomai nuo sąlygų.\n",
    "\n",
    "Python kalboje galite priskirti logines reikšmes kintamiesiems naudodami žodžius `True` arba `False` (pastebėkite, kad jie turi būti rašomi `didžiosiomis` raidėmis). Pavyzdžiui:"
   ]
  },
  {
   "cell_type": "code",
   "execution_count": 24,
   "metadata": {},
   "outputs": [
    {
     "name": "stdout",
     "output_type": "stream",
     "text": [
      "True\n",
      "<class 'bool'>\n"
     ]
    }
   ],
   "source": [
    "lietus_lyja = True\n",
    "print(lietus_lyja)\n",
    "print(type(lietus_lyja))"
   ]
  },
  {
   "cell_type": "code",
   "execution_count": 25,
   "metadata": {},
   "outputs": [
    {
     "name": "stdout",
     "output_type": "stream",
     "text": [
      "False <class 'bool'>\n"
     ]
    }
   ],
   "source": [
    "lietus_baigesi = False\n",
    "print(lietus_baigesi, type(lietus_baigesi))"
   ]
  },
  {
   "cell_type": "markdown",
   "metadata": {},
   "source": [
    "'Boolean' Loginiai kintamieji gali būti sukurti priskyrus palyginimo rezultatą naudojant palyginimo operatorius. Pavyzdžiui:"
   ]
  },
  {
   "cell_type": "code",
   "execution_count": 26,
   "metadata": {},
   "outputs": [
    {
     "name": "stdout",
     "output_type": "stream",
     "text": [
      "True\n"
     ]
    }
   ],
   "source": [
    "amzius = 25\n",
    "pilnametis = age >= 18\n",
    "print(pilnametis) "
   ]
  },
  {
   "cell_type": "markdown",
   "metadata": {},
   "source": [
    "Šiame pavyzdyje palyginimas `amžius >= 18` įvertinamas kaip Teisingas (`True`), ir ši loginė reikšmė priskiriama kintamajam pilnametis."
   ]
  },
  {
   "cell_type": "markdown",
   "metadata": {},
   "source": [
    "### Greita užduotis 4\n",
    "\n",
    "Priskirkite skaičių kintamajam.\n",
    "\n",
    "Tadar patikrinkite, ar tas skaičius yra teigiamas, ir rezultatą priskirkite kintamajam `teigiamas`.\n",
    "\n",
    "Tadar atspausdinkite žmonėms suprantamą pranešimą, aprašantį, kad duotas skaičius yra arba teigiamas, arba neigiamas.\n"
   ]
  },
  {
   "cell_type": "code",
   "execution_count": null,
   "metadata": {},
   "outputs": [],
   "source": []
  },
  {
   "cell_type": "markdown",
   "metadata": {},
   "source": [
    "Pamąstymui: ar 0 yra teigiamas ar neigiamas skaičius?"
   ]
  },
  {
   "cell_type": "markdown",
   "metadata": {},
   "source": [
    "### Keletas svarbių dalykų apie logines 'Booleans' reikšmes\n",
    "\n",
    "- True (Teisinga) reiškia sąlygą, kuri yra tiesa arba reikšmę, kuri laikoma \"įjungta\" arba \"galiojančia\". Praktiškai, bet kuri kintamojo rūšis, kuri atstovauja bet kokiai reikšmei, išskyrus `0` arba `None`, yra Teisinga.\n",
    "- False (Neteisinga) reiškia sąlygą, kuri yra neteisinga arba reikšmę, kuri laikoma \"išjungta\" arba \"negaliojančia\". Praktiškai, bet kuri kintamojo rūšis, kuri atstovauja `0` arba `None`, yra Neteisinga.\n",
    "- 'Booleans' Logines reikšmes galima priskirti kintamiesiems, perduoti kaip argumentus ir naudoti išraiškose taip pat kaip bet kurį kitą duomenų tipą."
   ]
  },
  {
   "cell_type": "markdown",
   "metadata": {},
   "source": [
    "---\n",
    "\n",
    "## Loginiai operatoriai"
   ]
  },
  {
   "cell_type": "markdown",
   "metadata": {},
   "source": [
    "Jūs taip pat galite sujungti 'boolean' logines reikšmes naudodami loginius operatorius. Pagrindiniai loginiai operatoriai Python kalboje yra:\n",
    "\n",
    "- `and`: Grąžina `True` jei abu operandai yra `True`, kitu atveju grąžina `False`.\n",
    "- `or`: Grąžina `True` jei bent vienas iš operandų yra `True`, kitu atveju grąžina `False`.\n",
    "- `not`: Grąžina priešingą 'boolean' logine operandui reikšmę\n",
    "\n",
    "Štai pavyzdys, demonstruojantis loginių operatorių naudojimą:"
   ]
  },
  {
   "cell_type": "code",
   "execution_count": 27,
   "metadata": {},
   "outputs": [
    {
     "name": "stdout",
     "output_type": "stream",
     "text": [
      "Yra arba saulėta, arba šilta.\n"
     ]
    }
   ],
   "source": [
    "sauleta = True\n",
    "silta = False\n",
    "\n",
    "if sauleta and silta:\n",
    "    print(\"Yra saulėta ir šilta!\")\n",
    "elif sauleta or silta:\n",
    "    print(\"Yra arba saulėta, arba šilta.\")\n",
    "else:\n",
    "    print(\"Nėra nei saulėta, nei šilta.\")"
   ]
  },
  {
   "cell_type": "markdown",
   "metadata": {},
   "source": [
    "Šiuo atveju, jei abu `sauleta` ir `silta` yra teisingi, bus atspausdinta \"Yra saulėta ir šilta!\". Jei tik vienas iš jų yra teisingas, bus atspausdinta \"Yra arba saulėta, arba šilta.\". O jei abu yra neteisingi, bus atspausdinta \"Nėra nei saulėta, nei šilta.\""
   ]
  },
  {
   "cell_type": "markdown",
   "metadata": {},
   "source": [
    "### Loginių operatorių tiesos lentelės\n",
    "\n",
    "#### `and`\n",
    "\n",
    "| A     | B     | A `and` B |\n",
    "|-------|-------|-----------|\n",
    "| `True`  | `True`  | `True`    |\n",
    "| `True`  | `False` | `False`   |\n",
    "| `False` | `True`  | `False`   |\n",
    "| `False` | `False` | `False`   |\n",
    "\n",
    "#### `or`\n",
    "\n",
    "| A     | B     | A `or` B  |\n",
    "|-------|-------|----------|\n",
    "| `True`  | `True`  | `True`   |\n",
    "| `True`  | `False` | `True`   |\n",
    "| `False` | `True`  | `True`   |\n",
    "| `False` | `False` | `False`  |\n",
    "\n",
    "#### `not`\n",
    "\n",
    "| A     | `not` A |\n",
    "|-------|---------|\n",
    "| `True`  | `False`  |\n",
    "| `False` | `True`   |\n",
    "\n",
    "Šios tiesos lentelės aprašo šių loginių operatorių pagrindinį veikimą. Dirbant su sudėtingesnėmis išraiškomis, svarbu suprasti šių pagrindinių veikimo principų svarbą."
   ]
  },
  {
   "cell_type": "markdown",
   "metadata": {},
   "source": [
    "### Greita užduotis 5\n",
    "\n",
    "Nustatykite sveikūjų skaicių reikšmes dviems kintamiesiems. Patikrinkite, ar jie yra lyginiai ar nelyginiai, ir atspausdinkite pranešimą, ar jie `abu lyginiai` ar `abu yra nelyginiai`, arba `mišrūs lyginiai ir nelyginiai`. Pratestuokite visus scenarijus, kad patikrintumėte kodo teisingumą."
   ]
  },
  {
   "cell_type": "code",
   "execution_count": null,
   "metadata": {},
   "outputs": [],
   "source": []
  },
  {
   "cell_type": "markdown",
   "metadata": {},
   "source": [
    "### Daugiau pavyzdžių su loginėmis 'boolean' išraiškomis ir veiksmais"
   ]
  },
  {
   "cell_type": "code",
   "execution_count": 28,
   "metadata": {},
   "outputs": [],
   "source": [
    "x = 10\n",
    "y = 8"
   ]
  },
  {
   "cell_type": "code",
   "execution_count": 29,
   "metadata": {},
   "outputs": [
    {
     "name": "stdout",
     "output_type": "stream",
     "text": [
      "True\n"
     ]
    }
   ],
   "source": [
    "yra_didesnis = x > y\n",
    "print(yra_didesnis)"
   ]
  },
  {
   "cell_type": "code",
   "execution_count": 30,
   "metadata": {},
   "outputs": [
    {
     "name": "stdout",
     "output_type": "stream",
     "text": [
      "False\n"
     ]
    }
   ],
   "source": [
    "yra_lygus = x == y\n",
    "print(yra_lygus)"
   ]
  },
  {
   "cell_type": "code",
   "execution_count": 31,
   "metadata": {},
   "outputs": [
    {
     "name": "stdout",
     "output_type": "stream",
     "text": [
      "False\n"
     ]
    }
   ],
   "source": [
    "yra_lygus_10 = x == 10\n",
    "print(yra_lygus_10)"
   ]
  },
  {
   "cell_type": "code",
   "execution_count": 32,
   "metadata": {},
   "outputs": [
    {
     "name": "stdout",
     "output_type": "stream",
     "text": [
      "False\n"
     ]
    }
   ],
   "source": [
    "loginis_ir = yra_didesnis and yra_lygus\n",
    "print(loginis_ir)"
   ]
  },
  {
   "cell_type": "code",
   "execution_count": 33,
   "metadata": {},
   "outputs": [
    {
     "name": "stdout",
     "output_type": "stream",
     "text": [
      "True\n"
     ]
    }
   ],
   "source": [
    "loginis_arba = yra_didesnis or yra_lygus\n",
    "print(loginis_arba)"
   ]
  },
  {
   "cell_type": "code",
   "execution_count": 34,
   "metadata": {},
   "outputs": [
    {
     "name": "stdout",
     "output_type": "stream",
     "text": [
      "False\n"
     ]
    }
   ],
   "source": [
    "ne_loginis = not True\n",
    "print(ne_loginis)"
   ]
  },
  {
   "cell_type": "markdown",
   "metadata": {},
   "source": [
    "Šiuose pavyzdžiuose mes lyginame `x` ir `y` reikšmes naudodami palyginimo operatorius (`>`, `==`). Šių palyginimų rezultatai yra 'Boolean' loginės reikšmės (`True` arba `False`). Tada atliekame loginius veiksmus (`and`, `or`, `not`) su šiomis 'Boolean' loginėmis reikšmėmis, kad gautume galutinius rezultatus."
   ]
  },
  {
   "cell_type": "markdown",
   "metadata": {},
   "source": [
    "---\n",
    "\n",
    "### XOR (Ekskliuzyvus OR) operatorius:"
   ]
  },
  {
   "cell_type": "markdown",
   "metadata": {},
   "source": [
    "XOR grąžina `True`, jei tik vienas iš jo operandų yra `True`, o kitas - `False`. Jei abu operandai yra `True` arba abu yra `False`, tuomet XOR grąžina `False`.\n",
    "\n",
    "`xor` operatorius Python kalboje yra simbolizuojamas kaip `^` (nesusimaišykite su laipsnio operatoriumi kitose kalbose) jis kartais vadinamas \"ekskliuzyvus `or`\".\n",
    "\n",
    "### Tiesos lentelė XOR operacijai:\n",
    "\n",
    "| A     | B     | A `xor` B |\n",
    "|-------|-------|-----------|\n",
    "| `True`  | `True`  | `False`   |\n",
    "| `True`  | `False` | `True`    |\n",
    "| `False` | `True`  | `True`    |\n",
    "| `False` | `False` | `False`   |\n",
    "\n",
    "Python kalboje 'bitwise' bitinis XOR operatorius yra `^`, tačiau atsiminkite, kad jis veikia su sveikųjų skaičių bitais. Tačiau loginės 'boolean' logikos atveju jis elgiasi kaip loginis XOR, kai naudojamas su `True` ir `False`.\n",
    "\n",
    "💡Pastaba: XOR operacija taip pat dažnai naudojama kriptografijoje, bitų manipuliavimo užduotyse ir įvairiose kitose kompiuterijos ir elektronikos srityse.\n"
   ]
  },
  {
   "cell_type": "markdown",
   "metadata": {},
   "source": [
    "#### Praktinės programelės pavyzdys: Lempos jungikliai\n",
    "\n",
    "Įsivaizduokite, kad turite patalpą su dviem įėjimais, ir kiekviename įėjime yra jungiklis, skirtas valdyti šviesą patalpoje. Reikalavimas yra toks, kad perjungus bet kurį iš jungiklių, šviesos būsena turi pasikeisti. Jei šviesa išjungta ir perjungiamas bent vienas jungiklis, šviesa turi įsijungti. Jei šviesa įjungta ir perjungiamas bent vienas jungiklis, šviesa turi išsijungti. Tai klasikinis pavyzdys, kaip veikia `XOR` operatorius, ir šio tipo jungiklis kartais vadinamas 'trijų kelių jungikliu' elektrotechninėje kalboje.\n",
    "\n",
    "Šioje Python reprezentacijoje:\n",
    "\n",
    "- Mes turime du jungiklius: `jungikli_A` ir `jungikli_B`.\n",
    "- Pradžioje abu yra \"išjungti\" padėtyje (`False`).\n",
    "- Jei perjungsime `jungikli_A` (pasikeis jo būseną iš `False` į `True`), šviesa turėtų įsijungti.\n",
    "- Jei tuomet perjungsime jungikli_B (pasikeis jo būseną iš False į True), šviesa turėtų išsijungti, nors abu jungikliai dabar yra \"įjungti\" padėtyje.\n",
    "\n",
    "Pažiūrėkime į kodą:"
   ]
  },
  {
   "cell_type": "code",
   "execution_count": 35,
   "metadata": {},
   "outputs": [
    {
     "name": "stdout",
     "output_type": "stream",
     "text": [
      "Šviečia: False\n",
      "Šviečia: True\n",
      "Šviečia: False\n"
     ]
    }
   ],
   "source": [
    "jungiklis_A = False  # Pradinė būsena: išjungtas\n",
    "jungiklis_B = False  # Pradinė būsena: išjungtas\n",
    "\n",
    "print(\"Šviečia:\", jungiklis_A ^ jungiklis_B)\n",
    "\n",
    "# Scenarijus 1: Perjungti jungiklį_A\n",
    "jungiklis_A = not jungiklis_A\n",
    "print(\"Šviečia:\", jungiklis_A ^ jungiklis_B)\n",
    "\n",
    "# Scenarijus 2: Dabar, perjungti jungiklį_B\n",
    "jungiklis_B = not jungiklis_B\n",
    "print(\"Šviečia:\", jungiklis_A ^ jungiklis_B)"
   ]
  },
  {
   "cell_type": "markdown",
   "metadata": {},
   "source": [
    "Pirmiau pateiktame pavyzdyje šviesos būsena nustatoma atlikus `xor` operaciją su jungiklio_A ir jungiklio_B būsenomis. Taip atkartojamas dviejų jungiklių valdomos šviesos elgesys patalpoje."
   ]
  },
  {
   "cell_type": "markdown",
   "metadata": {},
   "source": [
    "### Greita užduotis 6\n",
    "\n",
    "Patikrinkite, ar oro užrakinimo sistema yra saugi naudoti. Oro užraktas turi dvi duris, kurios gali būti atidarytos arba uždarytos."
   ]
  },
  {
   "cell_type": "code",
   "execution_count": null,
   "metadata": {},
   "outputs": [],
   "source": []
  },
  {
   "cell_type": "markdown",
   "metadata": {},
   "source": [
    "---\n",
    "\n",
    "## Veiksmų eiliškumas"
   ]
  },
  {
   "cell_type": "markdown",
   "metadata": {},
   "source": [
    "Kaip ir matematikos operatoriai, palyginimo ir 'boolean' loginiai operatoriai turi savo eiliškumą. Šie operatoriai seka po matematikos operatorių.\n",
    "\n",
    "- Palyginimo operatoriai: Palyginimo operatoriai, tokie kaip `<`, `>`, `<=`, `>=`, `==` ir `!=`, eiliškumas: iš kairės į dešinę.\n",
    "- Loginiai 'boolean' operatoriai: Loginiai 'boolean 'operatoriai `not`, `and` ir `or` yra vertinami paskutiniai.\n",
    "\n",
    "Pavyzdžiai:"
   ]
  },
  {
   "cell_type": "code",
   "execution_count": 36,
   "metadata": {},
   "outputs": [
    {
     "data": {
      "text/plain": [
       "True"
      ]
     },
     "execution_count": 36,
     "metadata": {},
     "output_type": "execute_result"
    }
   ],
   "source": [
    "True or False and True"
   ]
  },
  {
   "cell_type": "code",
   "execution_count": 37,
   "metadata": {},
   "outputs": [
    {
     "data": {
      "text/plain": [
       "True"
      ]
     },
     "execution_count": 37,
     "metadata": {},
     "output_type": "execute_result"
    }
   ],
   "source": [
    "not True == False"
   ]
  },
  {
   "cell_type": "code",
   "execution_count": 38,
   "metadata": {},
   "outputs": [
    {
     "data": {
      "text/plain": [
       "True"
      ]
     },
     "execution_count": 38,
     "metadata": {},
     "output_type": "execute_result"
    }
   ],
   "source": [
    "didelis_skaicius = 99\n",
    "mazas_skaicius = 1\n",
    "\n",
    "didelis_skaicius > mazas_skaicius \\\n",
    "    and didelis_skaicius + mazas_skaicius == 100\n",
    "\n",
    "# patarimas: Python kalboje galime naudoti pasvirąjį brūkšnį `\\`\n",
    "# kad padalintume kodą į eilutes, jei mūsų kodas netelpa, nesutraukiant\n",
    "# pačio teiginio"
   ]
  },
  {
   "cell_type": "markdown",
   "metadata": {},
   "source": [
    "Atliekant 'or' loginį palyginimą, Python yra suprojektuotas taip, kad grąžintų pirmąsias kintamojo reikšmes, kurios nėra 'False'. Pavyzdžiai:"
   ]
  },
  {
   "cell_type": "code",
   "execution_count": 39,
   "metadata": {},
   "outputs": [
    {
     "data": {
      "text/plain": [
       "1"
      ]
     },
     "execution_count": 39,
     "metadata": {},
     "output_type": "execute_result"
    }
   ],
   "source": [
    "0 or mazas_skaicius"
   ]
  },
  {
   "cell_type": "code",
   "execution_count": 40,
   "metadata": {},
   "outputs": [
    {
     "data": {
      "text/plain": [
       "99"
      ]
     },
     "execution_count": 40,
     "metadata": {},
     "output_type": "execute_result"
    }
   ],
   "source": [
    "None or didelis_skaicius"
   ]
  },
  {
   "cell_type": "markdown",
   "metadata": {},
   "source": [
    "### Greita užduotis 7\n",
    "\n",
    "Parašykite 3 kintamuosius ir priskirkite jiems skaičius. Patikrinkite, ar pirmasis skaičius yra tarp kitų dviejų, bandykite optimizuoti."
   ]
  },
  {
   "cell_type": "code",
   "execution_count": null,
   "metadata": {},
   "outputs": [],
   "source": []
  },
  {
   "cell_type": "markdown",
   "metadata": {},
   "source": [
    "### Greita užduotis 8\n",
    "\n",
    "Nustatykite kintamąjį su sveikojo skaičiaus reikšme, nurodančią metus. Dabar sužinokite, ar tie metai yra keliamieji. Tai yra kas 4 metai, pradedant nuo 0, išskyrus kas 100, bet įskaitant kas 400 metus. Išaiškinimo ir patikrinimo tikslais 1900 ir 2100 metai nėra keliamieji, o 2000 metai buvo keliamieji. 2023 metai nėra keliamieji, o 2024 metai yra."
   ]
  },
  {
   "cell_type": "code",
   "execution_count": null,
   "metadata": {},
   "outputs": [],
   "source": []
  },
  {
   "cell_type": "markdown",
   "metadata": {},
   "source": [
    "Nors yra daug teisingų būdų, kaip išspręsti keliamųjų metų problemą, ne visi yra optimalūs ir, be abejo, yra daug neteisingų būdų."
   ]
  },
  {
   "cell_type": "markdown",
   "metadata": {},
   "source": [
    "---\n",
    "\n",
    "## Tusčių blokų užpildymas naudojant `pass` komandą"
   ]
  },
  {
   "cell_type": "markdown",
   "metadata": {},
   "source": [
    "Kartais programavimo metu gali prireikti tuščio bloko. Tam galima naudoti `pass` komandą. Ji padeda aiškiai nurodyti, kad ši vieta programoje yra numatyta ateityje užpildyti. Python kalba, skirtingai nei kai kurios kitos kalbos, neleidžia turėti tuščių blokų, todėl `pass` komanda gali būti naudinga, norint išvengti sintaksinių klaidų.\n",
    "\n",
    "Šiame toliau pateiktame pavyzdyje parodyta, kaip kodas įdiegiamas tik iš dalies, kad būtų galima išbandyti scenarijų „lietinga“:"
   ]
  },
  {
   "cell_type": "code",
   "execution_count": 41,
   "metadata": {},
   "outputs": [
    {
     "name": "stdout",
     "output_type": "stream",
     "text": [
      ".'.'.'.'.'\n",
      ".'.'.'.'.'\n",
      ".'.'.'.'.'\n",
      ".'.'.'.'.'\n"
     ]
    }
   ],
   "source": [
    "yra_saule = False\n",
    "lietinga = True\n",
    "if yra_saule and lietinga:\n",
    "    # print vaivorykštė\n",
    "    pass\n",
    "elif yra_saule:\n",
    "    # print saulė\n",
    "    pass\n",
    "else:\n",
    "    print(\".'.'.'.'.'\")\n",
    "    print(\".'.'.'.'.'\")\n",
    "    print(\".'.'.'.'.'\")\n",
    "    print(\".'.'.'.'.'\")            "
   ]
  },
  {
   "cell_type": "markdown",
   "metadata": {},
   "source": [
    "## Įterptos sąlygos"
   ]
  },
  {
   "cell_type": "markdown",
   "metadata": {},
   "source": [
    "Python kalboje galima įterpti vienus sąlyginius sakinio blokus į kitus, ir sąlygos yra vienas paprasčiausių būdų tai parodyti: "
   ]
  },
  {
   "cell_type": "code",
   "execution_count": 42,
   "metadata": {},
   "outputs": [
    {
     "name": "stdout",
     "output_type": "stream",
     "text": [
      "dangus yra debesuotas\n",
      "ir lyja\n"
     ]
    }
   ],
   "source": [
    "yra_debesuota = True\n",
    "lietinga = True\n",
    "if yra_debesuota:\n",
    "    print('dangus yra debesuotas')\n",
    "    if lietinga:\n",
    "        print('ir lyja')\n",
    "else:\n",
    "    print('saule šviečia')\n",
    "    if lietinga:\n",
    "        print('bet lyja')"
   ]
  },
  {
   "cell_type": "markdown",
   "metadata": {},
   "source": [
    "### Greita užduotis 9\n",
    "\n",
    "Pakartotinai įgyvendinkite keliamųjų metų sprendimą tik naudodami įterptas sąlygas, ​​be loginių operatorių. Kuris būdas lengviau suprantamas?"
   ]
  },
  {
   "cell_type": "markdown",
   "metadata": {},
   "source": [
    "---\n",
    "\n",
    "## Išvada\n",
    "\n",
    "'Booleans' loginiai kintamieji yra pagrindiniai programavime, ypač sąlygose ir cikluose, nes jie leidžia mums valdyti programos eigoje pagal tam tikrų sąlygų tiesą(True) arba neteisybę(False)."
   ]
  },
  {
   "cell_type": "markdown",
   "metadata": {},
   "source": [
    "---\n",
    "\n",
    "## Papildoma informacija"
   ]
  },
  {
   "cell_type": "markdown",
   "metadata": {},
   "source": [
    "1. **Oficiali Python dokumentacija**:\n",
    "    - [`if` sąlyga](https://docs.python.org/3/reference/compound_stmts.html#if): Išsamus aprašymas apie tai, kaip veikia `if` sakinys Python programavimo kalboje.\n",
    "    - [Tiesos reikšmių testavimas](https://docs.python.org/3/library/stdtypes.html#truth-value-testing): Sužinokite daugiau apie tai, kaip Python programavimo kalba nustato objektų tiesą arba netiesą.\n",
    "    - ['Boolean' loginiai veiksmai](https://docs.python.org/3/library/stdtypes.html#boolean-operations-and-or-not): Detalus įvadas į Python programavimo kalbos standartinius loginius veiksmus, tokius kaip `and`, `or`, ir `not`. Interaktyvūs mokymai:\n",
    "\n",
    "2. **Interactive Tutorials**:\n",
    "    - [LearnPython.org - Conditions](https://www.learnpython.org/en/Conditions): An interactive tutorial on Python conditions.\n",
    "    - [Programiz - Python If...Else](https://www.programiz.com/python-programming/if-elif-else): A beginner-friendly guide to the `if`, `elif`, and `else` statements in Python.\n",
    "\n",
    "3. **Deep Dives**:\n",
    "    - [Real Python - If Statements](https://realpython.com/python-conditional-statements/): A detailed exploration of conditional statements in Python, from basic `if` statements to more complex nested conditions.\n",
    "    - [GeeksforGeeks - Python Logical Operators](https://www.geeksforgeeks.org/python-logical-operators-with-examples-improvement-needed/): An article explaining logical operators in Python with practical examples.\n"
   ]
  }
 ],
 "metadata": {
  "kernelspec": {
   "display_name": "venv",
   "language": "python",
   "name": "python3"
  },
  "language_info": {
   "codemirror_mode": {
    "name": "ipython",
    "version": 3
   },
   "file_extension": ".py",
   "mimetype": "text/x-python",
   "name": "python",
   "nbconvert_exporter": "python",
   "pygments_lexer": "ipython3",
   "version": "3.10.12"
  },
  "orig_nbformat": 4
 },
 "nbformat": 4,
 "nbformat_minor": 2
}
