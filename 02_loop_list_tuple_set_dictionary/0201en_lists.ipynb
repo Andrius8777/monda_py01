{
 "cells": [
  {
   "cell_type": "markdown",
   "metadata": {},
   "source": [
    "# List\n",
    "\n",
    "### What is a List?\n",
    "A list in Python is like a container where you can put multiple things (items) all in one place. Imagine it as a shopping bag that can hold different types of fruits.\n",
    "\n",
    "### Why Do We Use Lists?\n",
    "We use lists when we want to keep several things together. In Python, there are four main ways to do this: `Lists, Tuples, Sets, and Dictionaries`. Each has its own special way of holding things.\n",
    "\n",
    "`Example:`\n",
    "Imagine you want to keep a list of fruits. You can use a list in Python to do that, just like this:"
   ]
  },
  {
   "cell_type": "code",
   "execution_count": null,
   "metadata": {},
   "outputs": [],
   "source": [
    "fruits = [\"apple\", \"banana\", \"cherry\"]\n",
    "print(fruits)"
   ]
  },
  {
   "cell_type": "markdown",
   "metadata": {},
   "source": [
    "Now, fruits is like your bag, and it holds these three fruits: apple, banana, and cherry.\n",
    "\n",
    "In a nutshell, a list is like a container where you can store a bunch of things together, and it's one of the four main ways to do that in Python."
   ]
  },
  {
   "cell_type": "markdown",
   "metadata": {},
   "source": [
    "## Creating Lists\n",
    "In Python, you can make lists using square brackets `[ ]`. Lists are like containers where you put things. You separate the things inside the list with commas.\n",
    "\n",
    "`Examples:`"
   ]
  },
  {
   "cell_type": "code",
   "execution_count": null,
   "metadata": {},
   "outputs": [],
   "source": [
    "#An empty list:\n",
    "empty_list = []\n",
    "\n",
    "#A list of numbers:\n",
    "number_list = [1, 2, 3, 4, 5]\n",
    "\n",
    "# A list of words:\n",
    "word_list = ['apple', 'pear', 'banana']\n",
    "\n",
    "#A list with different types of things:\n",
    "mixed_list = ['apple', 2, 1.4, 'pear', True, 'banana']"
   ]
  },
  {
   "cell_type": "markdown",
   "metadata": {},
   "source": [
    "You can also create a list using the list() function like this:"
   ]
  },
  {
   "cell_type": "code",
   "execution_count": null,
   "metadata": {},
   "outputs": [],
   "source": [
    "empty_list = list()"
   ]
  },
  {
   "cell_type": "markdown",
   "metadata": {},
   "source": [
    "In a nutshell, a list in Python is like a container where you put things, and you use square brackets to make one. You can put different types of things in a list."
   ]
  },
  {
   "cell_type": "markdown",
   "metadata": {},
   "source": [
    "# Indexing Lists\n",
    "In Python, lists are like numbered boxes, and we start counting from zero. To get something from a list, we use the box number, which is called an index, inside square brackets [ ]."
   ]
  },
  {
   "cell_type": "markdown",
   "metadata": {},
   "source": [
    "`Examples:`\n",
    "Let's say we have a list of fruits like this:"
   ]
  },
  {
   "cell_type": "code",
   "execution_count": null,
   "metadata": {},
   "outputs": [],
   "source": [
    "fruits = ['apple', 'pear', 'banana']\n",
    "\n",
    "# If we want to get the first fruit, which is 'apple', we use the index 0 because it's the first box:\n",
    "print(fruits[0])  # This will print 'apple'\n",
    "\n",
    "# If we want the second fruit, 'pear', we use the index 1 because it's the second box:\n",
    "print(fruits[1])  # This will print 'pear'\n",
    "\n",
    "# And for the third fruit, 'banana', we use index 2 because it's in the third box:\n",
    "print(fruits[2])  # This will print 'banana'"
   ]
  },
  {
   "cell_type": "markdown",
   "metadata": {},
   "source": [
    "You can also count from the end of the list using negative indexes. So, if you want the last fruit, which is 'banana', you can use -1 because it's the last box:"
   ]
  },
  {
   "cell_type": "code",
   "execution_count": null,
   "metadata": {},
   "outputs": [],
   "source": [
    "print(fruits[-1])  # This will print 'banana'\n",
    "\n",
    "#For the second-to-last fruit, 'pear', you use -2 because it's in the second-to-last box:\n",
    "print(fruits[-2])  # This will print 'pear'\n",
    "\n",
    "#And for the first fruit, 'apple', you use -3 because it's in the third-to-last box:\n",
    "print(fruits[-3])  # This will print 'apple'\n"
   ]
  },
  {
   "cell_type": "markdown",
   "metadata": {},
   "source": [
    "Remember, when using negative indexes, -1 always refers to the last item in the list."
   ]
  },
  {
   "cell_type": "markdown",
   "metadata": {},
   "source": [
    "# `Quick Assignment: Fruits Indexing`\n",
    "\n",
    "#### Instructions:\n",
    "\n",
    "1. Create a Python list named fruits that contains at least five different fruit names.\n",
    "2. Print out the second fruit in the list using indexing.\n",
    "3. Print out the last fruit in the list using negative indexing.\n",
    "4. Print out the third and fourth fruits in the list using positive indexing.\n",
    "\n",
    "Hints:\n",
    "- Use square brackets and indexes to access the elements in the list.\n",
    "- Remember that indexing starts from zero, and negative indexing counts from the end of the list."
   ]
  },
  {
   "cell_type": "code",
   "execution_count": null,
   "metadata": {},
   "outputs": [],
   "source": []
  },
  {
   "cell_type": "markdown",
   "metadata": {},
   "source": [
    "# Slicing Lists\n",
    "\n",
    "In Python, you can cut or slice a list to get only a part of it. To do this, you use the `:` symbol. You can specify a starting index and an ending index inside square brackets.\n",
    "\n",
    "`Examples:`\n"
   ]
  },
  {
   "cell_type": "code",
   "execution_count": null,
   "metadata": {},
   "outputs": [],
   "source": [
    "# 1. If you have a list of fruits like this:\n",
    "fruits = ['apple', 'pear', 'banana', 'orange', 'persimmon']\n",
    "\n",
    "# To get the first three fruits, you can use slicing like this:\n",
    "print(fruits[:3])  # This will print ['apple', 'pear', 'banana']\n",
    "\n",
    "# 2. To get the fruits starting from the third one to the end, you can use this:\n",
    "print(fruits[2:])  # This will print ['banana', 'orange', 'persimmon']\n",
    "\n",
    "# 3. If you want the second, third, and fourth fruits, you can specify both the starting and ending indexes like this:\n",
    "print(fruits[1:4])  # This will print ['pear', 'banana', 'orange']\n",
    "\n",
    "# 4. You can also use negative indexes to start counting from the end. For example, to get the last three fruits:\n",
    "print(fruits[-3:])  # This will print ['banana', 'orange', 'persimmon']\n",
    "\n",
    "# Additionally, you can specify a third argument, which is called the step size. It tells Python how many items to skip between selected elements. In this case, the step size is 2, so it skips every second element, starting from the starting index:\n",
    "print(fruits[::2])  # This will print ['apple', 'banana', 'persimmon']\n",
    "\n",
    "# So, slicing allows you to get specific parts of a list by specifying the start, end, and step size. It's like cutting a cake into slices!"
   ]
  },
  {
   "cell_type": "markdown",
   "metadata": {},
   "source": [
    "# Changing List Elements\n",
    "In Python, you can change the items in a `list` by assigning a new value to a specific index. Let's see some examples:\n",
    "\n",
    "`Example 1:`\n",
    "Suppose you have a list of fruits like this:"
   ]
  },
  {
   "cell_type": "code",
   "execution_count": null,
   "metadata": {},
   "outputs": [],
   "source": [
    "fruits = ['apple', 'pear', 'banana']"
   ]
  },
  {
   "cell_type": "markdown",
   "metadata": {},
   "source": [
    "If you want to change the second fruit 'pear' to 'avocado', you can do it like this:"
   ]
  },
  {
   "cell_type": "code",
   "execution_count": null,
   "metadata": {},
   "outputs": [],
   "source": [
    "fruits[1] = 'avocado'\n",
    "print(fruits)  # This will print ['apple', 'avocado', 'banana']\n"
   ]
  },
  {
   "cell_type": "markdown",
   "metadata": {},
   "source": [
    "You simply use the index `[1]` to access the second item and assign it the new value 'avocado'.\n",
    "\n",
    "`Example 2:`\n",
    "You can also change more than one element at a time using slicing. For instance, consider the following list of fruits:"
   ]
  },
  {
   "cell_type": "code",
   "execution_count": null,
   "metadata": {},
   "outputs": [],
   "source": [
    "fruits = ['apple', 'pear', 'banana', 'orange', 'persimmon']"
   ]
  },
  {
   "cell_type": "markdown",
   "metadata": {},
   "source": [
    "If you want to replace `'pear'`, `'banana'`, and `'orange'` with `'pineapple'` and `'mango'`, you can do it like this:"
   ]
  },
  {
   "cell_type": "code",
   "execution_count": null,
   "metadata": {},
   "outputs": [],
   "source": [
    "fruits[1:4] = ['pineapple', 'mango']\n",
    "print(fruits)  # This will print ['apple', 'pineapple', 'mango', 'persimmon']\n"
   ]
  },
  {
   "cell_type": "markdown",
   "metadata": {},
   "source": [
    "In this case, you use a slice `[1:4]` to select the elements to be changed and assign a new list `['pineapple', 'mango']` to that slice.\n",
    "So, changing list elements in Python is as simple as accessing the item you want to change by its index and assigning a new value to it. \n",
    "You can also change multiple elements at once using slicing."
   ]
  }
 ],
 "metadata": {
  "kernelspec": {
   "display_name": "Python 3",
   "language": "python",
   "name": "python3"
  },
  "language_info": {
   "codemirror_mode": {
    "name": "ipython",
    "version": 3
   },
   "file_extension": ".py",
   "mimetype": "text/x-python",
   "name": "python",
   "nbconvert_exporter": "python",
   "pygments_lexer": "ipython3",
   "version": "3.10.6"
  },
  "orig_nbformat": 4
 },
 "nbformat": 4,
 "nbformat_minor": 2
}
