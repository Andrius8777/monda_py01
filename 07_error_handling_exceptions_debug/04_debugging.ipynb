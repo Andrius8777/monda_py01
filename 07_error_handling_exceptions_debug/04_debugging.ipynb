{
 "cells": [
  {
   "cell_type": "markdown",
   "metadata": {},
   "source": [
    "# Debugging\n",
    "\n",
    "Debugging is an essential part of programming skills because it helps programmers find and fix errors in their code."
   ]
  },
  {
   "cell_type": "markdown",
   "metadata": {},
   "source": [
    "## VS Code Debugging Tools\n",
    "\n",
    "VS Code offers various tools to assist programmers in the debugging process, such as \"`Run and Debug`,\" which can be found in the left menu of VS Code.\n",
    "\n",
    "![Alt text](../images/debugging/01.jpg)"
   ]
  },
  {
   "cell_type": "markdown",
   "metadata": {},
   "source": [
    "### Run and Debug Tool\n",
    "\n",
    "Debugging involves the use of `breakpoints`, which allow you to pause the execution of your program at a specific location in your code to inspect variable values, check the program's state, or evaluate other code elements.\n",
    "\n",
    "![Alt text](../images/debugging/02.jpg)"
   ]
  },
  {
   "cell_type": "markdown",
   "metadata": {},
   "source": [
    "### Breakpoint\n",
    "\n",
    "To create a `breakpoint`, simply select the line where you want to pause the program's execution and enable the `breakpoint`. \n",
    "\n",
    "Press 'Run and Debug' and choose the Python file.\n",
    "\n",
    "![Alt text](../images/debugging/03.jpg)"
   ]
  },
  {
   "cell_type": "markdown",
   "metadata": {},
   "source": [
    "### Running Run and Debug\n",
    "\n",
    "When the program is running, it stops at the `breakpoint` line, allowing you to examine the code's state and variable values. You can then step through the program one line at a time, observing how it behaves.\n",
    "\n",
    "![Alt text](../images/debugging/04.jpg)"
   ]
  },
  {
   "cell_type": "markdown",
   "metadata": {},
   "source": [
    "## Using '`print`' for Debugging (Caveman Debug)\n",
    "\n",
    "- Using '`print`' for debugging is a simple yet effective way to find errors in your code. \n",
    "- It's often called \"`caveman debugging`\" because it's one of the oldest and simplest methods for locating errors. \n",
    "- Debugging is done simply by inserting '`print()`' statements into your code to monitor values at specific locations. \n",
    "\n",
    "**For example:**"
   ]
  },
  {
   "cell_type": "code",
   "execution_count": 1,
   "metadata": {},
   "outputs": [
    {
     "name": "stdout",
     "output_type": "stream",
     "text": [
      "a: 3\n",
      "b: 5\n",
      "result: 8\n"
     ]
    }
   ],
   "source": [
    "def sum(a, b):\n",
    "    print(\"a:\", a) # prints the value passed as argument 'a'\n",
    "    print(\"b:\", b) # prints the value passed as argument 'b'\n",
    "    return a + b\n",
    "\n",
    "result = sum(3, 5)\n",
    "print(\"result:\", result) # prints the sum's value"
   ]
  }
 ],
 "metadata": {
  "kernelspec": {
   "display_name": "Python 3",
   "language": "python",
   "name": "python3"
  },
  "language_info": {
   "codemirror_mode": {
    "name": "ipython",
    "version": 3
   },
   "file_extension": ".py",
   "mimetype": "text/x-python",
   "name": "python",
   "nbconvert_exporter": "python",
   "pygments_lexer": "ipython3",
   "version": "3.10.6"
  }
 },
 "nbformat": 4,
 "nbformat_minor": 2
}
