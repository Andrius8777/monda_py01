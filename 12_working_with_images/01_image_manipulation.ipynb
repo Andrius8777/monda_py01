{
 "cells": [
  {
   "cell_type": "markdown",
   "metadata": {},
   "source": [
    "# Pillow Library\n",
    "\n",
    "**Pillow** is a popular Python library that allows for various image manipulations. \n",
    "It is not installed by default, so we need to install it. \n",
    "\n",
    "In the terminal, execute the command:\n",
    "\n",
    "```bash\n",
    "pip install pillow"
   ]
  },
  {
   "cell_type": "markdown",
   "metadata": {},
   "source": [
    "## Resizing an Image"
   ]
  },
  {
   "cell_type": "code",
   "execution_count": null,
   "metadata": {},
   "outputs": [],
   "source": [
    "from PIL import Image\n",
    "\n",
    "image = Image.open(\"image.jpg\")\n",
    "width, height = (400, 300)\n",
    "new_size = (width, height)  # Replace \"width\" and \"height\" with desired parameters, e.g., (60, 80)\n",
    "resized_image = image.resize(new_size)\n",
    "resized_image.save(\"image_resized.jpg\")"
   ]
  },
  {
   "cell_type": "markdown",
   "metadata": {},
   "source": [
    "## Cropping an Image\n",
    "\n",
    "Note that coordinates are calculated from `left to right for X` and `from top to bottom for Y`."
   ]
  },
  {
   "cell_type": "code",
   "execution_count": 47,
   "metadata": {},
   "outputs": [],
   "source": [
    "from PIL import Image\n",
    "\n",
    "image = Image.open(\"image.jpg\")\n",
    "crop_area = (800, 300, 1100, 950)  # Define the crop area as a tuple (left, top, right, bottom)\n",
    "cropped_image = image.crop(crop_area)\n",
    "cropped_image.save(\"image_cropped.jpg\")"
   ]
  },
  {
   "cell_type": "markdown",
   "metadata": {},
   "source": [
    "- In the given code snippet, the crop area is set to `(800, 300, 1100, 950)`. This means that the cropped image will include pixels from the original image starting at x-coordinate 800 (left), y-coordinate 300 (top), up to x-coordinate 1100 (right), and down to y-coordinate 950 (bottom)."
   ]
  },
  {
   "cell_type": "markdown",
   "metadata": {},
   "source": [
    "## Creating Thumbnails"
   ]
  },
  {
   "cell_type": "code",
   "execution_count": 48,
   "metadata": {},
   "outputs": [],
   "source": [
    "image = Image.open(\"image.jpg\")\n",
    "thumbnail_size = (width, height)\n",
    "image.thumbnail(thumbnail_size)\n",
    "image.save(\"image_thumbnail.jpg\")"
   ]
  },
  {
   "cell_type": "markdown",
   "metadata": {},
   "source": [
    "## Splitting and Merging Pixels\n",
    "Images on computers are commonly stored using the `RGB color model`, where each color consists of three primary components: red (`R`), green (`G`), and blue (`B`). \n",
    "\n",
    "This example demonstrates how to separate these components and merge them back into one image."
   ]
  },
  {
   "cell_type": "code",
   "execution_count": 51,
   "metadata": {},
   "outputs": [],
   "source": [
    "from PIL import Image\n",
    "\n",
    "def split_and_merge(image):\n",
    "    image_r, image_g, image_b = image.split()\n",
    "    merged_image = Image.merge(\"RGB\", (image_r, image_g, image_b))\n",
    "    return merged_image\n",
    "\n",
    "image = Image.open(\"image.jpg\")\n",
    "merged_image = split_and_merge(image)\n",
    "merged_image.save(\"image_merged.jpg\")"
   ]
  },
  {
   "cell_type": "markdown",
   "metadata": {},
   "source": [
    "## Applying a Color Filter\n",
    "In this example, we split the image into RGB channels, apply a color filter using the `apply_color_filter` function, and then merge the updated channels into one image."
   ]
  },
  {
   "cell_type": "code",
   "execution_count": 53,
   "metadata": {},
   "outputs": [],
   "source": [
    "from PIL import Image\n",
    "\n",
    "def apply_color_filter(image_r, image_g, image_b):\n",
    "    # Increase red intensity\n",
    "    image_r = image_r.point(lambda i: i * 1.5)\n",
    "    # Decrease green intensity\n",
    "    image_g = image_g.point(lambda i: i * 0.5)\n",
    "    # Maintain blue intensity unchanged\n",
    "    image_b = image_b.point(lambda i: i)\n",
    "    return image_r, image_g, image_b\n",
    "\n",
    "def split_and_merge(image):\n",
    "    image_r, image_g, image_b = image.split()\n",
    "    image_r, image_g, image_b = apply_color_filter(image_r, image_g, image_b)\n",
    "    merged_image = Image.merge(\"RGB\", (image_r, image_g, image_b))\n",
    "    return merged_image\n",
    "\n",
    "image = Image.open(\"image.jpg\")\n",
    "merged_image = split_and_merge(image)\n",
    "merged_image.save(\"image_filtered.jpg\")\n"
   ]
  },
  {
   "cell_type": "markdown",
   "metadata": {},
   "source": [
    "## Filters\n",
    "Pillow provides various built-in effects accessible through the `ImageFilter` class."
   ]
  },
  {
   "cell_type": "code",
   "execution_count": 54,
   "metadata": {},
   "outputs": [],
   "source": [
    "from PIL import Image, ImageFilter\n",
    "\n",
    "image = Image.open(\"image.jpg\")\n",
    "blurred_image = image.filter(ImageFilter.BLUR)\n",
    "blurred_image.save(\"image_blurred.jpg\")\n",
    "\n",
    "image = Image.open(\"image.jpg\")\n",
    "contour_image = image.filter(ImageFilter.CONTOUR)\n",
    "contour_image.save(\"image_contour.jpg\")\n",
    "\n",
    "image = Image.open(\"image.jpg\")\n",
    "sharpen_image = image.filter(ImageFilter.SHARPEN)\n",
    "sharpen_image.save(\"image_sharpen.jpg\")"
   ]
  },
  {
   "cell_type": "markdown",
   "metadata": {},
   "source": [
    "For more information on different effects, [refer to the Pillow documentation](https://pillow.readthedocs.io/en/stable/reference/ImageFilter.html).\n",
    "\n",
    "## Saving an Image"
   ]
  },
  {
   "cell_type": "code",
   "execution_count": 55,
   "metadata": {},
   "outputs": [],
   "source": [
    "from PIL import Image\n",
    "\n",
    "# Open the image\n",
    "image = Image.open(\"image.jpg\")\n",
    "\n",
    "# Perform desired manipulations on the image\n",
    "# ... (manipulation code here)\n",
    "\n",
    "# Save the image with the specified name and format\n",
    "image.save(\"image_edited.png\", \"PNG\")\n"
   ]
  }
 ],
 "metadata": {
  "kernelspec": {
   "display_name": "Python 3",
   "language": "python",
   "name": "python3"
  },
  "language_info": {
   "codemirror_mode": {
    "name": "ipython",
    "version": 3
   },
   "file_extension": ".py",
   "mimetype": "text/x-python",
   "name": "python",
   "nbconvert_exporter": "python",
   "pygments_lexer": "ipython3",
   "version": "3.10.6"
  }
 },
 "nbformat": 4,
 "nbformat_minor": 2
}
