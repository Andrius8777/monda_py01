{
 "cells": [
  {
   "cell_type": "markdown",
   "metadata": {},
   "source": [
    "# JSON Library\n",
    "\n",
    "JSON (JavaScript Object Notation) is a data format used for exchanging data between a server and a client or between two different systems. JSON can be easily converted into objects in many programming languages, including Python.\n",
    "\n",
    "JSON format uses keys and values, where keys are strings, and values can be strings, numbers, Boolean values (true or false), arrays, or other JSON object structures.\n",
    "\n",
    "Here's an example of a JSON object:\n",
    "\n",
    "```json\n",
    "{\n",
    "  \"name\": \"Jonas\",\n",
    "  \"age\": 30,\n",
    "  \"is_student\": false,\n",
    "  \"hobbies\": [\"books\", \"movies\", \"travel\"],\n",
    "  \"address\": {\n",
    "    \"street\": \"Vytauto St. 10\",\n",
    "    \"city\": \"Vilnius\",\n",
    "    \"country\": \"Lithuania\"\n",
    "  }\n",
    "}\n",
    "```"
   ]
  },
  {
   "cell_type": "markdown",
   "metadata": {},
   "source": [
    "In Python, you can work with JSON data using the `json` module. This module allows you to convert Python objects such as dictionaries, lists, strings, numbers, and Boolean values into JSON format and vice versa.\n",
    "\n",
    "The main functions of the json module are:\n",
    "\n",
    "1. `json.dump()` and `json.dumps()`: Converts a Python object to JSON format.\n",
    "1. `json.load()` and `json.loads()`: Converts JSON data to a Python object."
   ]
  },
  {
   "cell_type": "markdown",
   "metadata": {},
   "source": [
    "### json.dump()\n",
    "\n",
    "This function converts a Python object to JSON format and writes it to a file. It takes two main arguments: the Python object you want to convert and the file object where you want to write the JSON data. It's commonly used with the `open()` function to open a file for writing."
   ]
  },
  {
   "cell_type": "code",
   "execution_count": null,
   "metadata": {
    "vscode": {
     "languageId": "plaintext"
    }
   },
   "outputs": [],
   "source": [
    "import json\n",
    "\n",
    "data = {\"name\": \"Jonas\", \"age\": 30}\n",
    "\n",
    "with open(\"data.json\", \"w\", encoding=\"utf-8\") as f:\n",
    "    json.dump(data, f)\n"
   ]
  }
 ],
 "metadata": {
  "language_info": {
   "name": "python"
  }
 },
 "nbformat": 4,
 "nbformat_minor": 2
}
