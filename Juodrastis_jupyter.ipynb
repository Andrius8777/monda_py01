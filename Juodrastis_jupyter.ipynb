{
 "cells": [
  {
   "cell_type": "code",
   "execution_count": 25,
   "metadata": {},
   "outputs": [
    {
     "name": "stdout",
     "output_type": "stream",
     "text": [
      "26\n"
     ]
    }
   ],
   "source": [
    "def uzduoties_pav(c, d):\n",
    "    atimitis = c - d\n",
    "    return atimitis\n",
    "\n",
    "antra_atimtis = uzduoties_pav(10, 2)\n",
    "\n",
    "def uzduoties_pav2(a, b):\n",
    "    suma = a + b\n",
    "    return suma\n",
    "pirma_suma = uzduoties_pav2(10, 8)\n",
    "\n",
    "print(antra_atimtis + pirma_suma)\n",
    "\n",
    "while True:\n",
    "    pasirinkimas = int(input('Pasirinkite'))\n",
    "        if pasirinkimas.start == 1:\n",
    "\n",
    "\n"
   ]
  }
 ],
 "metadata": {
  "kernelspec": {
   "display_name": "venv",
   "language": "python",
   "name": "python3"
  },
  "language_info": {
   "codemirror_mode": {
    "name": "ipython",
    "version": 3
   },
   "file_extension": ".py",
   "mimetype": "text/x-python",
   "name": "python",
   "nbconvert_exporter": "python",
   "pygments_lexer": "ipython3",
   "version": "3.12.1"
  }
 },
 "nbformat": 4,
 "nbformat_minor": 2
}
